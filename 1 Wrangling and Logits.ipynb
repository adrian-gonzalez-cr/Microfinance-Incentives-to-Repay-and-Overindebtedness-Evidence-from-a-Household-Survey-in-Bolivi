{
 "cells": [
  {
   "cell_type": "markdown",
   "id": "45ae8aa5",
   "metadata": {},
   "source": [
    "Author: Adrian Gonzalez\n",
    "\n",
    "Published: 2022-01-11\n",
    "\n",
    "Updated: 2022-01-13\n",
    "\n",
    "Tested in Python 3.8\n"
   ]
  },
  {
   "cell_type": "markdown",
   "id": "a702be49",
   "metadata": {},
   "source": [
    "# Goal of this notebook"
   ]
  },
  {
   "cell_type": "markdown",
   "id": "7e6bd1f3",
   "metadata": {},
   "source": [
    "The goal of this notebook is to perform some data wrangling in order to estimate two different logit models similar to the \"Logit I\" and \"Logit II\" published on my Ph.D. Dissertation on pages 150 and 156, respectively.\n",
    "\n",
    "The results from the published models were estimated using the \"xtlogit\" command from \"Stata\" Version 9 and here I show that it is not possible to obtain the same results with \"Statsmodels\" because of the panel structure of the data.  \n",
    "\n",
    "Three new models are estimated in order to show their comparability between \"Stata\" and \"Statsmodels\".\n",
    "\n",
    "The comparable models between \"Stata\" and \"Statsmodels\" are:\n",
    "\n",
    "1) \"Stata-logit\" and \"Statsmodels-Logit\", \n",
    "\n",
    "2) \"Stata-logit-robust-covariance\" and \"Statsmodels-Logit-robust-covariance\", \n",
    "\n",
    "3) \"Stata-clogit\", \"Stata-xtlogit-fe\" and \"Statsmodels-ConditionalLogit\".\n",
    "\n",
    "4) However, I couldn't find a model in Statsmodel equivalent to \"Stata-xtlogit-re\" (random effects).'\n",
    "\n",
    "For details and specific examples for each comparison, please see models Version 1, Version 2, Version 3 and Version 4 below.\n",
    "\n",
    "\n",
    "NEXT STEPS:\n",
    "\n",
    "In a separate notebook I will find best hyperparameter for SVM, Classification Trees and Logistic Regression, and compare the scores of these models with KNN."
   ]
  },
  {
   "cell_type": "markdown",
   "id": "e6c83490",
   "metadata": {},
   "source": [
    "# Data Source and using the data"
   ]
  },
  {
   "cell_type": "markdown",
   "id": "a921735b",
   "metadata": {},
   "source": [
    "All \".dta\" files used in this notebook are in \"Stata\" format, version 9.\n",
    "The data comes from a household survey of Bolivian microfinance clients for the period 1998-2001.\n",
    "\n",
    "You can use these \".dta files\" as long as you recognize their source:\n",
    "Gonzalez, Adrian (1998), \"Microfinance, Incentives to REpay and Overindebtedness: Evidence from a Household Survey in Bolivia\", unpublished Ph.D. Dissertation, Columbus, Ohio: The Ohio State University.\n",
    "\n",
    "The data structure correspond to a panel for 959 households and households are identified by the variable \"cuest\".\n"
   ]
  },
  {
   "cell_type": "markdown",
   "id": "215f5390",
   "metadata": {},
   "source": [
    "# Conventions"
   ]
  },
  {
   "cell_type": "markdown",
   "id": "4f1c61e0",
   "metadata": {},
   "source": [
    "Page references: \"p. 118\" = Page 118 of dissertation.\n",
    "\n",
    "Question references:  \"p36\" = Question 36 of the survey.  (If you are wondering why not \"q36\", the survey was in Spanish and \"question\" in spanish is \"pregunta\")."
   ]
  },
  {
   "cell_type": "markdown",
   "id": "1e448428",
   "metadata": {},
   "source": [
    "# Variable names and definitions"
   ]
  },
  {
   "cell_type": "markdown",
   "id": "b8411cf0",
   "metadata": {},
   "source": [
    "The goal of the data wrangling is to define the  variables used in the two Logit models estimated in the dissertation.\n",
    "The motivation for the use of this variables is discussed in pages 130-145 of the dissertation.\n",
    "\n",
    "The relevant variables and their definitions are:\n",
    "\n",
    "cuest           = Household id\n",
    "\n",
    "fte             = Lender id\n",
    "\n",
    "Over            = 1 if overindebted (active-30 days, active-less 30 days, inactive-less 30 days, or active 30 days or more), 0 if not overindebted               \n",
    "\n",
    "Lazy            = 1 if inactive (less 30 days, or 30 days or more), 0 if active (0 days, less 30 days, or 30 days or more)\n",
    "\n",
    "Cochabamba, El Alto, La Paz, Oruro, Santa Crux= dummies for each departmet\n",
    "\n",
    "Shocks          = 1 if household experienced a shock in the 1997-2001 period\n",
    "\n",
    "Manufacture, Commerce, Services= Dummies for main economic activity of the household\n",
    "\n",
    "Individual, Groups, Village, Others = Dummies for type of lender\n",
    "\n",
    "Term            = Term of the loan in years\n",
    "\n",
    "Lenders         = Number of active loans while loan was active\n",
    "\n",
    "Years_with_new_loans(npres97_01)= Years that received loan from lender i between 1997-2001\n",
    "\n",
    "First_timer     = 1 if last loan was only loan received\n",
    "\n",
    "Cohort_YYYY     = 1 if first_active_loan was in year== YYYY\n",
    "\n",
    "Default_First   = 1 if the household will pay last when in trouble\n",
    "\n",
    "Number_Potential_Workers(pot1460)         = Number of potential workers, 14-60 years old\n",
    "\n",
    "Commercial      =1 if household had access to comercial lenders\n",
    "\n",
    "Age_Main_Income_source = Age of the main source of income of the household\n",
    "\n",
    "Education_Average = Average of years of education per worker\n",
    "\n",
    "Diversification = Diversification index as defined on page 142\n",
    "\n",
    "Savings         = 1 if household had liquid financial savings (including cash at home)\n",
    "\n",
    "Migrants        = 1 if household received remitances. (Nota bene:  I should have call this variable Remitances, but I will keep the original name used in the dissertation)         \n",
    "\n"
   ]
  },
  {
   "cell_type": "code",
   "execution_count": 1,
   "id": "d1417b8f",
   "metadata": {},
   "outputs": [],
   "source": [
    "import pandas as pd\n",
    "import numpy as np\n",
    "import statsmodels.api as sm\n",
    "import statsmodels.tools"
   ]
  },
  {
   "cell_type": "code",
   "execution_count": 2,
   "id": "ad05ebc8",
   "metadata": {},
   "outputs": [],
   "source": [
    "from statsmodels.discrete.conditional_models import ConditionalLogit\n",
    "#importing ConditionalLogit directly because there was a bug in Statsmodel version 0.13.1 "
   ]
  },
  {
   "cell_type": "markdown",
   "id": "a7bf6447",
   "metadata": {},
   "source": [
    "# Reading Stata Files and saving them as data frames"
   ]
  },
  {
   "cell_type": "code",
   "execution_count": 3,
   "id": "42fd0ed1",
   "metadata": {},
   "outputs": [
    {
     "data": {
      "text/plain": [
       "166"
      ]
     },
     "execution_count": 3,
     "metadata": {},
     "output_type": "execute_result"
    }
   ],
   "source": [
    "file = \"C:/users/adria/downloads/over/t/acceso4 multiple sources.dta\"\n",
    "acceso4m = pd.read_stata(file, convert_categoricals = False)\n",
    "acceso4m.to_csv(\"acceso4m.csv\", index = False)\n",
    "n = acceso4m['cuest'].nunique()\n",
    "n #number of households, the number of rows can be higher because of multiple rows per household are possible"
   ]
  },
  {
   "cell_type": "code",
   "execution_count": 4,
   "id": "ecce6159",
   "metadata": {},
   "outputs": [
    {
     "data": {
      "text/plain": [
       "80"
      ]
     },
     "execution_count": 4,
     "metadata": {},
     "output_type": "execute_result"
    }
   ],
   "source": [
    "file = \"C:/users/adria/downloads/over/t/acceso4 all same.dta\"\n",
    "acceso4a = pd.read_stata(file, convert_categoricals = False)\n",
    "acceso4a.to_csv(\"acceso4a.csv\", index = False)\n",
    "n = acceso4a['cuest'].nunique()\n",
    "n #number of households, the number of rows can be higher because of multiple rows per household are possible"
   ]
  },
  {
   "cell_type": "code",
   "execution_count": 5,
   "id": "faa1f2d2",
   "metadata": {},
   "outputs": [
    {
     "data": {
      "text/plain": [
       "959"
      ]
     },
     "execution_count": 5,
     "metadata": {},
     "output_type": "execute_result"
    }
   ],
   "source": [
    "file = \"C:/users/adria/downloads/over/t/aaaregresiones5.dta\"\n",
    "aaaregresiones5 = pd.read_stata(file, convert_categoricals = False)\n",
    "aaaregresiones5.to_csv(\"aaaregresiones5.csv\", index = False)\n",
    "n = aaaregresiones5['cuest'].nunique()\n",
    "n #number of households, the number of rows can be higher because of multiple rows per household are possible"
   ]
  },
  {
   "cell_type": "code",
   "execution_count": 6,
   "id": "fbd46190",
   "metadata": {},
   "outputs": [
    {
     "data": {
      "text/plain": [
       "(6425, 209)"
      ]
     },
     "execution_count": 6,
     "metadata": {},
     "output_type": "execute_result"
    }
   ],
   "source": [
    "aaaregresiones5.shape"
   ]
  },
  {
   "cell_type": "code",
   "execution_count": 7,
   "id": "7d5d0499",
   "metadata": {},
   "outputs": [
    {
     "data": {
      "text/plain": [
       "0    5142\n",
       "1    1283\n",
       "Name: choicer5, dtype: int64"
      ]
     },
     "execution_count": 7,
     "metadata": {},
     "output_type": "execute_result"
    }
   ],
   "source": [
    "aaaregresiones5['choicer5'].value_counts(dropna=False) #dropna=False includes NaNs in tabulation"
   ]
  },
  {
   "cell_type": "code",
   "execution_count": 8,
   "id": "1b88b2b1",
   "metadata": {},
   "outputs": [
    {
     "data": {
      "text/plain": [
       "(1283, 209)"
      ]
     },
     "execution_count": 8,
     "metadata": {},
     "output_type": "execute_result"
    }
   ],
   "source": [
    "#keeping only choicer5==1\n",
    "new5=aaaregresiones5.loc[aaaregresiones5['choicer5']==1]\n",
    "new5.shape"
   ]
  },
  {
   "cell_type": "code",
   "execution_count": 9,
   "id": "9f0eb62d",
   "metadata": {},
   "outputs": [
    {
     "data": {
      "text/plain": [
       "958"
      ]
     },
     "execution_count": 9,
     "metadata": {},
     "output_type": "execute_result"
    }
   ],
   "source": [
    "n = new5['cuest'].nunique()\n",
    "n #number of households, the number of rows can be higher because of multiple rows per household are possible"
   ]
  },
  {
   "cell_type": "markdown",
   "id": "c24c9008",
   "metadata": {},
   "source": [
    "\n",
    "# Merging dataframes"
   ]
  },
  {
   "cell_type": "code",
   "execution_count": 10,
   "id": "716db497",
   "metadata": {},
   "outputs": [
    {
     "data": {
      "text/plain": [
       "(1283, 212)"
      ]
     },
     "execution_count": 10,
     "metadata": {},
     "output_type": "execute_result"
    }
   ],
   "source": [
    "#left merge keeps all the rows from new5.dta\n",
    "data = pd.merge(new5, acceso4m,  how='left', left_on=['cuest','fte'], right_on = ['cuest','fte'])\n",
    "data.shape"
   ]
  },
  {
   "cell_type": "code",
   "execution_count": 11,
   "id": "658315ac",
   "metadata": {},
   "outputs": [
    {
     "data": {
      "text/plain": [
       "(1283, 215)"
      ]
     },
     "execution_count": 11,
     "metadata": {},
     "output_type": "execute_result"
    }
   ],
   "source": [
    "#left merge keeps all the rows from new5.dta\n",
    "data = pd.merge(data, acceso4a,  how='left', left_on=['cuest'], right_on = ['cuest'])\n",
    "data.shape"
   ]
  },
  {
   "cell_type": "code",
   "execution_count": 12,
   "id": "713f8c3f",
   "metadata": {},
   "outputs": [
    {
     "data": {
      "text/plain": [
       "(1282, 215)"
      ]
     },
     "execution_count": 12,
     "metadata": {},
     "output_type": "execute_result"
    }
   ],
   "source": [
    "#dropping cuest 283 because it has issues.  This row was also removed from the dataset used in the dissertation.\n",
    "data.drop(data[data.cuest ==283].index, inplace=True)\n",
    "data.shape"
   ]
  },
  {
   "cell_type": "markdown",
   "id": "1a03af2c",
   "metadata": {},
   "source": [
    "# For comparison with  Figure 8.2, p. 118"
   ]
  },
  {
   "cell_type": "code",
   "execution_count": 13,
   "id": "2f7ea1cc",
   "metadata": {},
   "outputs": [
    {
     "data": {
      "text/plain": [
       "1282"
      ]
     },
     "execution_count": 13,
     "metadata": {},
     "output_type": "execute_result"
    }
   ],
   "source": [
    "figure8_2=194+436+398+94+134+26\n",
    "figure8_2"
   ]
  },
  {
   "cell_type": "code",
   "execution_count": 14,
   "id": "3fa26f3d",
   "metadata": {},
   "outputs": [
    {
     "data": {
      "text/plain": [
       "B    436\n",
       "C    398\n",
       "A    194\n",
       "E    134\n",
       "D     94\n",
       "F     26\n",
       "Name: six, dtype: int64"
      ]
     },
     "execution_count": 14,
     "metadata": {},
     "output_type": "execute_result"
    }
   ],
   "source": [
    "data['six'].value_counts(dropna=False)"
   ]
  },
  {
   "cell_type": "code",
   "execution_count": 15,
   "id": "33896e44",
   "metadata": {},
   "outputs": [
    {
     "data": {
      "text/plain": [
       "1282"
      ]
     },
     "execution_count": 15,
     "metadata": {},
     "output_type": "execute_result"
    }
   ],
   "source": [
    "data['six'].value_counts().sum()"
   ]
  },
  {
   "cell_type": "code",
   "execution_count": 16,
   "id": "ecad4cbb",
   "metadata": {},
   "outputs": [],
   "source": [
    "assert data['six'].value_counts().sum()>=1282"
   ]
  },
  {
   "cell_type": "markdown",
   "id": "e037efcb",
   "metadata": {},
   "source": [
    "# There are only 957 households in this dataframe as opposed to the 959 reported in the dissertation.  This is OK because of the removal of missing values"
   ]
  },
  {
   "cell_type": "code",
   "execution_count": 17,
   "id": "1945dbfd",
   "metadata": {},
   "outputs": [
    {
     "data": {
      "text/plain": [
       "957"
      ]
     },
     "execution_count": 17,
     "metadata": {},
     "output_type": "execute_result"
    }
   ],
   "source": [
    "n = data['cuest'].nunique()\n",
    "n #number of households, the number of rows can be higher because of multiple rows per household are possible"
   ]
  },
  {
   "cell_type": "code",
   "execution_count": 18,
   "id": "41e968d4",
   "metadata": {},
   "outputs": [],
   "source": [
    "assert n>=957"
   ]
  },
  {
   "cell_type": "markdown",
   "id": "da0665b3",
   "metadata": {},
   "source": [
    "# For comparison with  p. 131.\n",
    "\n",
    "Please note that it doesn't make sense to compare with p. 110 because of the removal of missing values.\n",
    "\n",
    "Santa Cruz 29%=382\n",
    "\n",
    "El Alto 29%=372, \n",
    "\n",
    "La Paz 17%=225, \n",
    "\n",
    "Cochabamba: 18%=225, \n",
    "\n",
    "Oruro 6%=78, "
   ]
  },
  {
   "cell_type": "code",
   "execution_count": 19,
   "id": "f53c8037",
   "metadata": {},
   "outputs": [
    {
     "data": {
      "text/plain": [
       "a_Cbba  a_El_Alto  a_La_Paz  a_Sta_Cruz\n",
       "0       0          0         1             382\n",
       "        1          0         0             372\n",
       "        0          1         0             225\n",
       "1       0          0         0             225\n",
       "0       0          0         0              78\n",
       "dtype: int64"
      ]
     },
     "execution_count": 19,
     "metadata": {},
     "output_type": "execute_result"
    }
   ],
   "source": [
    "data[['a_Cbba', 'a_El_Alto',   'a_La_Paz',  'a_Sta_Cruz']].value_counts(dropna=False)"
   ]
  },
  {
   "cell_type": "code",
   "execution_count": 20,
   "id": "7427b7b7",
   "metadata": {},
   "outputs": [
    {
     "data": {
      "text/plain": [
       "0    1057\n",
       "1     225\n",
       "Name: a_Cbba, dtype: int64"
      ]
     },
     "execution_count": 20,
     "metadata": {},
     "output_type": "execute_result"
    }
   ],
   "source": [
    "data['a_Cbba'].value_counts(dropna=False)"
   ]
  },
  {
   "cell_type": "code",
   "execution_count": 21,
   "id": "180024cc",
   "metadata": {},
   "outputs": [
    {
     "data": {
      "text/plain": [
       "177"
      ]
     },
     "execution_count": 21,
     "metadata": {},
     "output_type": "execute_result"
    }
   ],
   "source": [
    "data.loc[data['a_Cbba'] == 1, 'cuest_1'] = data['cuest']\n",
    "CBBA = data['cuest_1'].nunique()\n",
    "assert CBBA==177 #households, not rows\n",
    "CBBA"
   ]
  },
  {
   "cell_type": "code",
   "execution_count": 22,
   "id": "e1fdc3f4",
   "metadata": {},
   "outputs": [
    {
     "data": {
      "text/plain": [
       "281"
      ]
     },
     "execution_count": 22,
     "metadata": {},
     "output_type": "execute_result"
    }
   ],
   "source": [
    "data.loc[data['a_El_Alto'] == 1, 'cuest_2'] = data['cuest']\n",
    "EA = data['cuest_2'].nunique()\n",
    "assert EA==281 #households, not rows\n",
    "EA"
   ]
  },
  {
   "cell_type": "code",
   "execution_count": 23,
   "id": "8f490f02",
   "metadata": {},
   "outputs": [
    {
     "data": {
      "text/plain": [
       "159"
      ]
     },
     "execution_count": 23,
     "metadata": {},
     "output_type": "execute_result"
    }
   ],
   "source": [
    "data.loc[data['a_La_Paz'] == 1, 'cuest_3'] = data['cuest']\n",
    "LP = data['cuest_3'].nunique()\n",
    "assert LP>=159 #it's ok it doesn't match p. 110\n",
    "LP"
   ]
  },
  {
   "cell_type": "code",
   "execution_count": 24,
   "id": "18bc1b0a",
   "metadata": {},
   "outputs": [
    {
     "data": {
      "text/plain": [
       "58"
      ]
     },
     "execution_count": 24,
     "metadata": {},
     "output_type": "execute_result"
    }
   ],
   "source": [
    "data.loc[data['a_Oruro'] == 1, 'cuest_4'] = data['cuest']\n",
    "OR = data['cuest_4'].nunique()\n",
    "assert OR==58 #households, not rows\n",
    "OR"
   ]
  },
  {
   "cell_type": "code",
   "execution_count": 25,
   "id": "5aaa94da",
   "metadata": {},
   "outputs": [
    {
     "data": {
      "text/plain": [
       "282"
      ]
     },
     "execution_count": 25,
     "metadata": {},
     "output_type": "execute_result"
    }
   ],
   "source": [
    "data.loc[data['a_Sta_Cruz'] == 1, 'cuest_5'] = data['cuest']\n",
    "SC = data['cuest_5'].nunique()\n",
    "assert SC>=282 #it's ok it doesn't match p. 110\n",
    "SC"
   ]
  },
  {
   "cell_type": "code",
   "execution_count": 26,
   "id": "df762718",
   "metadata": {},
   "outputs": [],
   "source": [
    "data.drop(['cuest_1', 'cuest_2', 'cuest_3', 'cuest_4', 'cuest_5'], axis=1, inplace=True)"
   ]
  },
  {
   "cell_type": "markdown",
   "id": "35588b79",
   "metadata": {},
   "source": [
    "# New variable 'Indiferent' based on 'p54'"
   ]
  },
  {
   "cell_type": "code",
   "execution_count": 27,
   "id": "bd21c7c8",
   "metadata": {},
   "outputs": [
    {
     "data": {
      "text/plain": [
       "0.0    1099\n",
       "1.0     183\n",
       "Name: Indiferent, dtype: int64"
      ]
     },
     "execution_count": 27,
     "metadata": {},
     "output_type": "execute_result"
    }
   ],
   "source": [
    "data['p54'].fillna(0, inplace=True)\n",
    "data.rename(columns={\"p54\": \"Indiferent\"}, inplace=True)\n",
    "data['Indiferent'].value_counts(dropna=False)"
   ]
  },
  {
   "cell_type": "markdown",
   "id": "2c90d8d0",
   "metadata": {},
   "source": [
    "# New variable 'Default_First' based on 'rank_inverse'"
   ]
  },
  {
   "cell_type": "code",
   "execution_count": 28,
   "id": "2ee2c6c3",
   "metadata": {},
   "outputs": [
    {
     "data": {
      "text/html": [
       "<div>\n",
       "<style scoped>\n",
       "    .dataframe tbody tr th:only-of-type {\n",
       "        vertical-align: middle;\n",
       "    }\n",
       "\n",
       "    .dataframe tbody tr th {\n",
       "        vertical-align: top;\n",
       "    }\n",
       "\n",
       "    .dataframe thead th {\n",
       "        text-align: right;\n",
       "    }\n",
       "</style>\n",
       "<table border=\"1\" class=\"dataframe\">\n",
       "  <thead>\n",
       "    <tr style=\"text-align: right;\">\n",
       "      <th></th>\n",
       "      <th>rank_inverse</th>\n",
       "      <th>cuest</th>\n",
       "      <th>npres97_01</th>\n",
       "    </tr>\n",
       "  </thead>\n",
       "  <tbody>\n",
       "    <tr>\n",
       "      <th>0</th>\n",
       "      <td>NaN</td>\n",
       "      <td>2</td>\n",
       "      <td>1</td>\n",
       "    </tr>\n",
       "    <tr>\n",
       "      <th>1</th>\n",
       "      <td>2.0</td>\n",
       "      <td>3</td>\n",
       "      <td>1</td>\n",
       "    </tr>\n",
       "    <tr>\n",
       "      <th>2</th>\n",
       "      <td>1.0</td>\n",
       "      <td>3</td>\n",
       "      <td>1</td>\n",
       "    </tr>\n",
       "    <tr>\n",
       "      <th>3</th>\n",
       "      <td>NaN</td>\n",
       "      <td>4</td>\n",
       "      <td>2</td>\n",
       "    </tr>\n",
       "    <tr>\n",
       "      <th>4</th>\n",
       "      <td>NaN</td>\n",
       "      <td>5</td>\n",
       "      <td>1</td>\n",
       "    </tr>\n",
       "    <tr>\n",
       "      <th>...</th>\n",
       "      <td>...</td>\n",
       "      <td>...</td>\n",
       "      <td>...</td>\n",
       "    </tr>\n",
       "    <tr>\n",
       "      <th>1278</th>\n",
       "      <td>5.0</td>\n",
       "      <td>966</td>\n",
       "      <td>1</td>\n",
       "    </tr>\n",
       "    <tr>\n",
       "      <th>1279</th>\n",
       "      <td>2.0</td>\n",
       "      <td>970</td>\n",
       "      <td>1</td>\n",
       "    </tr>\n",
       "    <tr>\n",
       "      <th>1280</th>\n",
       "      <td>3.0</td>\n",
       "      <td>971</td>\n",
       "      <td>1</td>\n",
       "    </tr>\n",
       "    <tr>\n",
       "      <th>1281</th>\n",
       "      <td>2.0</td>\n",
       "      <td>971</td>\n",
       "      <td>2</td>\n",
       "    </tr>\n",
       "    <tr>\n",
       "      <th>1282</th>\n",
       "      <td>NaN</td>\n",
       "      <td>1293</td>\n",
       "      <td>1</td>\n",
       "    </tr>\n",
       "  </tbody>\n",
       "</table>\n",
       "<p>1282 rows × 3 columns</p>\n",
       "</div>"
      ],
      "text/plain": [
       "      rank_inverse  cuest  npres97_01\n",
       "0              NaN      2           1\n",
       "1              2.0      3           1\n",
       "2              1.0      3           1\n",
       "3              NaN      4           2\n",
       "4              NaN      5           1\n",
       "...            ...    ...         ...\n",
       "1278           5.0    966           1\n",
       "1279           2.0    970           1\n",
       "1280           3.0    971           1\n",
       "1281           2.0    971           2\n",
       "1282           NaN   1293           1\n",
       "\n",
       "[1282 rows x 3 columns]"
      ]
     },
     "execution_count": 28,
     "metadata": {},
     "output_type": "execute_result"
    }
   ],
   "source": [
    "data[['rank_inverse', 'cuest', 'npres97_01']]"
   ]
  },
  {
   "cell_type": "code",
   "execution_count": 29,
   "id": "95aedabb",
   "metadata": {},
   "outputs": [],
   "source": [
    "grouped_df = data[['rank_inverse', 'cuest']].groupby(\"cuest\")\n",
    "medianas = grouped_df.median()\n",
    "medianas.rename(columns={\"rank_inverse\": \"rank_inverse_median\"}, inplace=True)"
   ]
  },
  {
   "cell_type": "code",
   "execution_count": 30,
   "id": "68647380",
   "metadata": {},
   "outputs": [
    {
     "data": {
      "text/plain": [
       "(1282, 216)"
      ]
     },
     "execution_count": 30,
     "metadata": {},
     "output_type": "execute_result"
    }
   ],
   "source": [
    "#left merge keeps all the rows from new5.dta\n",
    "data = pd.merge(data, medianas,  how='left', left_on=['cuest'], right_on = ['cuest'])\n",
    "data.shape"
   ]
  },
  {
   "cell_type": "code",
   "execution_count": 31,
   "id": "417cef54",
   "metadata": {},
   "outputs": [],
   "source": [
    "#Default_First = 1 if rank_inverse<median\n",
    "data['Default_First']=(data['rank_inverse'] < data['rank_inverse_median']).astype(int)"
   ]
  },
  {
   "cell_type": "code",
   "execution_count": 32,
   "id": "4a3fdcb1",
   "metadata": {},
   "outputs": [
    {
     "data": {
      "text/plain": [
       "0    1102\n",
       "1     180\n",
       "Name: Default_First, dtype: int64"
      ]
     },
     "execution_count": 32,
     "metadata": {},
     "output_type": "execute_result"
    }
   ],
   "source": [
    "data['Default_First'].value_counts(dropna=False)"
   ]
  },
  {
   "cell_type": "markdown",
   "id": "54a03dcb",
   "metadata": {},
   "source": [
    "# New variable 'Over' based on 'alter'.  'Over' is the 'Y' on Table 8.6, p. 150."
   ]
  },
  {
   "cell_type": "code",
   "execution_count": 33,
   "id": "506fc172",
   "metadata": {},
   "outputs": [
    {
     "data": {
      "text/plain": [
       "1    436\n",
       "3    398\n",
       "0    194\n",
       "4    160\n",
       "2     94\n",
       "Name: alter, dtype: int64"
      ]
     },
     "execution_count": 33,
     "metadata": {},
     "output_type": "execute_result"
    }
   ],
   "source": [
    "data['alter'].value_counts(dropna=False)"
   ]
  },
  {
   "cell_type": "code",
   "execution_count": 34,
   "id": "e2dedb23",
   "metadata": {},
   "outputs": [
    {
     "data": {
      "text/plain": [
       "1.0    1088\n",
       "0.0     194\n",
       "Name: Over, dtype: int64"
      ]
     },
     "execution_count": 34,
     "metadata": {},
     "output_type": "execute_result"
    }
   ],
   "source": [
    "data.loc[data.alter == 0, 'Over'] = 0\n",
    "data['Over'].fillna(1, inplace=True)\n",
    "data['Over'].value_counts(dropna=False)"
   ]
  },
  {
   "cell_type": "code",
   "execution_count": 35,
   "id": "516b6246",
   "metadata": {},
   "outputs": [],
   "source": [
    "#OVER IS NAN WHEN SIX==F\n",
    "data.loc[data['six'] == 'F', 'Over'] = np.NaN"
   ]
  },
  {
   "cell_type": "code",
   "execution_count": 36,
   "id": "3515c421",
   "metadata": {},
   "outputs": [
    {
     "data": {
      "text/html": [
       "<div>\n",
       "<style scoped>\n",
       "    .dataframe tbody tr th:only-of-type {\n",
       "        vertical-align: middle;\n",
       "    }\n",
       "\n",
       "    .dataframe tbody tr th {\n",
       "        vertical-align: top;\n",
       "    }\n",
       "\n",
       "    .dataframe thead th {\n",
       "        text-align: right;\n",
       "    }\n",
       "</style>\n",
       "<table border=\"1\" class=\"dataframe\">\n",
       "  <thead>\n",
       "    <tr style=\"text-align: right;\">\n",
       "      <th>six</th>\n",
       "      <th>A</th>\n",
       "      <th>B</th>\n",
       "      <th>C</th>\n",
       "      <th>D</th>\n",
       "      <th>E</th>\n",
       "      <th>F</th>\n",
       "    </tr>\n",
       "    <tr>\n",
       "      <th>Over</th>\n",
       "      <th></th>\n",
       "      <th></th>\n",
       "      <th></th>\n",
       "      <th></th>\n",
       "      <th></th>\n",
       "      <th></th>\n",
       "    </tr>\n",
       "  </thead>\n",
       "  <tbody>\n",
       "    <tr>\n",
       "      <th>0.0</th>\n",
       "      <td>194</td>\n",
       "      <td>0</td>\n",
       "      <td>0</td>\n",
       "      <td>0</td>\n",
       "      <td>0</td>\n",
       "      <td>0</td>\n",
       "    </tr>\n",
       "    <tr>\n",
       "      <th>1.0</th>\n",
       "      <td>0</td>\n",
       "      <td>436</td>\n",
       "      <td>398</td>\n",
       "      <td>94</td>\n",
       "      <td>134</td>\n",
       "      <td>0</td>\n",
       "    </tr>\n",
       "  </tbody>\n",
       "</table>\n",
       "</div>"
      ],
      "text/plain": [
       "six     A    B    C   D    E  F\n",
       "Over                           \n",
       "0.0   194    0    0   0    0  0\n",
       "1.0     0  436  398  94  134  0"
      ]
     },
     "execution_count": 36,
     "metadata": {},
     "output_type": "execute_result"
    }
   ],
   "source": [
    "pd.crosstab(data['Over'], data['six'], dropna=False)"
   ]
  },
  {
   "cell_type": "code",
   "execution_count": 37,
   "id": "483e8f59",
   "metadata": {},
   "outputs": [
    {
     "data": {
      "text/plain": [
       "1.0    1062\n",
       "0.0     194\n",
       "NaN      26\n",
       "Name: Over, dtype: int64"
      ]
     },
     "execution_count": 37,
     "metadata": {},
     "output_type": "execute_result"
    }
   ],
   "source": [
    "data['Over'].value_counts(dropna=False)"
   ]
  },
  {
   "cell_type": "markdown",
   "id": "18927e06",
   "metadata": {},
   "source": [
    "# New variable 'Lazy' based on 'alter'. 'Lazy' is the 'Y\" on Table 8.8, p. 156."
   ]
  },
  {
   "cell_type": "code",
   "execution_count": 38,
   "id": "ae62a402",
   "metadata": {},
   "outputs": [
    {
     "data": {
      "text/html": [
       "<div>\n",
       "<style scoped>\n",
       "    .dataframe tbody tr th:only-of-type {\n",
       "        vertical-align: middle;\n",
       "    }\n",
       "\n",
       "    .dataframe tbody tr th {\n",
       "        vertical-align: top;\n",
       "    }\n",
       "\n",
       "    .dataframe thead th {\n",
       "        text-align: right;\n",
       "    }\n",
       "</style>\n",
       "<table border=\"1\" class=\"dataframe\">\n",
       "  <thead>\n",
       "    <tr style=\"text-align: right;\">\n",
       "      <th>alter</th>\n",
       "      <th>0</th>\n",
       "      <th>1</th>\n",
       "      <th>2</th>\n",
       "      <th>3</th>\n",
       "      <th>4</th>\n",
       "    </tr>\n",
       "    <tr>\n",
       "      <th>Lazy</th>\n",
       "      <th></th>\n",
       "      <th></th>\n",
       "      <th></th>\n",
       "      <th></th>\n",
       "      <th></th>\n",
       "    </tr>\n",
       "  </thead>\n",
       "  <tbody>\n",
       "    <tr>\n",
       "      <th>0.0</th>\n",
       "      <td>0</td>\n",
       "      <td>436</td>\n",
       "      <td>0</td>\n",
       "      <td>398</td>\n",
       "      <td>0</td>\n",
       "    </tr>\n",
       "    <tr>\n",
       "      <th>1.0</th>\n",
       "      <td>0</td>\n",
       "      <td>0</td>\n",
       "      <td>94</td>\n",
       "      <td>0</td>\n",
       "      <td>160</td>\n",
       "    </tr>\n",
       "  </tbody>\n",
       "</table>\n",
       "</div>"
      ],
      "text/plain": [
       "alter  0    1   2    3    4\n",
       "Lazy                       \n",
       "0.0    0  436   0  398    0\n",
       "1.0    0    0  94    0  160"
      ]
     },
     "execution_count": 38,
     "metadata": {},
     "output_type": "execute_result"
    }
   ],
   "source": [
    "equiv = {1:0, 3:0, 2:1, 4:1}\n",
    "data[\"Lazy\"] = data[\"alter\"].map(equiv)\n",
    "pd.crosstab(data['Lazy'], data['alter'], dropna=False)"
   ]
  },
  {
   "cell_type": "code",
   "execution_count": 39,
   "id": "60a5bad9",
   "metadata": {},
   "outputs": [
    {
     "data": {
      "text/plain": [
       "0.0    834\n",
       "1.0    254\n",
       "NaN    194\n",
       "Name: Lazy, dtype: int64"
      ]
     },
     "execution_count": 39,
     "metadata": {},
     "output_type": "execute_result"
    }
   ],
   "source": [
    "data['Lazy'].value_counts(dropna=False)"
   ]
  },
  {
   "cell_type": "code",
   "execution_count": 40,
   "id": "e8b7e908",
   "metadata": {},
   "outputs": [
    {
     "data": {
      "text/html": [
       "<div>\n",
       "<style scoped>\n",
       "    .dataframe tbody tr th:only-of-type {\n",
       "        vertical-align: middle;\n",
       "    }\n",
       "\n",
       "    .dataframe tbody tr th {\n",
       "        vertical-align: top;\n",
       "    }\n",
       "\n",
       "    .dataframe thead th {\n",
       "        text-align: right;\n",
       "    }\n",
       "</style>\n",
       "<table border=\"1\" class=\"dataframe\">\n",
       "  <thead>\n",
       "    <tr style=\"text-align: right;\">\n",
       "      <th>six</th>\n",
       "      <th>A</th>\n",
       "      <th>B</th>\n",
       "      <th>C</th>\n",
       "      <th>D</th>\n",
       "      <th>E</th>\n",
       "      <th>F</th>\n",
       "    </tr>\n",
       "    <tr>\n",
       "      <th>Lazy</th>\n",
       "      <th></th>\n",
       "      <th></th>\n",
       "      <th></th>\n",
       "      <th></th>\n",
       "      <th></th>\n",
       "      <th></th>\n",
       "    </tr>\n",
       "  </thead>\n",
       "  <tbody>\n",
       "    <tr>\n",
       "      <th>0.0</th>\n",
       "      <td>0</td>\n",
       "      <td>436</td>\n",
       "      <td>398</td>\n",
       "      <td>0</td>\n",
       "      <td>0</td>\n",
       "      <td>0</td>\n",
       "    </tr>\n",
       "    <tr>\n",
       "      <th>1.0</th>\n",
       "      <td>0</td>\n",
       "      <td>0</td>\n",
       "      <td>0</td>\n",
       "      <td>94</td>\n",
       "      <td>134</td>\n",
       "      <td>26</td>\n",
       "    </tr>\n",
       "  </tbody>\n",
       "</table>\n",
       "</div>"
      ],
      "text/plain": [
       "six   A    B    C   D    E   F\n",
       "Lazy                          \n",
       "0.0   0  436  398   0    0   0\n",
       "1.0   0    0    0  94  134  26"
      ]
     },
     "execution_count": 40,
     "metadata": {},
     "output_type": "execute_result"
    }
   ],
   "source": [
    "pd.crosstab(data['Lazy'], data['six'], dropna=False)"
   ]
  },
  {
   "cell_type": "code",
   "execution_count": 41,
   "id": "1fcd2afb",
   "metadata": {},
   "outputs": [],
   "source": [
    "#LAZY IS NAN WHEN SIX==F\n",
    "data.loc[data['six'] == 'F', 'Lazy'] = np.NaN"
   ]
  },
  {
   "cell_type": "code",
   "execution_count": 42,
   "id": "1f30d875",
   "metadata": {},
   "outputs": [
    {
     "data": {
      "text/html": [
       "<div>\n",
       "<style scoped>\n",
       "    .dataframe tbody tr th:only-of-type {\n",
       "        vertical-align: middle;\n",
       "    }\n",
       "\n",
       "    .dataframe tbody tr th {\n",
       "        vertical-align: top;\n",
       "    }\n",
       "\n",
       "    .dataframe thead th {\n",
       "        text-align: right;\n",
       "    }\n",
       "</style>\n",
       "<table border=\"1\" class=\"dataframe\">\n",
       "  <thead>\n",
       "    <tr style=\"text-align: right;\">\n",
       "      <th>six</th>\n",
       "      <th>A</th>\n",
       "      <th>B</th>\n",
       "      <th>C</th>\n",
       "      <th>D</th>\n",
       "      <th>E</th>\n",
       "      <th>F</th>\n",
       "    </tr>\n",
       "    <tr>\n",
       "      <th>Lazy</th>\n",
       "      <th></th>\n",
       "      <th></th>\n",
       "      <th></th>\n",
       "      <th></th>\n",
       "      <th></th>\n",
       "      <th></th>\n",
       "    </tr>\n",
       "  </thead>\n",
       "  <tbody>\n",
       "    <tr>\n",
       "      <th>0.0</th>\n",
       "      <td>0</td>\n",
       "      <td>436</td>\n",
       "      <td>398</td>\n",
       "      <td>0</td>\n",
       "      <td>0</td>\n",
       "      <td>0</td>\n",
       "    </tr>\n",
       "    <tr>\n",
       "      <th>1.0</th>\n",
       "      <td>0</td>\n",
       "      <td>0</td>\n",
       "      <td>0</td>\n",
       "      <td>94</td>\n",
       "      <td>134</td>\n",
       "      <td>0</td>\n",
       "    </tr>\n",
       "  </tbody>\n",
       "</table>\n",
       "</div>"
      ],
      "text/plain": [
       "six   A    B    C   D    E  F\n",
       "Lazy                         \n",
       "0.0   0  436  398   0    0  0\n",
       "1.0   0    0    0  94  134  0"
      ]
     },
     "execution_count": 42,
     "metadata": {},
     "output_type": "execute_result"
    }
   ],
   "source": [
    "pd.crosstab(data['Lazy'], data['six'], dropna=False)"
   ]
  },
  {
   "cell_type": "markdown",
   "id": "e9c7a67c",
   "metadata": {},
   "source": [
    "Lazy has been defined accordingly to model on Table 8.8, p. 156."
   ]
  },
  {
   "cell_type": "code",
   "execution_count": 43,
   "id": "8b3d5e49",
   "metadata": {},
   "outputs": [
    {
     "data": {
      "text/plain": [
       "0.0    834\n",
       "1.0    228\n",
       "NaN    220\n",
       "Name: Lazy, dtype: int64"
      ]
     },
     "execution_count": 43,
     "metadata": {},
     "output_type": "execute_result"
    }
   ],
   "source": [
    "data['Lazy'].value_counts(dropna=False)"
   ]
  },
  {
   "cell_type": "markdown",
   "id": "dad1ac94",
   "metadata": {},
   "source": [
    "# 'Oppor' based on 'altir' and 'Over'"
   ]
  },
  {
   "cell_type": "code",
   "execution_count": 44,
   "id": "a9a0b50f",
   "metadata": {},
   "outputs": [
    {
     "data": {
      "text/html": [
       "<div>\n",
       "<style scoped>\n",
       "    .dataframe tbody tr th:only-of-type {\n",
       "        vertical-align: middle;\n",
       "    }\n",
       "\n",
       "    .dataframe tbody tr th {\n",
       "        vertical-align: top;\n",
       "    }\n",
       "\n",
       "    .dataframe thead th {\n",
       "        text-align: right;\n",
       "    }\n",
       "</style>\n",
       "<table border=\"1\" class=\"dataframe\">\n",
       "  <thead>\n",
       "    <tr style=\"text-align: right;\">\n",
       "      <th>Over</th>\n",
       "      <th>0.0</th>\n",
       "      <th>1.0</th>\n",
       "    </tr>\n",
       "    <tr>\n",
       "      <th>Oppor</th>\n",
       "      <th></th>\n",
       "      <th></th>\n",
       "    </tr>\n",
       "  </thead>\n",
       "  <tbody>\n",
       "    <tr>\n",
       "      <th>0</th>\n",
       "      <td>0</td>\n",
       "      <td>928</td>\n",
       "    </tr>\n",
       "    <tr>\n",
       "      <th>1</th>\n",
       "      <td>0</td>\n",
       "      <td>134</td>\n",
       "    </tr>\n",
       "    <tr>\n",
       "      <th></th>\n",
       "      <td>194</td>\n",
       "      <td>0</td>\n",
       "    </tr>\n",
       "  </tbody>\n",
       "</table>\n",
       "</div>"
      ],
      "text/plain": [
       "Over   0.0  1.0\n",
       "Oppor          \n",
       "0        0  928\n",
       "1        0  134\n",
       "       194    0"
      ]
     },
     "execution_count": 44,
     "metadata": {},
     "output_type": "execute_result"
    }
   ],
   "source": [
    "data['Oppor']=0\n",
    "data.loc[data['altir'] == 4, 'Oppor'] = 1\n",
    "data.loc[data['Over'] == 0, 'Oppor'] = ''\n",
    "pd.crosstab(data['Oppor'], data['Over'], dropna=False)"
   ]
  },
  {
   "cell_type": "code",
   "execution_count": 45,
   "id": "c3f5e729",
   "metadata": {},
   "outputs": [
    {
     "data": {
      "text/html": [
       "<div>\n",
       "<style scoped>\n",
       "    .dataframe tbody tr th:only-of-type {\n",
       "        vertical-align: middle;\n",
       "    }\n",
       "\n",
       "    .dataframe tbody tr th {\n",
       "        vertical-align: top;\n",
       "    }\n",
       "\n",
       "    .dataframe thead th {\n",
       "        text-align: right;\n",
       "    }\n",
       "</style>\n",
       "<table border=\"1\" class=\"dataframe\">\n",
       "  <thead>\n",
       "    <tr style=\"text-align: right;\">\n",
       "      <th>Indiferent</th>\n",
       "      <th>0.0</th>\n",
       "      <th>1.0</th>\n",
       "    </tr>\n",
       "    <tr>\n",
       "      <th>Over</th>\n",
       "      <th></th>\n",
       "      <th></th>\n",
       "    </tr>\n",
       "  </thead>\n",
       "  <tbody>\n",
       "    <tr>\n",
       "      <th>0.0</th>\n",
       "      <td>173</td>\n",
       "      <td>21</td>\n",
       "    </tr>\n",
       "    <tr>\n",
       "      <th>1.0</th>\n",
       "      <td>900</td>\n",
       "      <td>162</td>\n",
       "    </tr>\n",
       "  </tbody>\n",
       "</table>\n",
       "</div>"
      ],
      "text/plain": [
       "Indiferent  0.0  1.0\n",
       "Over                \n",
       "0.0         173   21\n",
       "1.0         900  162"
      ]
     },
     "execution_count": 45,
     "metadata": {},
     "output_type": "execute_result"
    }
   ],
   "source": [
    "pd.crosstab(data['Over'], data['Indiferent'], dropna=False)"
   ]
  },
  {
   "cell_type": "code",
   "execution_count": 46,
   "id": "f6e737bd",
   "metadata": {},
   "outputs": [
    {
     "data": {
      "text/html": [
       "<div>\n",
       "<style scoped>\n",
       "    .dataframe tbody tr th:only-of-type {\n",
       "        vertical-align: middle;\n",
       "    }\n",
       "\n",
       "    .dataframe tbody tr th {\n",
       "        vertical-align: top;\n",
       "    }\n",
       "\n",
       "    .dataframe thead th {\n",
       "        text-align: right;\n",
       "    }\n",
       "</style>\n",
       "<table border=\"1\" class=\"dataframe\">\n",
       "  <thead>\n",
       "    <tr style=\"text-align: right;\">\n",
       "      <th>six</th>\n",
       "      <th>A</th>\n",
       "      <th>B</th>\n",
       "      <th>C</th>\n",
       "      <th>D</th>\n",
       "      <th>E</th>\n",
       "      <th>F</th>\n",
       "    </tr>\n",
       "    <tr>\n",
       "      <th>Over</th>\n",
       "      <th></th>\n",
       "      <th></th>\n",
       "      <th></th>\n",
       "      <th></th>\n",
       "      <th></th>\n",
       "      <th></th>\n",
       "    </tr>\n",
       "  </thead>\n",
       "  <tbody>\n",
       "    <tr>\n",
       "      <th>0.0</th>\n",
       "      <td>194</td>\n",
       "      <td>0</td>\n",
       "      <td>0</td>\n",
       "      <td>0</td>\n",
       "      <td>0</td>\n",
       "      <td>0</td>\n",
       "    </tr>\n",
       "    <tr>\n",
       "      <th>1.0</th>\n",
       "      <td>0</td>\n",
       "      <td>436</td>\n",
       "      <td>398</td>\n",
       "      <td>94</td>\n",
       "      <td>134</td>\n",
       "      <td>0</td>\n",
       "    </tr>\n",
       "  </tbody>\n",
       "</table>\n",
       "</div>"
      ],
      "text/plain": [
       "six     A    B    C   D    E  F\n",
       "Over                           \n",
       "0.0   194    0    0   0    0  0\n",
       "1.0     0  436  398  94  134  0"
      ]
     },
     "execution_count": 46,
     "metadata": {},
     "output_type": "execute_result"
    }
   ],
   "source": [
    "pd.crosstab(data['Over'], data['six'], dropna=False)"
   ]
  },
  {
   "cell_type": "code",
   "execution_count": 47,
   "id": "a541fb25",
   "metadata": {},
   "outputs": [
    {
     "data": {
      "text/html": [
       "<div>\n",
       "<style scoped>\n",
       "    .dataframe tbody tr th:only-of-type {\n",
       "        vertical-align: middle;\n",
       "    }\n",
       "\n",
       "    .dataframe tbody tr th {\n",
       "        vertical-align: top;\n",
       "    }\n",
       "\n",
       "    .dataframe thead th {\n",
       "        text-align: right;\n",
       "    }\n",
       "</style>\n",
       "<table border=\"1\" class=\"dataframe\">\n",
       "  <thead>\n",
       "    <tr style=\"text-align: right;\">\n",
       "      <th>alter</th>\n",
       "      <th>0</th>\n",
       "      <th>1</th>\n",
       "      <th>2</th>\n",
       "      <th>3</th>\n",
       "      <th>4</th>\n",
       "    </tr>\n",
       "    <tr>\n",
       "      <th>six</th>\n",
       "      <th></th>\n",
       "      <th></th>\n",
       "      <th></th>\n",
       "      <th></th>\n",
       "      <th></th>\n",
       "    </tr>\n",
       "  </thead>\n",
       "  <tbody>\n",
       "    <tr>\n",
       "      <th>A</th>\n",
       "      <td>194</td>\n",
       "      <td>0</td>\n",
       "      <td>0</td>\n",
       "      <td>0</td>\n",
       "      <td>0</td>\n",
       "    </tr>\n",
       "    <tr>\n",
       "      <th>B</th>\n",
       "      <td>0</td>\n",
       "      <td>436</td>\n",
       "      <td>0</td>\n",
       "      <td>0</td>\n",
       "      <td>0</td>\n",
       "    </tr>\n",
       "    <tr>\n",
       "      <th>C</th>\n",
       "      <td>0</td>\n",
       "      <td>0</td>\n",
       "      <td>0</td>\n",
       "      <td>398</td>\n",
       "      <td>0</td>\n",
       "    </tr>\n",
       "    <tr>\n",
       "      <th>D</th>\n",
       "      <td>0</td>\n",
       "      <td>0</td>\n",
       "      <td>94</td>\n",
       "      <td>0</td>\n",
       "      <td>0</td>\n",
       "    </tr>\n",
       "    <tr>\n",
       "      <th>E</th>\n",
       "      <td>0</td>\n",
       "      <td>0</td>\n",
       "      <td>0</td>\n",
       "      <td>0</td>\n",
       "      <td>134</td>\n",
       "    </tr>\n",
       "    <tr>\n",
       "      <th>F</th>\n",
       "      <td>0</td>\n",
       "      <td>0</td>\n",
       "      <td>0</td>\n",
       "      <td>0</td>\n",
       "      <td>26</td>\n",
       "    </tr>\n",
       "  </tbody>\n",
       "</table>\n",
       "</div>"
      ],
      "text/plain": [
       "alter    0    1   2    3    4\n",
       "six                          \n",
       "A      194    0   0    0    0\n",
       "B        0  436   0    0    0\n",
       "C        0    0   0  398    0\n",
       "D        0    0  94    0    0\n",
       "E        0    0   0    0  134\n",
       "F        0    0   0    0   26"
      ]
     },
     "execution_count": 47,
     "metadata": {},
     "output_type": "execute_result"
    }
   ],
   "source": [
    "pd.crosstab(data['six'], data['alter'], dropna=False)"
   ]
  },
  {
   "cell_type": "code",
   "execution_count": 48,
   "id": "169bb792",
   "metadata": {},
   "outputs": [
    {
     "data": {
      "text/plain": [
       "primero_recibida    int16\n",
       "ultimo_recibio      int16\n",
       "p36                  int8\n",
       "dtype: object"
      ]
     },
     "execution_count": 48,
     "metadata": {},
     "output_type": "execute_result"
    }
   ],
   "source": [
    "data[['primero_recibida', 'ultimo_recibio', 'p36']].dtypes"
   ]
  },
  {
   "cell_type": "code",
   "execution_count": 49,
   "id": "9ec0d5a7",
   "metadata": {},
   "outputs": [
    {
     "data": {
      "text/html": [
       "<div>\n",
       "<style scoped>\n",
       "    .dataframe tbody tr th:only-of-type {\n",
       "        vertical-align: middle;\n",
       "    }\n",
       "\n",
       "    .dataframe tbody tr th {\n",
       "        vertical-align: top;\n",
       "    }\n",
       "\n",
       "    .dataframe thead th {\n",
       "        text-align: right;\n",
       "    }\n",
       "</style>\n",
       "<table border=\"1\" class=\"dataframe\">\n",
       "  <thead>\n",
       "    <tr style=\"text-align: right;\">\n",
       "      <th></th>\n",
       "      <th>primero_recibida</th>\n",
       "      <th>ultimo_recibio</th>\n",
       "    </tr>\n",
       "  </thead>\n",
       "  <tbody>\n",
       "    <tr>\n",
       "      <th>count</th>\n",
       "      <td>1282.000000</td>\n",
       "      <td>1282.000000</td>\n",
       "    </tr>\n",
       "    <tr>\n",
       "      <th>mean</th>\n",
       "      <td>1998.344774</td>\n",
       "      <td>1999.195788</td>\n",
       "    </tr>\n",
       "    <tr>\n",
       "      <th>std</th>\n",
       "      <td>1.697132</td>\n",
       "      <td>1.387987</td>\n",
       "    </tr>\n",
       "    <tr>\n",
       "      <th>min</th>\n",
       "      <td>1995.000000</td>\n",
       "      <td>1997.000000</td>\n",
       "    </tr>\n",
       "    <tr>\n",
       "      <th>25%</th>\n",
       "      <td>1997.000000</td>\n",
       "      <td>1998.000000</td>\n",
       "    </tr>\n",
       "    <tr>\n",
       "      <th>50%</th>\n",
       "      <td>1998.000000</td>\n",
       "      <td>1999.000000</td>\n",
       "    </tr>\n",
       "    <tr>\n",
       "      <th>75%</th>\n",
       "      <td>2000.000000</td>\n",
       "      <td>2000.000000</td>\n",
       "    </tr>\n",
       "    <tr>\n",
       "      <th>max</th>\n",
       "      <td>2001.000000</td>\n",
       "      <td>2001.000000</td>\n",
       "    </tr>\n",
       "  </tbody>\n",
       "</table>\n",
       "</div>"
      ],
      "text/plain": [
       "       primero_recibida  ultimo_recibio\n",
       "count       1282.000000     1282.000000\n",
       "mean        1998.344774     1999.195788\n",
       "std            1.697132        1.387987\n",
       "min         1995.000000     1997.000000\n",
       "25%         1997.000000     1998.000000\n",
       "50%         1998.000000     1999.000000\n",
       "75%         2000.000000     2000.000000\n",
       "max         2001.000000     2001.000000"
      ]
     },
     "execution_count": 49,
     "metadata": {},
     "output_type": "execute_result"
    }
   ],
   "source": [
    "data[['primero_recibida', 'ultimo_recibio']].describe()"
   ]
  },
  {
   "cell_type": "code",
   "execution_count": 50,
   "id": "0462326d",
   "metadata": {},
   "outputs": [
    {
     "data": {
      "text/plain": [
       "primero_recibida    0\n",
       "ultimo_recibio      0\n",
       "npres97_01          0\n",
       "p36                 0\n",
       "dtype: int64"
      ]
     },
     "execution_count": 50,
     "metadata": {},
     "output_type": "execute_result"
    }
   ],
   "source": [
    "data[['primero_recibida', 'ultimo_recibio', 'npres97_01', 'p36']].isna().sum()"
   ]
  },
  {
   "cell_type": "code",
   "execution_count": 51,
   "id": "fb36f0eb",
   "metadata": {},
   "outputs": [],
   "source": [
    "data['First_timer']=9\n",
    "test=(data['First_timer'] == 9).all(axis=0)\n",
    "assert test==True"
   ]
  },
  {
   "cell_type": "markdown",
   "id": "3157c4b8",
   "metadata": {},
   "source": [
    "# New variable 'First-timer' based on many columns"
   ]
  },
  {
   "cell_type": "code",
   "execution_count": 52,
   "id": "97265237",
   "metadata": {},
   "outputs": [
    {
     "data": {
      "text/plain": [
       "1    816\n",
       "0    466\n",
       "Name: First_timer, dtype: int64"
      ]
     },
     "execution_count": 52,
     "metadata": {},
     "output_type": "execute_result"
    }
   ],
   "source": [
    "#First_timer \n",
    "#1 if last loan was only loan received, assume not if p36=yes, even tough years for that first loan is not reported, \n",
    "#34 cases\n",
    "\n",
    "#p36 \"Household had an active loan by January 1st, 1997\"\n",
    "# 1 Yes 2 No\n",
    "\n",
    "data['First_timer']=9\n",
    "data.loc[data['primero_recibida']<data['ultimo_recibio'], 'First_timer'] = 0\n",
    "data.loc[data['npres97_01']>1, 'First_timer'] = 0\n",
    "data.loc[(data['first_active']==data['firstever']) & (data['first_active']==data['primero_recibida']) &\n",
    "         (data['first_active']==data['ultimo_recibio']) & (data['p36']==2) & (data['First_timer']==9), 'First_timer'] = 1\n",
    "data.loc[(data['p36']==1) & (data['firstever']==1000) & (data['npres97_01']==1) & (data['First_timer']==9), 'First_timer'] = 0\n",
    "data['First_timer'].value_counts(dropna=False)"
   ]
  },
  {
   "cell_type": "code",
   "execution_count": 53,
   "id": "d504003f",
   "metadata": {},
   "outputs": [
    {
     "data": {
      "text/html": [
       "<div>\n",
       "<style scoped>\n",
       "    .dataframe tbody tr th:only-of-type {\n",
       "        vertical-align: middle;\n",
       "    }\n",
       "\n",
       "    .dataframe tbody tr th {\n",
       "        vertical-align: top;\n",
       "    }\n",
       "\n",
       "    .dataframe thead th {\n",
       "        text-align: right;\n",
       "    }\n",
       "</style>\n",
       "<table border=\"1\" class=\"dataframe\">\n",
       "  <thead>\n",
       "    <tr style=\"text-align: right;\">\n",
       "      <th>p36</th>\n",
       "      <th>1</th>\n",
       "      <th>2</th>\n",
       "    </tr>\n",
       "    <tr>\n",
       "      <th>First_timer</th>\n",
       "      <th></th>\n",
       "      <th></th>\n",
       "    </tr>\n",
       "  </thead>\n",
       "  <tbody>\n",
       "    <tr>\n",
       "      <th>0</th>\n",
       "      <td>112</td>\n",
       "      <td>354</td>\n",
       "    </tr>\n",
       "    <tr>\n",
       "      <th>1</th>\n",
       "      <td>0</td>\n",
       "      <td>816</td>\n",
       "    </tr>\n",
       "  </tbody>\n",
       "</table>\n",
       "</div>"
      ],
      "text/plain": [
       "p36            1    2\n",
       "First_timer          \n",
       "0            112  354\n",
       "1              0  816"
      ]
     },
     "execution_count": 53,
     "metadata": {},
     "output_type": "execute_result"
    }
   ],
   "source": [
    "pd.crosstab(data['First_timer'], data['p36'], dropna=False)"
   ]
  },
  {
   "cell_type": "code",
   "execution_count": 54,
   "id": "47e5ac2d",
   "metadata": {},
   "outputs": [
    {
     "name": "stdout",
     "output_type": "stream",
     "text": [
      "Test OK\n",
      "First_timer==0 when p36==1\n"
     ]
    }
   ],
   "source": [
    "data=data.reset_index(drop=False)  #need to reset index because of previous drop of 1 row\n",
    "for i in range(len(data['p36'])):\n",
    "    if data['p36'][i]==1 and i!=277:\n",
    "        assert data['First_timer'][i]==0\n",
    "print(\"Test OK\")\n",
    "print(\"First_timer==0 when p36==1\")"
   ]
  },
  {
   "cell_type": "markdown",
   "id": "eb3acda7",
   "metadata": {},
   "source": [
    "# New variable 'Arrears' based on 'atrasos'. \n",
    "For comparisong with 3rd. paragraph on p. 113."
   ]
  },
  {
   "cell_type": "code",
   "execution_count": 55,
   "id": "d347f143",
   "metadata": {},
   "outputs": [
    {
     "data": {
      "text/plain": [
       "1    630\n",
       "2    492\n",
       "3     56\n",
       "5     55\n",
       "7     49\n",
       "Name: atrasos, dtype: int64"
      ]
     },
     "execution_count": 55,
     "metadata": {},
     "output_type": "execute_result"
    }
   ],
   "source": [
    "#1=Never, 2=Less than 30, 3=More than 30, 5=Rescheduled, 7=Future\n",
    "data['atrasos'].value_counts(dropna=False)"
   ]
  },
  {
   "cell_type": "code",
   "execution_count": 56,
   "id": "1239e1c3",
   "metadata": {},
   "outputs": [
    {
     "data": {
      "text/html": [
       "<div>\n",
       "<style scoped>\n",
       "    .dataframe tbody tr th:only-of-type {\n",
       "        vertical-align: middle;\n",
       "    }\n",
       "\n",
       "    .dataframe tbody tr th {\n",
       "        vertical-align: top;\n",
       "    }\n",
       "\n",
       "    .dataframe thead th {\n",
       "        text-align: right;\n",
       "    }\n",
       "</style>\n",
       "<table border=\"1\" class=\"dataframe\">\n",
       "  <thead>\n",
       "    <tr style=\"text-align: right;\">\n",
       "      <th>atrasos</th>\n",
       "      <th>1</th>\n",
       "      <th>2</th>\n",
       "      <th>3</th>\n",
       "      <th>5</th>\n",
       "      <th>7</th>\n",
       "      <th>All</th>\n",
       "    </tr>\n",
       "    <tr>\n",
       "      <th>Arrears</th>\n",
       "      <th></th>\n",
       "      <th></th>\n",
       "      <th></th>\n",
       "      <th></th>\n",
       "      <th></th>\n",
       "      <th></th>\n",
       "    </tr>\n",
       "  </thead>\n",
       "  <tbody>\n",
       "    <tr>\n",
       "      <th>1</th>\n",
       "      <td>630</td>\n",
       "      <td>0</td>\n",
       "      <td>0</td>\n",
       "      <td>0</td>\n",
       "      <td>0</td>\n",
       "      <td>630</td>\n",
       "    </tr>\n",
       "    <tr>\n",
       "      <th>2</th>\n",
       "      <td>0</td>\n",
       "      <td>492</td>\n",
       "      <td>0</td>\n",
       "      <td>0</td>\n",
       "      <td>0</td>\n",
       "      <td>492</td>\n",
       "    </tr>\n",
       "    <tr>\n",
       "      <th>3</th>\n",
       "      <td>0</td>\n",
       "      <td>0</td>\n",
       "      <td>56</td>\n",
       "      <td>55</td>\n",
       "      <td>49</td>\n",
       "      <td>160</td>\n",
       "    </tr>\n",
       "    <tr>\n",
       "      <th>All</th>\n",
       "      <td>630</td>\n",
       "      <td>492</td>\n",
       "      <td>56</td>\n",
       "      <td>55</td>\n",
       "      <td>49</td>\n",
       "      <td>1282</td>\n",
       "    </tr>\n",
       "  </tbody>\n",
       "</table>\n",
       "</div>"
      ],
      "text/plain": [
       "atrasos    1    2   3   5   7   All\n",
       "Arrears                            \n",
       "1        630    0   0   0   0   630\n",
       "2          0  492   0   0   0   492\n",
       "3          0    0  56  55  49   160\n",
       "All      630  492  56  55  49  1282"
      ]
     },
     "execution_count": 56,
     "metadata": {},
     "output_type": "execute_result"
    }
   ],
   "source": [
    "equiv = {1:1, 2:2, 3:3, 4:3, 5:3, 7:3}\n",
    "data[\"Arrears\"] = data[\"atrasos\"].map(equiv)\n",
    "#arrears 1 0 Days, 2 Less 30 Days, 3 More 30 Days\n",
    "pd.crosstab(data['Arrears'], data['atrasos'], margins=True, dropna=False)"
   ]
  },
  {
   "cell_type": "markdown",
   "id": "9f739b5c",
   "metadata": {},
   "source": [
    "# Recoding some dummies by type of lender"
   ]
  },
  {
   "cell_type": "code",
   "execution_count": 57,
   "id": "f649eac6",
   "metadata": {},
   "outputs": [
    {
     "data": {
      "text/plain": [
       "0    897\n",
       "1    385\n",
       "Name: st_Groups, dtype: int64"
      ]
     },
     "execution_count": 57,
     "metadata": {},
     "output_type": "execute_result"
    }
   ],
   "source": [
    "data['st_Groups'].value_counts(dropna=False)"
   ]
  },
  {
   "cell_type": "code",
   "execution_count": 58,
   "id": "d9bc45fe",
   "metadata": {},
   "outputs": [
    {
     "data": {
      "text/plain": [
       "0    646\n",
       "1    636\n",
       "Name: st_MFOs, dtype: int64"
      ]
     },
     "execution_count": 58,
     "metadata": {},
     "output_type": "execute_result"
    }
   ],
   "source": [
    "data['st_MFOs'].value_counts(dropna=False)"
   ]
  },
  {
   "cell_type": "code",
   "execution_count": 59,
   "id": "af11821d",
   "metadata": {},
   "outputs": [
    {
     "data": {
      "text/html": [
       "<div>\n",
       "<style scoped>\n",
       "    .dataframe tbody tr th:only-of-type {\n",
       "        vertical-align: middle;\n",
       "    }\n",
       "\n",
       "    .dataframe tbody tr th {\n",
       "        vertical-align: top;\n",
       "    }\n",
       "\n",
       "    .dataframe thead th {\n",
       "        text-align: right;\n",
       "    }\n",
       "</style>\n",
       "<table border=\"1\" class=\"dataframe\">\n",
       "  <thead>\n",
       "    <tr style=\"text-align: right;\">\n",
       "      <th>st_MFOs</th>\n",
       "      <th>0</th>\n",
       "      <th>1</th>\n",
       "    </tr>\n",
       "    <tr>\n",
       "      <th>st_Groups</th>\n",
       "      <th></th>\n",
       "      <th></th>\n",
       "    </tr>\n",
       "  </thead>\n",
       "  <tbody>\n",
       "    <tr>\n",
       "      <th>0</th>\n",
       "      <td>646</td>\n",
       "      <td>251</td>\n",
       "    </tr>\n",
       "    <tr>\n",
       "      <th>1</th>\n",
       "      <td>0</td>\n",
       "      <td>385</td>\n",
       "    </tr>\n",
       "  </tbody>\n",
       "</table>\n",
       "</div>"
      ],
      "text/plain": [
       "st_MFOs      0    1\n",
       "st_Groups          \n",
       "0          646  251\n",
       "1            0  385"
      ]
     },
     "execution_count": 59,
     "metadata": {},
     "output_type": "execute_result"
    }
   ],
   "source": [
    "pd.crosstab(data['st_Groups'], data['st_MFOs'], dropna=False)"
   ]
  },
  {
   "cell_type": "code",
   "execution_count": 60,
   "id": "c6237ff3",
   "metadata": {},
   "outputs": [
    {
     "data": {
      "text/html": [
       "<div>\n",
       "<style scoped>\n",
       "    .dataframe tbody tr th:only-of-type {\n",
       "        vertical-align: middle;\n",
       "    }\n",
       "\n",
       "    .dataframe tbody tr th {\n",
       "        vertical-align: top;\n",
       "    }\n",
       "\n",
       "    .dataframe thead th {\n",
       "        text-align: right;\n",
       "    }\n",
       "</style>\n",
       "<table border=\"1\" class=\"dataframe\">\n",
       "  <thead>\n",
       "    <tr style=\"text-align: right;\">\n",
       "      <th>st_MFOs_FFPs_Indiv</th>\n",
       "      <th>0</th>\n",
       "      <th>1</th>\n",
       "    </tr>\n",
       "    <tr>\n",
       "      <th>st_Groups_BSOL_PRODEM</th>\n",
       "      <th></th>\n",
       "      <th></th>\n",
       "    </tr>\n",
       "  </thead>\n",
       "  <tbody>\n",
       "    <tr>\n",
       "      <th>0</th>\n",
       "      <td>646</td>\n",
       "      <td>251</td>\n",
       "    </tr>\n",
       "    <tr>\n",
       "      <th>1</th>\n",
       "      <td>385</td>\n",
       "      <td>0</td>\n",
       "    </tr>\n",
       "  </tbody>\n",
       "</table>\n",
       "</div>"
      ],
      "text/plain": [
       "st_MFOs_FFPs_Indiv       0    1\n",
       "st_Groups_BSOL_PRODEM          \n",
       "0                      646  251\n",
       "1                      385    0"
      ]
     },
     "execution_count": 60,
     "metadata": {},
     "output_type": "execute_result"
    }
   ],
   "source": [
    "data.rename(columns={\"st_MFOs\": \"st_MFOs_FFPs_Indiv\", \"st_Groups\": \"st_Groups_BSOL_PRODEM\", \"st_VillBank\": \"st_Village\"}, inplace=True)\n",
    "data.loc[data['st_Groups_BSOL_PRODEM']==1, 'st_MFOs_FFPs_Indiv']=0\n",
    "pd.crosstab(data['st_Groups_BSOL_PRODEM'], data['st_MFOs_FFPs_Indiv'], dropna=False)"
   ]
  },
  {
   "cell_type": "code",
   "execution_count": 61,
   "id": "f2f6e699",
   "metadata": {},
   "outputs": [
    {
     "data": {
      "text/html": [
       "<div>\n",
       "<style scoped>\n",
       "    .dataframe tbody tr th:only-of-type {\n",
       "        vertical-align: middle;\n",
       "    }\n",
       "\n",
       "    .dataframe tbody tr th {\n",
       "        vertical-align: top;\n",
       "    }\n",
       "\n",
       "    .dataframe thead th {\n",
       "        text-align: right;\n",
       "    }\n",
       "</style>\n",
       "<table border=\"1\" class=\"dataframe\">\n",
       "  <thead>\n",
       "    <tr style=\"text-align: right;\">\n",
       "      <th></th>\n",
       "      <th>st_Others</th>\n",
       "      <th>fte</th>\n",
       "      <th>tfte</th>\n",
       "    </tr>\n",
       "  </thead>\n",
       "  <tbody>\n",
       "    <tr>\n",
       "      <th>83</th>\n",
       "      <td>1</td>\n",
       "      <td>65</td>\n",
       "      <td>6</td>\n",
       "    </tr>\n",
       "    <tr>\n",
       "      <th>169</th>\n",
       "      <td>1</td>\n",
       "      <td>26</td>\n",
       "      <td>3</td>\n",
       "    </tr>\n",
       "    <tr>\n",
       "      <th>242</th>\n",
       "      <td>1</td>\n",
       "      <td>7</td>\n",
       "      <td>6</td>\n",
       "    </tr>\n",
       "    <tr>\n",
       "      <th>302</th>\n",
       "      <td>1</td>\n",
       "      <td>46</td>\n",
       "      <td>5</td>\n",
       "    </tr>\n",
       "    <tr>\n",
       "      <th>308</th>\n",
       "      <td>1</td>\n",
       "      <td>7</td>\n",
       "      <td>6</td>\n",
       "    </tr>\n",
       "    <tr>\n",
       "      <th>...</th>\n",
       "      <td>...</td>\n",
       "      <td>...</td>\n",
       "      <td>...</td>\n",
       "    </tr>\n",
       "    <tr>\n",
       "      <th>1270</th>\n",
       "      <td>1</td>\n",
       "      <td>47</td>\n",
       "      <td>5</td>\n",
       "    </tr>\n",
       "    <tr>\n",
       "      <th>1274</th>\n",
       "      <td>1</td>\n",
       "      <td>56</td>\n",
       "      <td>5</td>\n",
       "    </tr>\n",
       "    <tr>\n",
       "      <th>1275</th>\n",
       "      <td>1</td>\n",
       "      <td>42</td>\n",
       "      <td>5</td>\n",
       "    </tr>\n",
       "    <tr>\n",
       "      <th>1280</th>\n",
       "      <td>1</td>\n",
       "      <td>50</td>\n",
       "      <td>5</td>\n",
       "    </tr>\n",
       "    <tr>\n",
       "      <th>1281</th>\n",
       "      <td>1</td>\n",
       "      <td>39</td>\n",
       "      <td>5</td>\n",
       "    </tr>\n",
       "  </tbody>\n",
       "</table>\n",
       "<p>262 rows × 3 columns</p>\n",
       "</div>"
      ],
      "text/plain": [
       "      st_Others  fte  tfte\n",
       "83            1   65     6\n",
       "169           1   26     3\n",
       "242           1    7     6\n",
       "302           1   46     5\n",
       "308           1    7     6\n",
       "...         ...  ...   ...\n",
       "1270          1   47     5\n",
       "1274          1   56     5\n",
       "1275          1   42     5\n",
       "1280          1   50     5\n",
       "1281          1   39     5\n",
       "\n",
       "[262 rows x 3 columns]"
      ]
     },
     "execution_count": 61,
     "metadata": {},
     "output_type": "execute_result"
    }
   ],
   "source": [
    "data['st_Others']=0\n",
    "data.loc[(data['tfte']!=0) & (data['tfte']!=1) & \n",
    "         (data['tfte']!=2) & (data['tfte']!=3) & (data['tfte']!=4), 'st_Others'] = 1\n",
    "data.loc[(data['tfte']==3) & (data['fte']!=13) & (data['fte']!=14), 'st_Others'] = 1 #CRECER and ProMujer\n",
    "data[['st_Others', 'fte', 'tfte']].loc[data['st_Others']==1]"
   ]
  },
  {
   "cell_type": "code",
   "execution_count": 62,
   "id": "a039d7c6",
   "metadata": {},
   "outputs": [],
   "source": [
    "#tfte 0 Groups 1 Individual 2 Consumo 3 ONG 4 Village 5 Cooperativas 6 Banca\n",
    "data.loc[data['st_Groups_BSOL_PRODEM']==1, 'tfte']=0\n",
    "data.loc[data['st_Village']==1, 'tfte']=4\n",
    "labels = {0:\"Groups\", 1:\"Individual\", 2:\"Consumption\", 3:\"NGOs\", 4:\"Village\", 5:\"Coops\", 6: \"Banks\"}\n",
    "data[\"tfte\"] = data[\"tfte\"].map(labels)"
   ]
  },
  {
   "cell_type": "code",
   "execution_count": 63,
   "id": "c949cfd2",
   "metadata": {},
   "outputs": [
    {
     "data": {
      "text/plain": [
       "Groups         385\n",
       "Individual     251\n",
       "Consumption    242\n",
       "Coops          166\n",
       "Village        142\n",
       "NGOs            60\n",
       "Banks           36\n",
       "Name: tfte, dtype: int64"
      ]
     },
     "execution_count": 63,
     "metadata": {},
     "output_type": "execute_result"
    }
   ],
   "source": [
    "data['tfte'].value_counts(dropna=False)"
   ]
  },
  {
   "cell_type": "code",
   "execution_count": 64,
   "id": "8c9bb601",
   "metadata": {},
   "outputs": [
    {
     "data": {
      "text/plain": [
       "1282"
      ]
     },
     "execution_count": 64,
     "metadata": {},
     "output_type": "execute_result"
    }
   ],
   "source": [
    "data['tfte'].value_counts(dropna=False).sum()"
   ]
  },
  {
   "cell_type": "code",
   "execution_count": 65,
   "id": "33ca796c",
   "metadata": {},
   "outputs": [
    {
     "data": {
      "text/plain": [
       "Groups         0.300312\n",
       "Individual     0.195788\n",
       "Consumption    0.188768\n",
       "Coops          0.129485\n",
       "Village        0.110764\n",
       "NGOs           0.046802\n",
       "Banks          0.028081\n",
       "Name: tfte, dtype: float64"
      ]
     },
     "execution_count": 65,
     "metadata": {},
     "output_type": "execute_result"
    }
   ],
   "source": [
    "data['tfte'].value_counts(normalize=True)"
   ]
  },
  {
   "cell_type": "code",
   "execution_count": 66,
   "id": "28f0b047",
   "metadata": {},
   "outputs": [
    {
     "data": {
      "text/plain": [
       "0    1031\n",
       "1     251\n",
       "Name: st_MFOs_FFPs_Indiv, dtype: int64"
      ]
     },
     "execution_count": 66,
     "metadata": {},
     "output_type": "execute_result"
    }
   ],
   "source": [
    "data['st_MFOs_FFPs_Indiv'].value_counts(dropna=False)"
   ]
  },
  {
   "cell_type": "code",
   "execution_count": 67,
   "id": "fa648d11",
   "metadata": {},
   "outputs": [
    {
     "data": {
      "text/plain": [
       "st_MFOs_FFPs_Indiv  st_CONS  st_Groups_BSOL_PRODEM  st_Village  st_Others\n",
       "0                   0        1                      0           0            385\n",
       "                             0                      0           1            262\n",
       "1                   0        0                      0           0            251\n",
       "0                   1        0                      0           0            242\n",
       "                    0        0                      1           0            142\n",
       "dtype: int64"
      ]
     },
     "execution_count": 67,
     "metadata": {},
     "output_type": "execute_result"
    }
   ],
   "source": [
    "data[['st_MFOs_FFPs_Indiv', 'st_CONS', 'st_Groups_BSOL_PRODEM', 'st_Village', 'st_Others']].value_counts(dropna=False)"
   ]
  },
  {
   "cell_type": "code",
   "execution_count": 68,
   "id": "b5b57147",
   "metadata": {},
   "outputs": [
    {
     "data": {
      "text/html": [
       "<div>\n",
       "<style scoped>\n",
       "    .dataframe tbody tr th:only-of-type {\n",
       "        vertical-align: middle;\n",
       "    }\n",
       "\n",
       "    .dataframe tbody tr th {\n",
       "        vertical-align: top;\n",
       "    }\n",
       "\n",
       "    .dataframe thead th {\n",
       "        text-align: right;\n",
       "    }\n",
       "</style>\n",
       "<table border=\"1\" class=\"dataframe\">\n",
       "  <thead>\n",
       "    <tr style=\"text-align: right;\">\n",
       "      <th>tfte</th>\n",
       "      <th>Banks</th>\n",
       "      <th>Consumption</th>\n",
       "      <th>Coops</th>\n",
       "      <th>Groups</th>\n",
       "      <th>Individual</th>\n",
       "      <th>NGOs</th>\n",
       "      <th>Village</th>\n",
       "    </tr>\n",
       "    <tr>\n",
       "      <th>st_MFOs_FFPs_Indiv</th>\n",
       "      <th></th>\n",
       "      <th></th>\n",
       "      <th></th>\n",
       "      <th></th>\n",
       "      <th></th>\n",
       "      <th></th>\n",
       "      <th></th>\n",
       "    </tr>\n",
       "  </thead>\n",
       "  <tbody>\n",
       "    <tr>\n",
       "      <th>0</th>\n",
       "      <td>36</td>\n",
       "      <td>242</td>\n",
       "      <td>166</td>\n",
       "      <td>385</td>\n",
       "      <td>0</td>\n",
       "      <td>60</td>\n",
       "      <td>142</td>\n",
       "    </tr>\n",
       "    <tr>\n",
       "      <th>1</th>\n",
       "      <td>0</td>\n",
       "      <td>0</td>\n",
       "      <td>0</td>\n",
       "      <td>0</td>\n",
       "      <td>251</td>\n",
       "      <td>0</td>\n",
       "      <td>0</td>\n",
       "    </tr>\n",
       "  </tbody>\n",
       "</table>\n",
       "</div>"
      ],
      "text/plain": [
       "tfte                Banks  Consumption  Coops  Groups  Individual  NGOs  \\\n",
       "st_MFOs_FFPs_Indiv                                                        \n",
       "0                      36          242    166     385           0    60   \n",
       "1                       0            0      0       0         251     0   \n",
       "\n",
       "tfte                Village  \n",
       "st_MFOs_FFPs_Indiv           \n",
       "0                       142  \n",
       "1                         0  "
      ]
     },
     "execution_count": 68,
     "metadata": {},
     "output_type": "execute_result"
    }
   ],
   "source": [
    "pd.crosstab(data['st_MFOs_FFPs_Indiv'], data['tfte'], dropna=False)"
   ]
  },
  {
   "cell_type": "code",
   "execution_count": 69,
   "id": "bee222be",
   "metadata": {},
   "outputs": [
    {
     "data": {
      "text/html": [
       "<div>\n",
       "<style scoped>\n",
       "    .dataframe tbody tr th:only-of-type {\n",
       "        vertical-align: middle;\n",
       "    }\n",
       "\n",
       "    .dataframe tbody tr th {\n",
       "        vertical-align: top;\n",
       "    }\n",
       "\n",
       "    .dataframe thead th {\n",
       "        text-align: right;\n",
       "    }\n",
       "</style>\n",
       "<table border=\"1\" class=\"dataframe\">\n",
       "  <thead>\n",
       "    <tr style=\"text-align: right;\">\n",
       "      <th>tfte</th>\n",
       "      <th>Banks</th>\n",
       "      <th>Consumption</th>\n",
       "      <th>Coops</th>\n",
       "      <th>Groups</th>\n",
       "      <th>Individual</th>\n",
       "      <th>NGOs</th>\n",
       "      <th>Village</th>\n",
       "    </tr>\n",
       "    <tr>\n",
       "      <th>st_Groups_BSOL_PRODEM</th>\n",
       "      <th></th>\n",
       "      <th></th>\n",
       "      <th></th>\n",
       "      <th></th>\n",
       "      <th></th>\n",
       "      <th></th>\n",
       "      <th></th>\n",
       "    </tr>\n",
       "  </thead>\n",
       "  <tbody>\n",
       "    <tr>\n",
       "      <th>0</th>\n",
       "      <td>36</td>\n",
       "      <td>242</td>\n",
       "      <td>166</td>\n",
       "      <td>0</td>\n",
       "      <td>251</td>\n",
       "      <td>60</td>\n",
       "      <td>142</td>\n",
       "    </tr>\n",
       "    <tr>\n",
       "      <th>1</th>\n",
       "      <td>0</td>\n",
       "      <td>0</td>\n",
       "      <td>0</td>\n",
       "      <td>385</td>\n",
       "      <td>0</td>\n",
       "      <td>0</td>\n",
       "      <td>0</td>\n",
       "    </tr>\n",
       "  </tbody>\n",
       "</table>\n",
       "</div>"
      ],
      "text/plain": [
       "tfte                   Banks  Consumption  Coops  Groups  Individual  NGOs  \\\n",
       "st_Groups_BSOL_PRODEM                                                        \n",
       "0                         36          242    166       0         251    60   \n",
       "1                          0            0      0     385           0     0   \n",
       "\n",
       "tfte                   Village  \n",
       "st_Groups_BSOL_PRODEM           \n",
       "0                          142  \n",
       "1                            0  "
      ]
     },
     "execution_count": 69,
     "metadata": {},
     "output_type": "execute_result"
    }
   ],
   "source": [
    "pd.crosstab(data['st_Groups_BSOL_PRODEM'], data['tfte'], dropna=False)"
   ]
  },
  {
   "cell_type": "code",
   "execution_count": 70,
   "id": "26a75bca",
   "metadata": {},
   "outputs": [
    {
     "data": {
      "text/html": [
       "<div>\n",
       "<style scoped>\n",
       "    .dataframe tbody tr th:only-of-type {\n",
       "        vertical-align: middle;\n",
       "    }\n",
       "\n",
       "    .dataframe tbody tr th {\n",
       "        vertical-align: top;\n",
       "    }\n",
       "\n",
       "    .dataframe thead th {\n",
       "        text-align: right;\n",
       "    }\n",
       "</style>\n",
       "<table border=\"1\" class=\"dataframe\">\n",
       "  <thead>\n",
       "    <tr style=\"text-align: right;\">\n",
       "      <th>tfte</th>\n",
       "      <th>Banks</th>\n",
       "      <th>Consumption</th>\n",
       "      <th>Coops</th>\n",
       "      <th>Groups</th>\n",
       "      <th>Individual</th>\n",
       "      <th>NGOs</th>\n",
       "      <th>Village</th>\n",
       "    </tr>\n",
       "    <tr>\n",
       "      <th>st_CONS</th>\n",
       "      <th></th>\n",
       "      <th></th>\n",
       "      <th></th>\n",
       "      <th></th>\n",
       "      <th></th>\n",
       "      <th></th>\n",
       "      <th></th>\n",
       "    </tr>\n",
       "  </thead>\n",
       "  <tbody>\n",
       "    <tr>\n",
       "      <th>0</th>\n",
       "      <td>36</td>\n",
       "      <td>0</td>\n",
       "      <td>166</td>\n",
       "      <td>385</td>\n",
       "      <td>251</td>\n",
       "      <td>60</td>\n",
       "      <td>142</td>\n",
       "    </tr>\n",
       "    <tr>\n",
       "      <th>1</th>\n",
       "      <td>0</td>\n",
       "      <td>242</td>\n",
       "      <td>0</td>\n",
       "      <td>0</td>\n",
       "      <td>0</td>\n",
       "      <td>0</td>\n",
       "      <td>0</td>\n",
       "    </tr>\n",
       "  </tbody>\n",
       "</table>\n",
       "</div>"
      ],
      "text/plain": [
       "tfte     Banks  Consumption  Coops  Groups  Individual  NGOs  Village\n",
       "st_CONS                                                              \n",
       "0           36            0    166     385         251    60      142\n",
       "1            0          242      0       0           0     0        0"
      ]
     },
     "execution_count": 70,
     "metadata": {},
     "output_type": "execute_result"
    }
   ],
   "source": [
    "pd.crosstab(data['st_CONS'], data['tfte'], dropna=False)"
   ]
  },
  {
   "cell_type": "code",
   "execution_count": 71,
   "id": "28edc1e4",
   "metadata": {},
   "outputs": [
    {
     "data": {
      "text/html": [
       "<div>\n",
       "<style scoped>\n",
       "    .dataframe tbody tr th:only-of-type {\n",
       "        vertical-align: middle;\n",
       "    }\n",
       "\n",
       "    .dataframe tbody tr th {\n",
       "        vertical-align: top;\n",
       "    }\n",
       "\n",
       "    .dataframe thead th {\n",
       "        text-align: right;\n",
       "    }\n",
       "</style>\n",
       "<table border=\"1\" class=\"dataframe\">\n",
       "  <thead>\n",
       "    <tr style=\"text-align: right;\">\n",
       "      <th>tfte</th>\n",
       "      <th>Banks</th>\n",
       "      <th>Consumption</th>\n",
       "      <th>Coops</th>\n",
       "      <th>Groups</th>\n",
       "      <th>Individual</th>\n",
       "      <th>NGOs</th>\n",
       "      <th>Village</th>\n",
       "    </tr>\n",
       "    <tr>\n",
       "      <th>st_Village</th>\n",
       "      <th></th>\n",
       "      <th></th>\n",
       "      <th></th>\n",
       "      <th></th>\n",
       "      <th></th>\n",
       "      <th></th>\n",
       "      <th></th>\n",
       "    </tr>\n",
       "  </thead>\n",
       "  <tbody>\n",
       "    <tr>\n",
       "      <th>0</th>\n",
       "      <td>36</td>\n",
       "      <td>242</td>\n",
       "      <td>166</td>\n",
       "      <td>385</td>\n",
       "      <td>251</td>\n",
       "      <td>60</td>\n",
       "      <td>0</td>\n",
       "    </tr>\n",
       "    <tr>\n",
       "      <th>1</th>\n",
       "      <td>0</td>\n",
       "      <td>0</td>\n",
       "      <td>0</td>\n",
       "      <td>0</td>\n",
       "      <td>0</td>\n",
       "      <td>0</td>\n",
       "      <td>142</td>\n",
       "    </tr>\n",
       "  </tbody>\n",
       "</table>\n",
       "</div>"
      ],
      "text/plain": [
       "tfte        Banks  Consumption  Coops  Groups  Individual  NGOs  Village\n",
       "st_Village                                                              \n",
       "0              36          242    166     385         251    60        0\n",
       "1               0            0      0       0           0     0      142"
      ]
     },
     "execution_count": 71,
     "metadata": {},
     "output_type": "execute_result"
    }
   ],
   "source": [
    "pd.crosstab(data['st_Village'], data['tfte'], dropna=False)"
   ]
  },
  {
   "cell_type": "code",
   "execution_count": 72,
   "id": "85768ce7",
   "metadata": {},
   "outputs": [
    {
     "data": {
      "text/html": [
       "<div>\n",
       "<style scoped>\n",
       "    .dataframe tbody tr th:only-of-type {\n",
       "        vertical-align: middle;\n",
       "    }\n",
       "\n",
       "    .dataframe tbody tr th {\n",
       "        vertical-align: top;\n",
       "    }\n",
       "\n",
       "    .dataframe thead th {\n",
       "        text-align: right;\n",
       "    }\n",
       "</style>\n",
       "<table border=\"1\" class=\"dataframe\">\n",
       "  <thead>\n",
       "    <tr style=\"text-align: right;\">\n",
       "      <th>tfte</th>\n",
       "      <th>Banks</th>\n",
       "      <th>Consumption</th>\n",
       "      <th>Coops</th>\n",
       "      <th>Groups</th>\n",
       "      <th>Individual</th>\n",
       "      <th>NGOs</th>\n",
       "      <th>Village</th>\n",
       "    </tr>\n",
       "    <tr>\n",
       "      <th>st_Others</th>\n",
       "      <th></th>\n",
       "      <th></th>\n",
       "      <th></th>\n",
       "      <th></th>\n",
       "      <th></th>\n",
       "      <th></th>\n",
       "      <th></th>\n",
       "    </tr>\n",
       "  </thead>\n",
       "  <tbody>\n",
       "    <tr>\n",
       "      <th>0</th>\n",
       "      <td>0</td>\n",
       "      <td>242</td>\n",
       "      <td>0</td>\n",
       "      <td>385</td>\n",
       "      <td>251</td>\n",
       "      <td>0</td>\n",
       "      <td>142</td>\n",
       "    </tr>\n",
       "    <tr>\n",
       "      <th>1</th>\n",
       "      <td>36</td>\n",
       "      <td>0</td>\n",
       "      <td>166</td>\n",
       "      <td>0</td>\n",
       "      <td>0</td>\n",
       "      <td>60</td>\n",
       "      <td>0</td>\n",
       "    </tr>\n",
       "  </tbody>\n",
       "</table>\n",
       "</div>"
      ],
      "text/plain": [
       "tfte       Banks  Consumption  Coops  Groups  Individual  NGOs  Village\n",
       "st_Others                                                              \n",
       "0              0          242      0     385         251     0      142\n",
       "1             36            0    166       0           0    60        0"
      ]
     },
     "execution_count": 72,
     "metadata": {},
     "output_type": "execute_result"
    }
   ],
   "source": [
    "pd.crosstab(data['st_Others'], data['tfte'], dropna=False)"
   ]
  },
  {
   "cell_type": "code",
   "execution_count": 73,
   "id": "0ae81fe5",
   "metadata": {},
   "outputs": [
    {
     "data": {
      "text/plain": [
       "233"
      ]
     },
     "execution_count": 73,
     "metadata": {},
     "output_type": "execute_result"
    }
   ],
   "source": [
    "data.loc[data['st_MFOs_FFPs_Indiv'] == 1, 'cuest_1'] = data['cuest']\n",
    "mfos = data['cuest_1'].nunique()\n",
    "assert mfos==233\n",
    "mfos"
   ]
  },
  {
   "cell_type": "code",
   "execution_count": 74,
   "id": "f1a26bca",
   "metadata": {},
   "outputs": [
    {
     "data": {
      "text/plain": [
       "217"
      ]
     },
     "execution_count": 74,
     "metadata": {},
     "output_type": "execute_result"
    }
   ],
   "source": [
    "data.loc[data['st_CONS'] == 1, 'cuest_2'] = data['cuest']\n",
    "cons = data['cuest_2'].nunique()\n",
    "assert cons==217\n",
    "cons"
   ]
  },
  {
   "cell_type": "code",
   "execution_count": 75,
   "id": "2d0fea64",
   "metadata": {},
   "outputs": [
    {
     "data": {
      "text/plain": [
       "375"
      ]
     },
     "execution_count": 75,
     "metadata": {},
     "output_type": "execute_result"
    }
   ],
   "source": [
    "data.loc[data['st_Groups_BSOL_PRODEM'] == 1, 'cuest_3'] = data['cuest']\n",
    "groups = data['cuest_3'].nunique()\n",
    "assert groups==375\n",
    "groups"
   ]
  },
  {
   "cell_type": "code",
   "execution_count": 76,
   "id": "0ccb29b1",
   "metadata": {},
   "outputs": [
    {
     "data": {
      "text/plain": [
       "136"
      ]
     },
     "execution_count": 76,
     "metadata": {},
     "output_type": "execute_result"
    }
   ],
   "source": [
    "data.loc[data['st_Village'] == 1, 'cuest_4'] = data['cuest']\n",
    "vill = data['cuest_4'].nunique()\n",
    "assert vill==136\n",
    "vill"
   ]
  },
  {
   "cell_type": "code",
   "execution_count": 77,
   "id": "d45061bc",
   "metadata": {},
   "outputs": [
    {
     "data": {
      "text/plain": [
       "242"
      ]
     },
     "execution_count": 77,
     "metadata": {},
     "output_type": "execute_result"
    }
   ],
   "source": [
    "data.loc[data['st_Others'] == 1, 'cuest_5'] = data['cuest']\n",
    "other = data['cuest_5'].nunique()\n",
    "assert other==242\n",
    "other"
   ]
  },
  {
   "cell_type": "code",
   "execution_count": 78,
   "id": "ef145131",
   "metadata": {
    "scrolled": true
   },
   "outputs": [
    {
     "data": {
      "text/html": [
       "<div>\n",
       "<style scoped>\n",
       "    .dataframe tbody tr th:only-of-type {\n",
       "        vertical-align: middle;\n",
       "    }\n",
       "\n",
       "    .dataframe tbody tr th {\n",
       "        vertical-align: top;\n",
       "    }\n",
       "\n",
       "    .dataframe thead th {\n",
       "        text-align: right;\n",
       "    }\n",
       "</style>\n",
       "<table border=\"1\" class=\"dataframe\">\n",
       "  <thead>\n",
       "    <tr style=\"text-align: right;\">\n",
       "      <th></th>\n",
       "      <th>exclusive</th>\n",
       "      <th>tfte</th>\n",
       "      <th>fte</th>\n",
       "      <th>st_MFOs_FFPs_Indiv</th>\n",
       "      <th>st_CONS</th>\n",
       "      <th>st_Groups_BSOL_PRODEM</th>\n",
       "      <th>st_Village</th>\n",
       "      <th>st_Others</th>\n",
       "    </tr>\n",
       "  </thead>\n",
       "  <tbody>\n",
       "  </tbody>\n",
       "</table>\n",
       "</div>"
      ],
      "text/plain": [
       "Empty DataFrame\n",
       "Columns: [exclusive, tfte, fte, st_MFOs_FFPs_Indiv, st_CONS, st_Groups_BSOL_PRODEM, st_Village, st_Others]\n",
       "Index: []"
      ]
     },
     "execution_count": 78,
     "metadata": {},
     "output_type": "execute_result"
    }
   ],
   "source": [
    "data['exclusive']=data['st_MFOs_FFPs_Indiv']+data['st_CONS']+data['st_Groups_BSOL_PRODEM']+data['st_Village']+data['st_Others']\n",
    "data[['exclusive', 'tfte', 'fte', 'st_MFOs_FFPs_Indiv','st_CONS', 'st_Groups_BSOL_PRODEM',  'st_Village', 'st_Others']].loc[data['exclusive']!=1]"
   ]
  },
  {
   "cell_type": "code",
   "execution_count": 79,
   "id": "c8fdc4ec",
   "metadata": {},
   "outputs": [
    {
     "data": {
      "text/plain": [
       "1    1282\n",
       "Name: exclusive, dtype: int64"
      ]
     },
     "execution_count": 79,
     "metadata": {},
     "output_type": "execute_result"
    }
   ],
   "source": [
    "data['exclusive'].value_counts(dropna=False)"
   ]
  },
  {
   "cell_type": "code",
   "execution_count": 80,
   "id": "5f3c3606",
   "metadata": {},
   "outputs": [
    {
     "name": "stdout",
     "output_type": "stream",
     "text": [
      "Test OK\n",
      "type of lender exhaustive and mutually exclusive\n"
     ]
    }
   ],
   "source": [
    "for i in range(len(data['exclusive'])):\n",
    "    assert data['exclusive'][i]==1\n",
    "print(\"Test OK\")\n",
    "print(\"type of lender exhaustive and mutually exclusive\")"
   ]
  },
  {
   "cell_type": "code",
   "execution_count": 81,
   "id": "72f38793",
   "metadata": {},
   "outputs": [],
   "source": [
    "data.drop(['cuest_1', 'cuest_2', 'cuest_3', 'cuest_4', 'cuest_5'], axis=1, inplace=True)"
   ]
  },
  {
   "cell_type": "markdown",
   "id": "75e561c3",
   "metadata": {},
   "source": [
    "# Lenders Dummies match percentages on  pages 135-136."
   ]
  },
  {
   "cell_type": "code",
   "execution_count": 82,
   "id": "904a513a",
   "metadata": {},
   "outputs": [
    {
     "data": {
      "text/html": [
       "<div>\n",
       "<style scoped>\n",
       "    .dataframe tbody tr th:only-of-type {\n",
       "        vertical-align: middle;\n",
       "    }\n",
       "\n",
       "    .dataframe tbody tr th {\n",
       "        vertical-align: top;\n",
       "    }\n",
       "\n",
       "    .dataframe thead th {\n",
       "        text-align: right;\n",
       "    }\n",
       "</style>\n",
       "<table border=\"1\" class=\"dataframe\">\n",
       "  <thead>\n",
       "    <tr style=\"text-align: right;\">\n",
       "      <th></th>\n",
       "      <th>st_MFOs_FFPs_Indiv</th>\n",
       "      <th>st_CONS</th>\n",
       "      <th>st_Groups_BSOL_PRODEM</th>\n",
       "      <th>st_Village</th>\n",
       "      <th>st_Others</th>\n",
       "    </tr>\n",
       "  </thead>\n",
       "  <tbody>\n",
       "    <tr>\n",
       "      <th>mean</th>\n",
       "      <td>0.243469</td>\n",
       "      <td>0.22675</td>\n",
       "      <td>0.39185</td>\n",
       "      <td>0.142111</td>\n",
       "      <td>0.252874</td>\n",
       "    </tr>\n",
       "  </tbody>\n",
       "</table>\n",
       "</div>"
      ],
      "text/plain": [
       "      st_MFOs_FFPs_Indiv  st_CONS  st_Groups_BSOL_PRODEM  st_Village  \\\n",
       "mean            0.243469  0.22675                0.39185    0.142111   \n",
       "\n",
       "      st_Others  \n",
       "mean   0.252874  "
      ]
     },
     "execution_count": 82,
     "metadata": {},
     "output_type": "execute_result"
    }
   ],
   "source": [
    "lenders = data[['st_MFOs_FFPs_Indiv','st_CONS', 'st_Groups_BSOL_PRODEM',  'st_Village', 'st_Others',\n",
    "                  'cuest']].groupby(\"cuest\")\n",
    "max = lenders.max()\n",
    "max.describe().loc[['mean']]"
   ]
  },
  {
   "cell_type": "markdown",
   "id": "5cb3ccfa",
   "metadata": {},
   "source": [
    "# For comparison with Figure 8.1, p. 115"
   ]
  },
  {
   "cell_type": "code",
   "execution_count": 83,
   "id": "0ba9be5a",
   "metadata": {},
   "outputs": [
    {
     "data": {
      "text/html": [
       "<div>\n",
       "<style scoped>\n",
       "    .dataframe tbody tr th:only-of-type {\n",
       "        vertical-align: middle;\n",
       "    }\n",
       "\n",
       "    .dataframe tbody tr th {\n",
       "        vertical-align: top;\n",
       "    }\n",
       "\n",
       "    .dataframe thead th {\n",
       "        text-align: right;\n",
       "    }\n",
       "</style>\n",
       "<table border=\"1\" class=\"dataframe\">\n",
       "  <thead>\n",
       "    <tr style=\"text-align: right;\">\n",
       "      <th>tfte</th>\n",
       "      <th>Banks</th>\n",
       "      <th>Consumption</th>\n",
       "      <th>Coops</th>\n",
       "      <th>Groups</th>\n",
       "      <th>Individual</th>\n",
       "      <th>NGOs</th>\n",
       "      <th>Village</th>\n",
       "    </tr>\n",
       "    <tr>\n",
       "      <th>Arrears</th>\n",
       "      <th></th>\n",
       "      <th></th>\n",
       "      <th></th>\n",
       "      <th></th>\n",
       "      <th></th>\n",
       "      <th></th>\n",
       "      <th></th>\n",
       "    </tr>\n",
       "  </thead>\n",
       "  <tbody>\n",
       "    <tr>\n",
       "      <th>1</th>\n",
       "      <td>0.527778</td>\n",
       "      <td>0.392562</td>\n",
       "      <td>0.403614</td>\n",
       "      <td>0.488312</td>\n",
       "      <td>0.438247</td>\n",
       "      <td>0.550000</td>\n",
       "      <td>0.830986</td>\n",
       "    </tr>\n",
       "    <tr>\n",
       "      <th>2</th>\n",
       "      <td>0.361111</td>\n",
       "      <td>0.388430</td>\n",
       "      <td>0.445783</td>\n",
       "      <td>0.412987</td>\n",
       "      <td>0.442231</td>\n",
       "      <td>0.333333</td>\n",
       "      <td>0.147887</td>\n",
       "    </tr>\n",
       "    <tr>\n",
       "      <th>3</th>\n",
       "      <td>0.111111</td>\n",
       "      <td>0.219008</td>\n",
       "      <td>0.150602</td>\n",
       "      <td>0.098701</td>\n",
       "      <td>0.119522</td>\n",
       "      <td>0.116667</td>\n",
       "      <td>0.021127</td>\n",
       "    </tr>\n",
       "  </tbody>\n",
       "</table>\n",
       "</div>"
      ],
      "text/plain": [
       "tfte        Banks  Consumption     Coops    Groups  Individual      NGOs  \\\n",
       "Arrears                                                                    \n",
       "1        0.527778     0.392562  0.403614  0.488312    0.438247  0.550000   \n",
       "2        0.361111     0.388430  0.445783  0.412987    0.442231  0.333333   \n",
       "3        0.111111     0.219008  0.150602  0.098701    0.119522  0.116667   \n",
       "\n",
       "tfte      Village  \n",
       "Arrears            \n",
       "1        0.830986  \n",
       "2        0.147887  \n",
       "3        0.021127  "
      ]
     },
     "execution_count": 83,
     "metadata": {},
     "output_type": "execute_result"
    }
   ],
   "source": [
    "pd.crosstab(data['Arrears'], data['tfte'], dropna=False, normalize='columns')"
   ]
  },
  {
   "cell_type": "markdown",
   "id": "719e3ec9",
   "metadata": {},
   "source": [
    "# For comparison with Figure 8.3, p. 126"
   ]
  },
  {
   "cell_type": "code",
   "execution_count": 84,
   "id": "1a80e1aa",
   "metadata": {},
   "outputs": [
    {
     "data": {
      "text/html": [
       "<div>\n",
       "<style scoped>\n",
       "    .dataframe tbody tr th:only-of-type {\n",
       "        vertical-align: middle;\n",
       "    }\n",
       "\n",
       "    .dataframe tbody tr th {\n",
       "        vertical-align: top;\n",
       "    }\n",
       "\n",
       "    .dataframe thead th {\n",
       "        text-align: right;\n",
       "    }\n",
       "</style>\n",
       "<table border=\"1\" class=\"dataframe\">\n",
       "  <thead>\n",
       "    <tr style=\"text-align: right;\">\n",
       "      <th>tfte</th>\n",
       "      <th>Banks</th>\n",
       "      <th>Consumption</th>\n",
       "      <th>Coops</th>\n",
       "      <th>Groups</th>\n",
       "      <th>Individual</th>\n",
       "      <th>NGOs</th>\n",
       "      <th>Village</th>\n",
       "    </tr>\n",
       "    <tr>\n",
       "      <th>six</th>\n",
       "      <th></th>\n",
       "      <th></th>\n",
       "      <th></th>\n",
       "      <th></th>\n",
       "      <th></th>\n",
       "      <th></th>\n",
       "      <th></th>\n",
       "    </tr>\n",
       "  </thead>\n",
       "  <tbody>\n",
       "    <tr>\n",
       "      <th>A</th>\n",
       "      <td>0.166667</td>\n",
       "      <td>0.136364</td>\n",
       "      <td>0.162651</td>\n",
       "      <td>0.129870</td>\n",
       "      <td>0.139442</td>\n",
       "      <td>0.216667</td>\n",
       "      <td>0.211268</td>\n",
       "    </tr>\n",
       "    <tr>\n",
       "      <th>B</th>\n",
       "      <td>0.361111</td>\n",
       "      <td>0.256198</td>\n",
       "      <td>0.240964</td>\n",
       "      <td>0.358442</td>\n",
       "      <td>0.298805</td>\n",
       "      <td>0.333333</td>\n",
       "      <td>0.619718</td>\n",
       "    </tr>\n",
       "    <tr>\n",
       "      <th>C</th>\n",
       "      <td>0.305556</td>\n",
       "      <td>0.272727</td>\n",
       "      <td>0.349398</td>\n",
       "      <td>0.358442</td>\n",
       "      <td>0.358566</td>\n",
       "      <td>0.283333</td>\n",
       "      <td>0.126761</td>\n",
       "    </tr>\n",
       "    <tr>\n",
       "      <th>D</th>\n",
       "      <td>0.055556</td>\n",
       "      <td>0.115702</td>\n",
       "      <td>0.096386</td>\n",
       "      <td>0.054545</td>\n",
       "      <td>0.083665</td>\n",
       "      <td>0.050000</td>\n",
       "      <td>0.021127</td>\n",
       "    </tr>\n",
       "    <tr>\n",
       "      <th>E</th>\n",
       "      <td>0.111111</td>\n",
       "      <td>0.198347</td>\n",
       "      <td>0.108434</td>\n",
       "      <td>0.085714</td>\n",
       "      <td>0.091633</td>\n",
       "      <td>0.116667</td>\n",
       "      <td>0.007042</td>\n",
       "    </tr>\n",
       "    <tr>\n",
       "      <th>F</th>\n",
       "      <td>0.000000</td>\n",
       "      <td>0.020661</td>\n",
       "      <td>0.042169</td>\n",
       "      <td>0.012987</td>\n",
       "      <td>0.027888</td>\n",
       "      <td>0.000000</td>\n",
       "      <td>0.014085</td>\n",
       "    </tr>\n",
       "  </tbody>\n",
       "</table>\n",
       "</div>"
      ],
      "text/plain": [
       "tfte     Banks  Consumption     Coops    Groups  Individual      NGOs  \\\n",
       "six                                                                     \n",
       "A     0.166667     0.136364  0.162651  0.129870    0.139442  0.216667   \n",
       "B     0.361111     0.256198  0.240964  0.358442    0.298805  0.333333   \n",
       "C     0.305556     0.272727  0.349398  0.358442    0.358566  0.283333   \n",
       "D     0.055556     0.115702  0.096386  0.054545    0.083665  0.050000   \n",
       "E     0.111111     0.198347  0.108434  0.085714    0.091633  0.116667   \n",
       "F     0.000000     0.020661  0.042169  0.012987    0.027888  0.000000   \n",
       "\n",
       "tfte   Village  \n",
       "six             \n",
       "A     0.211268  \n",
       "B     0.619718  \n",
       "C     0.126761  \n",
       "D     0.021127  \n",
       "E     0.007042  \n",
       "F     0.014085  "
      ]
     },
     "execution_count": 84,
     "metadata": {},
     "output_type": "execute_result"
    }
   ],
   "source": [
    "pd.crosstab(data['six'], data['tfte'], dropna=False, normalize='columns')"
   ]
  },
  {
   "cell_type": "markdown",
   "id": "b545b219",
   "metadata": {},
   "source": [
    "# Renames to match variable names used on p. 150 and p. 156."
   ]
  },
  {
   "cell_type": "code",
   "execution_count": 85,
   "id": "33ee9b1b",
   "metadata": {},
   "outputs": [],
   "source": [
    "data.rename(columns={\"plazo\": \"Loan_Term\"}, inplace=True)\n",
    "data.rename(columns={\"pot1460\": \"Number_Potential_Workers\"}, inplace=True)\n",
    "data.rename(columns={\"p4pp\": \"Age_Main_Income_Source\"}, inplace=True)\n",
    "data.rename(columns={\"eworkers1460\": \"Education_Average\"}, inplace=True)"
   ]
  },
  {
   "cell_type": "markdown",
   "id": "42b53732",
   "metadata": {},
   "source": [
    "# Economic Activity, for comparison with text after table 8.3, p. 134."
   ]
  },
  {
   "cell_type": "code",
   "execution_count": 86,
   "id": "eb847702",
   "metadata": {},
   "outputs": [
    {
     "data": {
      "text/plain": [
       "0.46506777893639206"
      ]
     },
     "execution_count": 86,
     "metadata": {},
     "output_type": "execute_result"
    }
   ],
   "source": [
    "#Services\n",
    "data.loc[data['Services'] == 1, 'ss'] = data['cuest']\n",
    "ss = data['ss'].nunique()\n",
    "assert ss==446\n",
    "ss=ss/959\n",
    "ss"
   ]
  },
  {
   "cell_type": "code",
   "execution_count": 87,
   "id": "588ff0c1",
   "metadata": {},
   "outputs": [
    {
     "data": {
      "text/plain": [
       "0.19603753910323254"
      ]
     },
     "execution_count": 87,
     "metadata": {},
     "output_type": "execute_result"
    }
   ],
   "source": [
    "#Commmerce\n",
    "data.loc[data['Commerce'] == 1, 'cc'] = data['cuest']\n",
    "cc = data['cc'].nunique()\n",
    "assert cc==188\n",
    "cc=cc/959\n",
    "cc"
   ]
  },
  {
   "cell_type": "code",
   "execution_count": 88,
   "id": "26f28093",
   "metadata": {},
   "outputs": [
    {
     "data": {
      "text/plain": [
       "0.10636079249217935"
      ]
     },
     "execution_count": 88,
     "metadata": {},
     "output_type": "execute_result"
    }
   ],
   "source": [
    "#Manufacturing\n",
    "data.loc[data['Manufacture'] == 1, 'mm'] = data['cuest']\n",
    "mm = data['mm'].nunique()\n",
    "assert mm==102\n",
    "mm=mm/959\n",
    "mm"
   ]
  },
  {
   "cell_type": "markdown",
   "id": "3fd93782",
   "metadata": {},
   "source": [
    "# Shocks, for comparison with Table 8.3, p. 134"
   ]
  },
  {
   "cell_type": "code",
   "execution_count": 89,
   "id": "18b91039",
   "metadata": {},
   "outputs": [
    {
     "data": {
      "text/html": [
       "<div>\n",
       "<style scoped>\n",
       "    .dataframe tbody tr th:only-of-type {\n",
       "        vertical-align: middle;\n",
       "    }\n",
       "\n",
       "    .dataframe tbody tr th {\n",
       "        vertical-align: top;\n",
       "    }\n",
       "\n",
       "    .dataframe thead th {\n",
       "        text-align: right;\n",
       "    }\n",
       "</style>\n",
       "<table border=\"1\" class=\"dataframe\">\n",
       "  <thead>\n",
       "    <tr style=\"text-align: right;\">\n",
       "      <th></th>\n",
       "      <th>Shocks</th>\n",
       "      <th>Shocks_97</th>\n",
       "      <th>Shocks_98</th>\n",
       "      <th>Shocks_99</th>\n",
       "      <th>Shocks_00</th>\n",
       "      <th>Shocks_01</th>\n",
       "      <th>shock_before_loan_98</th>\n",
       "      <th>shock_before_loan_99</th>\n",
       "      <th>shock_before_loan_00</th>\n",
       "      <th>shock_before_loan_01</th>\n",
       "    </tr>\n",
       "  </thead>\n",
       "  <tbody>\n",
       "    <tr>\n",
       "      <th>mean</th>\n",
       "      <td>0.687252</td>\n",
       "      <td>0.047283</td>\n",
       "      <td>0.087948</td>\n",
       "      <td>0.186712</td>\n",
       "      <td>0.347962</td>\n",
       "      <td>0.412313</td>\n",
       "      <td>0.052232</td>\n",
       "      <td>0.036953</td>\n",
       "      <td>0.064911</td>\n",
       "      <td>0.094062</td>\n",
       "    </tr>\n",
       "  </tbody>\n",
       "</table>\n",
       "</div>"
      ],
      "text/plain": [
       "        Shocks  Shocks_97  Shocks_98  Shocks_99  Shocks_00  Shocks_01  \\\n",
       "mean  0.687252   0.047283   0.087948   0.186712   0.347962   0.412313   \n",
       "\n",
       "      shock_before_loan_98  shock_before_loan_99  shock_before_loan_00  \\\n",
       "mean              0.052232              0.036953              0.064911   \n",
       "\n",
       "      shock_before_loan_01  \n",
       "mean              0.094062  "
      ]
     },
     "execution_count": 89,
     "metadata": {},
     "output_type": "execute_result"
    }
   ],
   "source": [
    "shocks_df = data[['Shocks', \n",
    "                  'Shocks_97', 'Shocks_98', 'Shocks_99', 'Shocks_00', 'Shocks_01', \n",
    "                  'shock_before_loan_98', 'shock_before_loan_99','shock_before_loan_00','shock_before_loan_01',\n",
    "                  'cuest']].groupby(\"cuest\")\n",
    "means = shocks_df.mean()\n",
    "means.describe().loc[['mean']]"
   ]
  },
  {
   "cell_type": "markdown",
   "id": "276e5edb",
   "metadata": {},
   "source": [
    "# 'Loan_Term' for comparison with p. 136"
   ]
  },
  {
   "cell_type": "code",
   "execution_count": 90,
   "id": "602c6d52",
   "metadata": {},
   "outputs": [
    {
     "data": {
      "text/plain": [
       "mean    1.608158\n",
       "Name: Loan_Term, dtype: float64"
      ]
     },
     "execution_count": 90,
     "metadata": {},
     "output_type": "execute_result"
    }
   ],
   "source": [
    "data['Loan_Term'].describe().loc[['mean']]"
   ]
  },
  {
   "cell_type": "markdown",
   "id": "830b297a",
   "metadata": {},
   "source": [
    "# For comparison with Table 8.4, p. 141. 1st and 3rd rows."
   ]
  },
  {
   "cell_type": "code",
   "execution_count": 91,
   "id": "1e8ebe8a",
   "metadata": {},
   "outputs": [
    {
     "data": {
      "text/html": [
       "<div>\n",
       "<style scoped>\n",
       "    .dataframe tbody tr th:only-of-type {\n",
       "        vertical-align: middle;\n",
       "    }\n",
       "\n",
       "    .dataframe tbody tr th {\n",
       "        vertical-align: top;\n",
       "    }\n",
       "\n",
       "    .dataframe thead th {\n",
       "        text-align: right;\n",
       "    }\n",
       "</style>\n",
       "<table border=\"1\" class=\"dataframe\">\n",
       "  <thead>\n",
       "    <tr style=\"text-align: right;\">\n",
       "      <th></th>\n",
       "      <th>Lenders</th>\n",
       "      <th>a97</th>\n",
       "      <th>a98</th>\n",
       "      <th>a99</th>\n",
       "      <th>a00</th>\n",
       "      <th>a01</th>\n",
       "      <th>Coh_97</th>\n",
       "      <th>Coh_98</th>\n",
       "      <th>Coh_99</th>\n",
       "      <th>Coh_00</th>\n",
       "      <th>Coh_01</th>\n",
       "    </tr>\n",
       "  </thead>\n",
       "  <tbody>\n",
       "    <tr>\n",
       "      <th>mean</th>\n",
       "      <td>1.239168</td>\n",
       "      <td>0.249094</td>\n",
       "      <td>0.436886</td>\n",
       "      <td>0.549286</td>\n",
       "      <td>0.589063</td>\n",
       "      <td>0.542894</td>\n",
       "      <td>0.249094</td>\n",
       "      <td>0.245367</td>\n",
       "      <td>0.211181</td>\n",
       "      <td>0.176385</td>\n",
       "      <td>0.117973</td>\n",
       "    </tr>\n",
       "  </tbody>\n",
       "</table>\n",
       "</div>"
      ],
      "text/plain": [
       "       Lenders       a97       a98       a99       a00       a01    Coh_97  \\\n",
       "mean  1.239168  0.249094  0.436886  0.549286  0.589063  0.542894  0.249094   \n",
       "\n",
       "        Coh_98    Coh_99    Coh_00    Coh_01  \n",
       "mean  0.245367  0.211181  0.176385  0.117973  "
      ]
     },
     "execution_count": 91,
     "metadata": {},
     "output_type": "execute_result"
    }
   ],
   "source": [
    "t84 = data[['Lenders','a97','a98','a99','a00','a01', \n",
    "      'Coh_97', 'Coh_98', 'Coh_99', 'Coh_00', 'Coh_01',\n",
    "                  'cuest']].groupby(\"cuest\")\n",
    "t84.mean().describe().loc[['mean']]"
   ]
  },
  {
   "cell_type": "code",
   "execution_count": 92,
   "id": "12728b1a",
   "metadata": {},
   "outputs": [
    {
     "data": {
      "text/plain": [
       "1.000000    0.799373\n",
       "2.000000    0.154650\n",
       "3.000000    0.024033\n",
       "1.666667    0.008359\n",
       "2.500000    0.003135\n",
       "4.000000    0.003135\n",
       "2.600000    0.001045\n",
       "1.500000    0.001045\n",
       "5.000000    0.001045\n",
       "2.750000    0.001045\n",
       "1.800000    0.001045\n",
       "3.400000    0.001045\n",
       "6.000000    0.001045\n",
       "Name: Lenders, dtype: float64"
      ]
     },
     "execution_count": 92,
     "metadata": {},
     "output_type": "execute_result"
    }
   ],
   "source": [
    "t84['Lenders'].mean().value_counts(dropna=False, normalize=True)"
   ]
  },
  {
   "cell_type": "markdown",
   "id": "5fc37c99",
   "metadata": {},
   "source": [
    "# For comparisong with Table 8.4, p. 141. 2nd row."
   ]
  },
  {
   "cell_type": "code",
   "execution_count": 93,
   "id": "c881d26b",
   "metadata": {},
   "outputs": [
    {
     "name": "stdout",
     "output_type": "stream",
     "text": [
      "           a97\n",
      "mean  1.108108\n",
      "           a98\n",
      "mean  1.179541\n",
      "           a99\n",
      "mean  1.187817\n",
      "           a00\n",
      "mean  1.191626\n",
      "           a01\n",
      "mean  1.171821\n"
     ]
    }
   ],
   "source": [
    "#averages of a97-a01, but only for active borrowers\n",
    "years = [\"97\", \"98\", \"99\", \"00\", \"01\"]\n",
    "for i in years:\n",
    "    col='a'+i\n",
    "    temp=data.loc[data[col]==1]\n",
    "    temp2 = temp[[col,'cuest']].groupby(\"cuest\")\n",
    "    print(temp2.sum().describe().loc[['mean']])"
   ]
  },
  {
   "cell_type": "code",
   "execution_count": 94,
   "id": "e2204b09",
   "metadata": {},
   "outputs": [
    {
     "data": {
      "text/html": [
       "<div>\n",
       "<style scoped>\n",
       "    .dataframe tbody tr th:only-of-type {\n",
       "        vertical-align: middle;\n",
       "    }\n",
       "\n",
       "    .dataframe tbody tr th {\n",
       "        vertical-align: top;\n",
       "    }\n",
       "\n",
       "    .dataframe thead th {\n",
       "        text-align: right;\n",
       "    }\n",
       "</style>\n",
       "<table border=\"1\" class=\"dataframe\">\n",
       "  <thead>\n",
       "    <tr style=\"text-align: right;\">\n",
       "      <th></th>\n",
       "      <th>First_timer</th>\n",
       "      <th>Default_First</th>\n",
       "    </tr>\n",
       "  </thead>\n",
       "  <tbody>\n",
       "    <tr>\n",
       "      <th>mean</th>\n",
       "      <td>0.636505</td>\n",
       "      <td>0.140406</td>\n",
       "    </tr>\n",
       "  </tbody>\n",
       "</table>\n",
       "</div>"
      ],
      "text/plain": [
       "      First_timer  Default_First\n",
       "mean     0.636505       0.140406"
      ]
     },
     "execution_count": 94,
     "metadata": {},
     "output_type": "execute_result"
    }
   ],
   "source": [
    "data[['First_timer', 'Default_First']].describe().loc[['mean']] "
   ]
  },
  {
   "cell_type": "markdown",
   "id": "1eb69332",
   "metadata": {},
   "source": [
    "# 'Lenders'"
   ]
  },
  {
   "cell_type": "code",
   "execution_count": 95,
   "id": "b4050edf",
   "metadata": {},
   "outputs": [
    {
     "data": {
      "text/plain": [
       "(1282, 228)"
      ]
     },
     "execution_count": 95,
     "metadata": {},
     "output_type": "execute_result"
    }
   ],
   "source": [
    "data.shape"
   ]
  },
  {
   "cell_type": "code",
   "execution_count": 96,
   "id": "204a9aef",
   "metadata": {},
   "outputs": [
    {
     "data": {
      "text/plain": [
       "mean    1.471919\n",
       "Name: Lenders, dtype: float64"
      ]
     },
     "execution_count": 96,
     "metadata": {},
     "output_type": "execute_result"
    }
   ],
   "source": [
    "data['Lenders'].describe().loc[['mean']] "
   ]
  },
  {
   "cell_type": "code",
   "execution_count": 97,
   "id": "3fc9ddf5",
   "metadata": {},
   "outputs": [
    {
     "data": {
      "text/plain": [
       "1    0.654446\n",
       "2    0.254290\n",
       "3    0.069423\n",
       "4    0.013261\n",
       "6    0.004680\n",
       "5    0.003900\n",
       "Name: Lenders, dtype: float64"
      ]
     },
     "execution_count": 97,
     "metadata": {},
     "output_type": "execute_result"
    }
   ],
   "source": [
    "data['Lenders'].value_counts(dropna=False, normalize=True)"
   ]
  },
  {
   "cell_type": "code",
   "execution_count": 98,
   "id": "6b9212ce",
   "metadata": {},
   "outputs": [
    {
     "data": {
      "text/html": [
       "<div>\n",
       "<style scoped>\n",
       "    .dataframe tbody tr th:only-of-type {\n",
       "        vertical-align: middle;\n",
       "    }\n",
       "\n",
       "    .dataframe tbody tr th {\n",
       "        vertical-align: top;\n",
       "    }\n",
       "\n",
       "    .dataframe thead th {\n",
       "        text-align: right;\n",
       "    }\n",
       "</style>\n",
       "<table border=\"1\" class=\"dataframe\">\n",
       "  <thead>\n",
       "    <tr style=\"text-align: right;\">\n",
       "      <th></th>\n",
       "      <th>Lenders_97</th>\n",
       "      <th>Lenders_98</th>\n",
       "      <th>Lenders_99</th>\n",
       "      <th>Lenders_00</th>\n",
       "      <th>Lenders_01</th>\n",
       "      <th>i97</th>\n",
       "      <th>i98</th>\n",
       "      <th>i99</th>\n",
       "      <th>i00</th>\n",
       "      <th>i01</th>\n",
       "    </tr>\n",
       "  </thead>\n",
       "  <tbody>\n",
       "    <tr>\n",
       "      <th>mean</th>\n",
       "      <td>0.417973</td>\n",
       "      <td>0.820272</td>\n",
       "      <td>1.015674</td>\n",
       "      <td>1.07419</td>\n",
       "      <td>0.956113</td>\n",
       "      <td>0.342738</td>\n",
       "      <td>0.438871</td>\n",
       "      <td>0.460815</td>\n",
       "      <td>0.412748</td>\n",
       "      <td>0.320794</td>\n",
       "    </tr>\n",
       "  </tbody>\n",
       "</table>\n",
       "</div>"
      ],
      "text/plain": [
       "      Lenders_97  Lenders_98  Lenders_99  Lenders_00  Lenders_01       i97  \\\n",
       "mean    0.417973    0.820272    1.015674     1.07419    0.956113  0.342738   \n",
       "\n",
       "           i98       i99       i00       i01  \n",
       "mean  0.438871  0.460815  0.412748  0.320794  "
      ]
     },
     "execution_count": 98,
     "metadata": {},
     "output_type": "execute_result"
    }
   ],
   "source": [
    "t9 = data[['Lenders_97', 'Lenders_98','Lenders_99','Lenders_00','Lenders_01',\n",
    "                'i97','i98','i99','i00','i01',\n",
    "                'cuest']].groupby(\"cuest\")\n",
    "t9.sum().describe().loc[['mean']]"
   ]
  },
  {
   "cell_type": "markdown",
   "id": "0edab66f",
   "metadata": {},
   "source": [
    "# 'npres97_01' for comparison with 2nd paragraph, p. 138."
   ]
  },
  {
   "cell_type": "code",
   "execution_count": 99,
   "id": "9e2c0025",
   "metadata": {},
   "outputs": [
    {
     "data": {
      "text/plain": [
       "mean    1.475039\n",
       "Name: npres97_01, dtype: float64"
      ]
     },
     "execution_count": 99,
     "metadata": {},
     "output_type": "execute_result"
    }
   ],
   "source": [
    "data['npres97_01'].describe().loc[['mean']] "
   ]
  },
  {
   "cell_type": "code",
   "execution_count": 100,
   "id": "b2d67a6f",
   "metadata": {},
   "outputs": [
    {
     "data": {
      "text/plain": [
       "1    0.737129\n",
       "2    0.133385\n",
       "3    0.074103\n",
       "4    0.028081\n",
       "5    0.027301\n",
       "Name: npres97_01, dtype: float64"
      ]
     },
     "execution_count": 100,
     "metadata": {},
     "output_type": "execute_result"
    }
   ],
   "source": [
    "data['npres97_01'].value_counts(dropna=False, normalize=True)"
   ]
  },
  {
   "cell_type": "markdown",
   "id": "791f4c19",
   "metadata": {},
   "source": [
    "# New variable 'Migrants' based on 'p105'"
   ]
  },
  {
   "cell_type": "code",
   "execution_count": 101,
   "id": "5a080f8a",
   "metadata": {},
   "outputs": [
    {
     "data": {
      "text/plain": [
       "2    1091\n",
       "1     185\n",
       "9       4\n",
       "3       2\n",
       "Name: p105, dtype: int64"
      ]
     },
     "execution_count": 101,
     "metadata": {},
     "output_type": "execute_result"
    }
   ],
   "source": [
    "data['p105'].value_counts(dropna=False)"
   ]
  },
  {
   "cell_type": "code",
   "execution_count": 102,
   "id": "b5fb57ff",
   "metadata": {},
   "outputs": [
    {
     "data": {
      "text/plain": [
       "0.0    1097\n",
       "1.0     185\n",
       "Name: Migrants, dtype: int64"
      ]
     },
     "execution_count": 102,
     "metadata": {},
     "output_type": "execute_result"
    }
   ],
   "source": [
    "data.loc[data['p105'] == 1, 'Migrants'] = 1\n",
    "data['Migrants'].fillna(0, inplace=True)\n",
    "data['Migrants'].value_counts(dropna=False)"
   ]
  },
  {
   "cell_type": "markdown",
   "id": "53d9b4aa",
   "metadata": {},
   "source": [
    "# Keeps only Y and X, and 'cuest' for estimation of robust covariance matrix\n"
   ]
  },
  {
   "cell_type": "code",
   "execution_count": 103,
   "id": "5d7e614a",
   "metadata": {},
   "outputs": [],
   "source": [
    "data_reduced=data.loc[:,['Lazy', 'Over', 'six',\n",
    "        'a_Cbba', 'a_El_Alto', 'a_La_Paz', 'a_Oruro', 'a_Sta_Cruz',\n",
    "        'Shocks',\n",
    "        'Manufacture', 'Commerce', 'Services',\n",
    "        'st_MFOs_FFPs_Indiv','st_CONS', 'st_Groups_BSOL_PRODEM',  'st_Village', 'st_Others',\n",
    "        'Loan_Term', 'Lenders', 'npres97_01','First_timer',\n",
    "        'Coh_97', 'Coh_98', 'Coh_99', 'Coh_00',\n",
    "        'Default_First', \n",
    "        'Number_Potential_Workers', 'Age_Main_Income_Source', 'Education_Average', 'Diversification','Savings','Migrants',\n",
    "        'Female_Main_Person',\n",
    "        'Commercial',  'Assets',\n",
    "         'cruzados',\n",
    "        'Shocks_97','Shocks_98','Shocks_99','Shocks_00','Shocks_01', \n",
    "        'cuest'\n",
    "]]"
   ]
  },
  {
   "cell_type": "markdown",
   "id": "d05e5d62",
   "metadata": {},
   "source": [
    "Final rename to make sure all variables have the same name as in Table 8.6, p. 150"
   ]
  },
  {
   "cell_type": "code",
   "execution_count": 104,
   "id": "e594e4a3",
   "metadata": {},
   "outputs": [
    {
     "data": {
      "text/html": [
       "<div>\n",
       "<style scoped>\n",
       "    .dataframe tbody tr th:only-of-type {\n",
       "        vertical-align: middle;\n",
       "    }\n",
       "\n",
       "    .dataframe tbody tr th {\n",
       "        vertical-align: top;\n",
       "    }\n",
       "\n",
       "    .dataframe thead th {\n",
       "        text-align: right;\n",
       "    }\n",
       "</style>\n",
       "<table border=\"1\" class=\"dataframe\">\n",
       "  <thead>\n",
       "    <tr style=\"text-align: right;\">\n",
       "      <th></th>\n",
       "      <th>Lazy</th>\n",
       "      <th>Over</th>\n",
       "      <th>six</th>\n",
       "      <th>Cochabamba</th>\n",
       "      <th>El_Alto</th>\n",
       "      <th>La_Paz</th>\n",
       "      <th>Oruro</th>\n",
       "      <th>Santa_Cruz</th>\n",
       "      <th>Shocks</th>\n",
       "      <th>Manufacture</th>\n",
       "      <th>...</th>\n",
       "      <th>Female_Main_Person</th>\n",
       "      <th>Commercial</th>\n",
       "      <th>Assets</th>\n",
       "      <th>cruzados</th>\n",
       "      <th>Shocks_97</th>\n",
       "      <th>Shocks_98</th>\n",
       "      <th>Shocks_99</th>\n",
       "      <th>Shocks_00</th>\n",
       "      <th>Shocks_01</th>\n",
       "      <th>cuest</th>\n",
       "    </tr>\n",
       "  </thead>\n",
       "  <tbody>\n",
       "    <tr>\n",
       "      <th>0</th>\n",
       "      <td>0.0</td>\n",
       "      <td>1.0</td>\n",
       "      <td>B</td>\n",
       "      <td>0</td>\n",
       "      <td>0</td>\n",
       "      <td>1</td>\n",
       "      <td>0</td>\n",
       "      <td>0</td>\n",
       "      <td>1</td>\n",
       "      <td>0</td>\n",
       "      <td>...</td>\n",
       "      <td>0</td>\n",
       "      <td>0</td>\n",
       "      <td>1.139501</td>\n",
       "      <td>0</td>\n",
       "      <td>0</td>\n",
       "      <td>0</td>\n",
       "      <td>0</td>\n",
       "      <td>0</td>\n",
       "      <td>1</td>\n",
       "      <td>2</td>\n",
       "    </tr>\n",
       "    <tr>\n",
       "      <th>1</th>\n",
       "      <td>0.0</td>\n",
       "      <td>1.0</td>\n",
       "      <td>B</td>\n",
       "      <td>0</td>\n",
       "      <td>0</td>\n",
       "      <td>1</td>\n",
       "      <td>0</td>\n",
       "      <td>0</td>\n",
       "      <td>1</td>\n",
       "      <td>0</td>\n",
       "      <td>...</td>\n",
       "      <td>1</td>\n",
       "      <td>0</td>\n",
       "      <td>0.080764</td>\n",
       "      <td>0</td>\n",
       "      <td>1</td>\n",
       "      <td>1</td>\n",
       "      <td>0</td>\n",
       "      <td>0</td>\n",
       "      <td>0</td>\n",
       "      <td>3</td>\n",
       "    </tr>\n",
       "    <tr>\n",
       "      <th>2</th>\n",
       "      <td>0.0</td>\n",
       "      <td>1.0</td>\n",
       "      <td>C</td>\n",
       "      <td>0</td>\n",
       "      <td>0</td>\n",
       "      <td>1</td>\n",
       "      <td>0</td>\n",
       "      <td>0</td>\n",
       "      <td>1</td>\n",
       "      <td>0</td>\n",
       "      <td>...</td>\n",
       "      <td>1</td>\n",
       "      <td>0</td>\n",
       "      <td>0.080764</td>\n",
       "      <td>1</td>\n",
       "      <td>1</td>\n",
       "      <td>1</td>\n",
       "      <td>1</td>\n",
       "      <td>1</td>\n",
       "      <td>0</td>\n",
       "      <td>3</td>\n",
       "    </tr>\n",
       "    <tr>\n",
       "      <th>3</th>\n",
       "      <td>0.0</td>\n",
       "      <td>1.0</td>\n",
       "      <td>C</td>\n",
       "      <td>0</td>\n",
       "      <td>0</td>\n",
       "      <td>1</td>\n",
       "      <td>0</td>\n",
       "      <td>0</td>\n",
       "      <td>1</td>\n",
       "      <td>0</td>\n",
       "      <td>...</td>\n",
       "      <td>0</td>\n",
       "      <td>0</td>\n",
       "      <td>1.294317</td>\n",
       "      <td>0</td>\n",
       "      <td>0</td>\n",
       "      <td>0</td>\n",
       "      <td>0</td>\n",
       "      <td>1</td>\n",
       "      <td>0</td>\n",
       "      <td>4</td>\n",
       "    </tr>\n",
       "    <tr>\n",
       "      <th>4</th>\n",
       "      <td>NaN</td>\n",
       "      <td>0.0</td>\n",
       "      <td>A</td>\n",
       "      <td>0</td>\n",
       "      <td>0</td>\n",
       "      <td>1</td>\n",
       "      <td>0</td>\n",
       "      <td>0</td>\n",
       "      <td>1</td>\n",
       "      <td>0</td>\n",
       "      <td>...</td>\n",
       "      <td>1</td>\n",
       "      <td>0</td>\n",
       "      <td>0.409985</td>\n",
       "      <td>0</td>\n",
       "      <td>0</td>\n",
       "      <td>0</td>\n",
       "      <td>1</td>\n",
       "      <td>0</td>\n",
       "      <td>0</td>\n",
       "      <td>5</td>\n",
       "    </tr>\n",
       "  </tbody>\n",
       "</table>\n",
       "<p>5 rows × 42 columns</p>\n",
       "</div>"
      ],
      "text/plain": [
       "   Lazy  Over six  Cochabamba  El_Alto  La_Paz  Oruro  Santa_Cruz  Shocks  \\\n",
       "0   0.0   1.0   B           0        0       1      0           0       1   \n",
       "1   0.0   1.0   B           0        0       1      0           0       1   \n",
       "2   0.0   1.0   C           0        0       1      0           0       1   \n",
       "3   0.0   1.0   C           0        0       1      0           0       1   \n",
       "4   NaN   0.0   A           0        0       1      0           0       1   \n",
       "\n",
       "   Manufacture  ...  Female_Main_Person  Commercial    Assets  cruzados  \\\n",
       "0            0  ...                   0           0  1.139501         0   \n",
       "1            0  ...                   1           0  0.080764         0   \n",
       "2            0  ...                   1           0  0.080764         1   \n",
       "3            0  ...                   0           0  1.294317         0   \n",
       "4            0  ...                   1           0  0.409985         0   \n",
       "\n",
       "   Shocks_97  Shocks_98  Shocks_99  Shocks_00  Shocks_01  cuest  \n",
       "0          0          0          0          0          1      2  \n",
       "1          1          1          0          0          0      3  \n",
       "2          1          1          1          1          0      3  \n",
       "3          0          0          0          1          0      4  \n",
       "4          0          0          1          0          0      5  \n",
       "\n",
       "[5 rows x 42 columns]"
      ]
     },
     "execution_count": 104,
     "metadata": {},
     "output_type": "execute_result"
    }
   ],
   "source": [
    "data_reduced.rename(columns={\"a_Cbba\": \"Cochabamba\", \"a_El_Alto\": \"El_Alto\", \"a_La_Paz\": \"La_Paz\", \"a_Oruro\": \"Oruro\", \"a_Sta_Cruz\": \"Santa_Cruz\",\n",
    "                     \"st_MFOs_FFPs_Indiv\": \"Individual\", \"st_Groups_BSOL_PRODEM\": \"Groups\", \"st_Village\": \"Village\",\n",
    "                     \"st_Others\" : \"Others\", \"st_CONS\": \"Consumption\",\n",
    "                     \"npres97_01\": \"Years_with_new_loans\",\n",
    "                     \"Coh_97\": \"Cohort_1997\", \"Coh_98\": \"Cohort_1998\", \"Coh_99\": \"Cohort_1999\", \"Coh_00\": \"Cohort_2000\"}, inplace=True)\n",
    "data_reduced.head()"
   ]
  },
  {
   "cell_type": "markdown",
   "id": "fc5b0aeb",
   "metadata": {},
   "source": [
    "# DATAFRAME FOR LOGIT I"
   ]
  },
  {
   "cell_type": "code",
   "execution_count": 105,
   "id": "dde4a9e6",
   "metadata": {},
   "outputs": [],
   "source": [
    "xs1=['Cochabamba', 'El_Alto', 'La_Paz', 'Oruro',\n",
    "        'Shocks',\n",
    "        'Manufacture', 'Commerce', 'Services',\n",
    "        'Individual', 'Groups',  'Village', 'Others',\n",
    "        'Loan_Term', 'Lenders','Years_with_new_loans',\n",
    "        'Cohort_1997', 'Cohort_1998', 'Cohort_1999', 'Cohort_2000',\n",
    "        'Commercial',\n",
    "        'Age_Main_Income_Source', 'Education_Average']"
   ]
  },
  {
   "cell_type": "code",
   "execution_count": 106,
   "id": "b54b42db",
   "metadata": {},
   "outputs": [],
   "source": [
    "vars1=['Over']+xs1+['cuest']"
   ]
  },
  {
   "cell_type": "code",
   "execution_count": 107,
   "id": "1a353401",
   "metadata": {},
   "outputs": [
    {
     "data": {
      "text/plain": [
       "(1282, 24)"
      ]
     },
     "execution_count": 107,
     "metadata": {},
     "output_type": "execute_result"
    }
   ],
   "source": [
    "data1=data_reduced[vars1]\n",
    "data1.shape"
   ]
  },
  {
   "cell_type": "code",
   "execution_count": 108,
   "id": "0f8a69a6",
   "metadata": {},
   "outputs": [
    {
     "data": {
      "text/plain": [
       "1.0    1062\n",
       "0.0     194\n",
       "NaN      26\n",
       "Name: Over, dtype: int64"
      ]
     },
     "execution_count": 108,
     "metadata": {},
     "output_type": "execute_result"
    }
   ],
   "source": [
    "data1['Over'].value_counts(dropna=False)"
   ]
  },
  {
   "cell_type": "code",
   "execution_count": 109,
   "id": "4aa05e35",
   "metadata": {},
   "outputs": [
    {
     "data": {
      "text/plain": [
       "Over                      26\n",
       "Cochabamba                 0\n",
       "El_Alto                    0\n",
       "La_Paz                     0\n",
       "Oruro                      0\n",
       "Shocks                     0\n",
       "Manufacture                0\n",
       "Commerce                   0\n",
       "Services                   0\n",
       "Individual                 0\n",
       "Groups                     0\n",
       "Village                    0\n",
       "Others                     0\n",
       "Loan_Term                 10\n",
       "Lenders                    0\n",
       "Years_with_new_loans       0\n",
       "Cohort_1997                0\n",
       "Cohort_1998                0\n",
       "Cohort_1999                0\n",
       "Cohort_2000                0\n",
       "Commercial                 0\n",
       "Age_Main_Income_Source     3\n",
       "Education_Average         11\n",
       "cuest                      0\n",
       "dtype: int64"
      ]
     },
     "execution_count": 109,
     "metadata": {},
     "output_type": "execute_result"
    }
   ],
   "source": [
    "data1.isna().sum() #In this notebook I will drop missing rows following the dissertation methodology"
   ]
  },
  {
   "cell_type": "code",
   "execution_count": 110,
   "id": "02f7a889",
   "metadata": {},
   "outputs": [
    {
     "name": "stderr",
     "output_type": "stream",
     "text": [
      "C:\\Users\\adria\\anaconda3\\envs\\Python38forstatsmodels\\lib\\site-packages\\pandas\\util\\_decorators.py:311: SettingWithCopyWarning: \n",
      "A value is trying to be set on a copy of a slice from a DataFrame\n",
      "\n",
      "See the caveats in the documentation: https://pandas.pydata.org/pandas-docs/stable/user_guide/indexing.html#returning-a-view-versus-a-copy\n",
      "  return func(*args, **kwargs)\n"
     ]
    },
    {
     "data": {
      "text/plain": [
       "(1236, 24)"
      ]
     },
     "execution_count": 110,
     "metadata": {},
     "output_type": "execute_result"
    }
   ],
   "source": [
    "data1.dropna(axis=0, inplace=True)\n",
    "data1.shape"
   ]
  },
  {
   "cell_type": "code",
   "execution_count": 111,
   "id": "2b246d0a",
   "metadata": {},
   "outputs": [
    {
     "data": {
      "text/plain": [
       "1.0    1048\n",
       "0.0     188\n",
       "Name: Over, dtype: int64"
      ]
     },
     "execution_count": 111,
     "metadata": {},
     "output_type": "execute_result"
    }
   ],
   "source": [
    "Y1=data1['Over']\n",
    "Y1.to_csv(\"dataY1.csv\", index = False)\n",
    "Y1.value_counts(dropna=False)"
   ]
  },
  {
   "cell_type": "code",
   "execution_count": 112,
   "id": "4f60879d",
   "metadata": {},
   "outputs": [],
   "source": [
    "X1=data1[xs1]\n",
    "X1=statsmodels.tools.tools.add_constant(X1, prepend=False) #False, set constant to last column, True first column\n",
    "X1.to_csv(\"dataX1.csv\", index = False)"
   ]
  },
  {
   "cell_type": "markdown",
   "id": "0a5df258",
   "metadata": {},
   "source": [
    "# Logit I - Version 1 - simple logit"
   ]
  },
  {
   "cell_type": "markdown",
   "id": "b9dac259",
   "metadata": {},
   "source": [
    "This model was estimated only to show that the same results can be obtained with the \"logit\" command in Stata.\n",
    "However, the standard errors in this model do not take into account the panel structure of the data.\n",
    "This is known sometimes as a \"pooled logit\"."
   ]
  },
  {
   "cell_type": "code",
   "execution_count": 113,
   "id": "c7f00585",
   "metadata": {},
   "outputs": [
    {
     "name": "stdout",
     "output_type": "stream",
     "text": [
      "Optimization terminated successfully.\n",
      "         Current function value: 0.390905\n",
      "         Iterations 7\n"
     ]
    },
    {
     "data": {
      "text/html": [
       "<table class=\"simpletable\">\n",
       "<caption>Logit Regression Results</caption>\n",
       "<tr>\n",
       "  <th>Dep. Variable:</th>         <td>Over</td>       <th>  No. Observations:  </th>  <td>  1236</td>  \n",
       "</tr>\n",
       "<tr>\n",
       "  <th>Model:</th>                 <td>Logit</td>      <th>  Df Residuals:      </th>  <td>  1213</td>  \n",
       "</tr>\n",
       "<tr>\n",
       "  <th>Method:</th>                 <td>MLE</td>       <th>  Df Model:          </th>  <td>    22</td>  \n",
       "</tr>\n",
       "<tr>\n",
       "  <th>Date:</th>            <td>Thu, 13 Jan 2022</td> <th>  Pseudo R-squ.:     </th>  <td>0.08312</td> \n",
       "</tr>\n",
       "<tr>\n",
       "  <th>Time:</th>                <td>11:21:07</td>     <th>  Log-Likelihood:    </th> <td> -483.16</td> \n",
       "</tr>\n",
       "<tr>\n",
       "  <th>converged:</th>             <td>True</td>       <th>  LL-Null:           </th> <td> -526.96</td> \n",
       "</tr>\n",
       "<tr>\n",
       "  <th>Covariance Type:</th>     <td>nonrobust</td>    <th>  LLR p-value:       </th> <td>8.758e-10</td>\n",
       "</tr>\n",
       "</table>\n",
       "<table class=\"simpletable\">\n",
       "<tr>\n",
       "             <td></td>               <th>coef</th>     <th>std err</th>      <th>z</th>      <th>P>|z|</th>  <th>[0.025</th>    <th>0.975]</th>  \n",
       "</tr>\n",
       "<tr>\n",
       "  <th>Cochabamba</th>             <td>    0.3152</td> <td>    0.252</td> <td>    1.252</td> <td> 0.211</td> <td>   -0.178</td> <td>    0.809</td>\n",
       "</tr>\n",
       "<tr>\n",
       "  <th>El_Alto</th>                <td>    0.4535</td> <td>    0.244</td> <td>    1.862</td> <td> 0.063</td> <td>   -0.024</td> <td>    0.931</td>\n",
       "</tr>\n",
       "<tr>\n",
       "  <th>La_Paz</th>                 <td>    0.7075</td> <td>    0.299</td> <td>    2.363</td> <td> 0.018</td> <td>    0.121</td> <td>    1.294</td>\n",
       "</tr>\n",
       "<tr>\n",
       "  <th>Oruro</th>                  <td>    0.8817</td> <td>    0.407</td> <td>    2.164</td> <td> 0.030</td> <td>    0.083</td> <td>    1.680</td>\n",
       "</tr>\n",
       "<tr>\n",
       "  <th>Shocks</th>                 <td>    0.8040</td> <td>    0.192</td> <td>    4.177</td> <td> 0.000</td> <td>    0.427</td> <td>    1.181</td>\n",
       "</tr>\n",
       "<tr>\n",
       "  <th>Manufacture</th>            <td>   -0.4750</td> <td>    0.301</td> <td>   -1.579</td> <td> 0.114</td> <td>   -1.065</td> <td>    0.115</td>\n",
       "</tr>\n",
       "<tr>\n",
       "  <th>Commerce</th>               <td>    0.0543</td> <td>    0.270</td> <td>    0.201</td> <td> 0.841</td> <td>   -0.475</td> <td>    0.583</td>\n",
       "</tr>\n",
       "<tr>\n",
       "  <th>Services</th>               <td>   -0.0396</td> <td>    0.218</td> <td>   -0.181</td> <td> 0.856</td> <td>   -0.468</td> <td>    0.389</td>\n",
       "</tr>\n",
       "<tr>\n",
       "  <th>Individual</th>             <td>    0.1402</td> <td>    0.303</td> <td>    0.463</td> <td> 0.643</td> <td>   -0.453</td> <td>    0.733</td>\n",
       "</tr>\n",
       "<tr>\n",
       "  <th>Groups</th>                 <td>    0.1404</td> <td>    0.270</td> <td>    0.520</td> <td> 0.603</td> <td>   -0.389</td> <td>    0.670</td>\n",
       "</tr>\n",
       "<tr>\n",
       "  <th>Village</th>                <td>   -0.0639</td> <td>    0.343</td> <td>   -0.186</td> <td> 0.852</td> <td>   -0.736</td> <td>    0.608</td>\n",
       "</tr>\n",
       "<tr>\n",
       "  <th>Others</th>                 <td>   -0.2010</td> <td>    0.266</td> <td>   -0.754</td> <td> 0.451</td> <td>   -0.723</td> <td>    0.321</td>\n",
       "</tr>\n",
       "<tr>\n",
       "  <th>Loan_Term</th>              <td>    0.1106</td> <td>    0.061</td> <td>    1.805</td> <td> 0.071</td> <td>   -0.009</td> <td>    0.231</td>\n",
       "</tr>\n",
       "<tr>\n",
       "  <th>Lenders</th>                <td>   -0.0085</td> <td>    0.112</td> <td>   -0.076</td> <td> 0.939</td> <td>   -0.227</td> <td>    0.210</td>\n",
       "</tr>\n",
       "<tr>\n",
       "  <th>Years_with_new_loans</th>   <td>   -0.3752</td> <td>    0.104</td> <td>   -3.611</td> <td> 0.000</td> <td>   -0.579</td> <td>   -0.172</td>\n",
       "</tr>\n",
       "<tr>\n",
       "  <th>Cohort_1997</th>            <td>    1.8354</td> <td>    0.326</td> <td>    5.635</td> <td> 0.000</td> <td>    1.197</td> <td>    2.474</td>\n",
       "</tr>\n",
       "<tr>\n",
       "  <th>Cohort_1998</th>            <td>    1.3395</td> <td>    0.285</td> <td>    4.695</td> <td> 0.000</td> <td>    0.780</td> <td>    1.899</td>\n",
       "</tr>\n",
       "<tr>\n",
       "  <th>Cohort_1999</th>            <td>    1.2087</td> <td>    0.281</td> <td>    4.300</td> <td> 0.000</td> <td>    0.658</td> <td>    1.760</td>\n",
       "</tr>\n",
       "<tr>\n",
       "  <th>Cohort_2000</th>            <td>    0.8864</td> <td>    0.274</td> <td>    3.235</td> <td> 0.001</td> <td>    0.349</td> <td>    1.423</td>\n",
       "</tr>\n",
       "<tr>\n",
       "  <th>Commercial</th>             <td>    0.8275</td> <td>    0.237</td> <td>    3.487</td> <td> 0.000</td> <td>    0.362</td> <td>    1.293</td>\n",
       "</tr>\n",
       "<tr>\n",
       "  <th>Age_Main_Income_Source</th> <td>   -0.0074</td> <td>    0.008</td> <td>   -0.934</td> <td> 0.350</td> <td>   -0.023</td> <td>    0.008</td>\n",
       "</tr>\n",
       "<tr>\n",
       "  <th>Education_Average</th>      <td>   -0.0514</td> <td>    0.025</td> <td>   -2.053</td> <td> 0.040</td> <td>   -0.101</td> <td>   -0.002</td>\n",
       "</tr>\n",
       "<tr>\n",
       "  <th>const</th>                  <td>    0.8016</td> <td>    0.555</td> <td>    1.443</td> <td> 0.149</td> <td>   -0.287</td> <td>    1.890</td>\n",
       "</tr>\n",
       "</table>"
      ],
      "text/plain": [
       "<class 'statsmodels.iolib.summary.Summary'>\n",
       "\"\"\"\n",
       "                           Logit Regression Results                           \n",
       "==============================================================================\n",
       "Dep. Variable:                   Over   No. Observations:                 1236\n",
       "Model:                          Logit   Df Residuals:                     1213\n",
       "Method:                           MLE   Df Model:                           22\n",
       "Date:                Thu, 13 Jan 2022   Pseudo R-squ.:                 0.08312\n",
       "Time:                        11:21:07   Log-Likelihood:                -483.16\n",
       "converged:                       True   LL-Null:                       -526.96\n",
       "Covariance Type:            nonrobust   LLR p-value:                 8.758e-10\n",
       "==========================================================================================\n",
       "                             coef    std err          z      P>|z|      [0.025      0.975]\n",
       "------------------------------------------------------------------------------------------\n",
       "Cochabamba                 0.3152      0.252      1.252      0.211      -0.178       0.809\n",
       "El_Alto                    0.4535      0.244      1.862      0.063      -0.024       0.931\n",
       "La_Paz                     0.7075      0.299      2.363      0.018       0.121       1.294\n",
       "Oruro                      0.8817      0.407      2.164      0.030       0.083       1.680\n",
       "Shocks                     0.8040      0.192      4.177      0.000       0.427       1.181\n",
       "Manufacture               -0.4750      0.301     -1.579      0.114      -1.065       0.115\n",
       "Commerce                   0.0543      0.270      0.201      0.841      -0.475       0.583\n",
       "Services                  -0.0396      0.218     -0.181      0.856      -0.468       0.389\n",
       "Individual                 0.1402      0.303      0.463      0.643      -0.453       0.733\n",
       "Groups                     0.1404      0.270      0.520      0.603      -0.389       0.670\n",
       "Village                   -0.0639      0.343     -0.186      0.852      -0.736       0.608\n",
       "Others                    -0.2010      0.266     -0.754      0.451      -0.723       0.321\n",
       "Loan_Term                  0.1106      0.061      1.805      0.071      -0.009       0.231\n",
       "Lenders                   -0.0085      0.112     -0.076      0.939      -0.227       0.210\n",
       "Years_with_new_loans      -0.3752      0.104     -3.611      0.000      -0.579      -0.172\n",
       "Cohort_1997                1.8354      0.326      5.635      0.000       1.197       2.474\n",
       "Cohort_1998                1.3395      0.285      4.695      0.000       0.780       1.899\n",
       "Cohort_1999                1.2087      0.281      4.300      0.000       0.658       1.760\n",
       "Cohort_2000                0.8864      0.274      3.235      0.001       0.349       1.423\n",
       "Commercial                 0.8275      0.237      3.487      0.000       0.362       1.293\n",
       "Age_Main_Income_Source    -0.0074      0.008     -0.934      0.350      -0.023       0.008\n",
       "Education_Average         -0.0514      0.025     -2.053      0.040      -0.101      -0.002\n",
       "const                      0.8016      0.555      1.443      0.149      -0.287       1.890\n",
       "==========================================================================================\n",
       "\"\"\""
      ]
     },
     "execution_count": 113,
     "metadata": {},
     "output_type": "execute_result"
    }
   ],
   "source": [
    "model1 = sm.Logit(Y1,X1)\n",
    "result1 = model1.fit(full_output=True, disp=True, tol=0.0000000001)\n",
    "result1.summary()"
   ]
  },
  {
   "cell_type": "markdown",
   "id": "ca7c0b35",
   "metadata": {},
   "source": [
    "Equivalent output from Stata 17 after running the following line:\n",
    "    \n",
    "logit Over a_* Shocks Manufacture Commerce Services st_MFO st_Groups st_V  st_Others Term Lenders npres97 Coh_97-Coh_00 Commercial Age Education  ,  nolog \n"
   ]
  },
  {
   "attachments": {
    "image.png": {
     "image/png": "[encoded data removed]"
    }
   },
   "cell_type": "markdown",
   "id": "d2d3d550",
   "metadata": {},
   "source": [
    "![image.png](attachment:image.png)"
   ]
  },
  {
   "cell_type": "markdown",
   "id": "13219b31",
   "metadata": {},
   "source": [
    "# Logit I - Version 2 - Logit with clustered covariance"
   ]
  },
  {
   "cell_type": "markdown",
   "id": "78fb285c",
   "metadata": {},
   "source": [
    "This model was estimated only to show that similar results can be obtained with the \"logit, options: vce(cluster cuest)\" in \"Stata\".\n",
    "However, these results do not take into account correctly the panel structure of the data."
   ]
  },
  {
   "cell_type": "code",
   "execution_count": 114,
   "id": "268c36ad",
   "metadata": {},
   "outputs": [
    {
     "name": "stdout",
     "output_type": "stream",
     "text": [
      "Optimization terminated successfully.\n",
      "         Current function value: 0.390905\n",
      "         Iterations 7\n"
     ]
    },
    {
     "data": {
      "text/html": [
       "<table class=\"simpletable\">\n",
       "<caption>Logit Regression Results</caption>\n",
       "<tr>\n",
       "  <th>Dep. Variable:</th>         <td>Over</td>       <th>  No. Observations:  </th>  <td>  1236</td>  \n",
       "</tr>\n",
       "<tr>\n",
       "  <th>Model:</th>                 <td>Logit</td>      <th>  Df Residuals:      </th>  <td>  1213</td>  \n",
       "</tr>\n",
       "<tr>\n",
       "  <th>Method:</th>                 <td>MLE</td>       <th>  Df Model:          </th>  <td>    22</td>  \n",
       "</tr>\n",
       "<tr>\n",
       "  <th>Date:</th>            <td>Thu, 13 Jan 2022</td> <th>  Pseudo R-squ.:     </th>  <td>0.08312</td> \n",
       "</tr>\n",
       "<tr>\n",
       "  <th>Time:</th>                <td>11:21:07</td>     <th>  Log-Likelihood:    </th> <td> -483.16</td> \n",
       "</tr>\n",
       "<tr>\n",
       "  <th>converged:</th>             <td>True</td>       <th>  LL-Null:           </th> <td> -526.96</td> \n",
       "</tr>\n",
       "<tr>\n",
       "  <th>Covariance Type:</th>      <td>cluster</td>     <th>  LLR p-value:       </th> <td>8.758e-10</td>\n",
       "</tr>\n",
       "</table>\n",
       "<table class=\"simpletable\">\n",
       "<tr>\n",
       "             <td></td>               <th>coef</th>     <th>std err</th>      <th>z</th>      <th>P>|z|</th>  <th>[0.025</th>    <th>0.975]</th>  \n",
       "</tr>\n",
       "<tr>\n",
       "  <th>Cochabamba</th>             <td>    0.3152</td> <td>    0.272</td> <td>    1.161</td> <td> 0.246</td> <td>   -0.217</td> <td>    0.847</td>\n",
       "</tr>\n",
       "<tr>\n",
       "  <th>El_Alto</th>                <td>    0.4535</td> <td>    0.279</td> <td>    1.625</td> <td> 0.104</td> <td>   -0.093</td> <td>    1.000</td>\n",
       "</tr>\n",
       "<tr>\n",
       "  <th>La_Paz</th>                 <td>    0.7075</td> <td>    0.349</td> <td>    2.027</td> <td> 0.043</td> <td>    0.023</td> <td>    1.392</td>\n",
       "</tr>\n",
       "<tr>\n",
       "  <th>Oruro</th>                  <td>    0.8817</td> <td>    0.435</td> <td>    2.026</td> <td> 0.043</td> <td>    0.029</td> <td>    1.735</td>\n",
       "</tr>\n",
       "<tr>\n",
       "  <th>Shocks</th>                 <td>    0.8040</td> <td>    0.204</td> <td>    3.941</td> <td> 0.000</td> <td>    0.404</td> <td>    1.204</td>\n",
       "</tr>\n",
       "<tr>\n",
       "  <th>Manufacture</th>            <td>   -0.4750</td> <td>    0.325</td> <td>   -1.460</td> <td> 0.144</td> <td>   -1.112</td> <td>    0.163</td>\n",
       "</tr>\n",
       "<tr>\n",
       "  <th>Commerce</th>               <td>    0.0543</td> <td>    0.290</td> <td>    0.188</td> <td> 0.851</td> <td>   -0.513</td> <td>    0.622</td>\n",
       "</tr>\n",
       "<tr>\n",
       "  <th>Services</th>               <td>   -0.0396</td> <td>    0.248</td> <td>   -0.159</td> <td> 0.873</td> <td>   -0.526</td> <td>    0.447</td>\n",
       "</tr>\n",
       "<tr>\n",
       "  <th>Individual</th>             <td>    0.1402</td> <td>    0.330</td> <td>    0.425</td> <td> 0.671</td> <td>   -0.506</td> <td>    0.786</td>\n",
       "</tr>\n",
       "<tr>\n",
       "  <th>Groups</th>                 <td>    0.1404</td> <td>    0.296</td> <td>    0.475</td> <td> 0.635</td> <td>   -0.439</td> <td>    0.720</td>\n",
       "</tr>\n",
       "<tr>\n",
       "  <th>Village</th>                <td>   -0.0639</td> <td>    0.395</td> <td>   -0.162</td> <td> 0.872</td> <td>   -0.839</td> <td>    0.711</td>\n",
       "</tr>\n",
       "<tr>\n",
       "  <th>Others</th>                 <td>   -0.2010</td> <td>    0.273</td> <td>   -0.736</td> <td> 0.462</td> <td>   -0.736</td> <td>    0.334</td>\n",
       "</tr>\n",
       "<tr>\n",
       "  <th>Loan_Term</th>              <td>    0.1106</td> <td>    0.103</td> <td>    1.078</td> <td> 0.281</td> <td>   -0.090</td> <td>    0.312</td>\n",
       "</tr>\n",
       "<tr>\n",
       "  <th>Lenders</th>                <td>   -0.0085</td> <td>    0.143</td> <td>   -0.060</td> <td> 0.952</td> <td>   -0.288</td> <td>    0.271</td>\n",
       "</tr>\n",
       "<tr>\n",
       "  <th>Years_with_new_loans</th>   <td>   -0.3752</td> <td>    0.104</td> <td>   -3.623</td> <td> 0.000</td> <td>   -0.578</td> <td>   -0.172</td>\n",
       "</tr>\n",
       "<tr>\n",
       "  <th>Cohort_1997</th>            <td>    1.8354</td> <td>    0.338</td> <td>    5.431</td> <td> 0.000</td> <td>    1.173</td> <td>    2.498</td>\n",
       "</tr>\n",
       "<tr>\n",
       "  <th>Cohort_1998</th>            <td>    1.3395</td> <td>    0.302</td> <td>    4.441</td> <td> 0.000</td> <td>    0.748</td> <td>    1.931</td>\n",
       "</tr>\n",
       "<tr>\n",
       "  <th>Cohort_1999</th>            <td>    1.2087</td> <td>    0.292</td> <td>    4.142</td> <td> 0.000</td> <td>    0.637</td> <td>    1.781</td>\n",
       "</tr>\n",
       "<tr>\n",
       "  <th>Cohort_2000</th>            <td>    0.8864</td> <td>    0.288</td> <td>    3.078</td> <td> 0.002</td> <td>    0.322</td> <td>    1.451</td>\n",
       "</tr>\n",
       "<tr>\n",
       "  <th>Commercial</th>             <td>    0.8275</td> <td>    0.271</td> <td>    3.051</td> <td> 0.002</td> <td>    0.296</td> <td>    1.359</td>\n",
       "</tr>\n",
       "<tr>\n",
       "  <th>Age_Main_Income_Source</th> <td>   -0.0074</td> <td>    0.008</td> <td>   -0.935</td> <td> 0.350</td> <td>   -0.023</td> <td>    0.008</td>\n",
       "</tr>\n",
       "<tr>\n",
       "  <th>Education_Average</th>      <td>   -0.0514</td> <td>    0.025</td> <td>   -2.031</td> <td> 0.042</td> <td>   -0.101</td> <td>   -0.002</td>\n",
       "</tr>\n",
       "<tr>\n",
       "  <th>const</th>                  <td>    0.8016</td> <td>    0.562</td> <td>    1.426</td> <td> 0.154</td> <td>   -0.301</td> <td>    1.904</td>\n",
       "</tr>\n",
       "</table>"
      ],
      "text/plain": [
       "<class 'statsmodels.iolib.summary.Summary'>\n",
       "\"\"\"\n",
       "                           Logit Regression Results                           \n",
       "==============================================================================\n",
       "Dep. Variable:                   Over   No. Observations:                 1236\n",
       "Model:                          Logit   Df Residuals:                     1213\n",
       "Method:                           MLE   Df Model:                           22\n",
       "Date:                Thu, 13 Jan 2022   Pseudo R-squ.:                 0.08312\n",
       "Time:                        11:21:07   Log-Likelihood:                -483.16\n",
       "converged:                       True   LL-Null:                       -526.96\n",
       "Covariance Type:              cluster   LLR p-value:                 8.758e-10\n",
       "==========================================================================================\n",
       "                             coef    std err          z      P>|z|      [0.025      0.975]\n",
       "------------------------------------------------------------------------------------------\n",
       "Cochabamba                 0.3152      0.272      1.161      0.246      -0.217       0.847\n",
       "El_Alto                    0.4535      0.279      1.625      0.104      -0.093       1.000\n",
       "La_Paz                     0.7075      0.349      2.027      0.043       0.023       1.392\n",
       "Oruro                      0.8817      0.435      2.026      0.043       0.029       1.735\n",
       "Shocks                     0.8040      0.204      3.941      0.000       0.404       1.204\n",
       "Manufacture               -0.4750      0.325     -1.460      0.144      -1.112       0.163\n",
       "Commerce                   0.0543      0.290      0.188      0.851      -0.513       0.622\n",
       "Services                  -0.0396      0.248     -0.159      0.873      -0.526       0.447\n",
       "Individual                 0.1402      0.330      0.425      0.671      -0.506       0.786\n",
       "Groups                     0.1404      0.296      0.475      0.635      -0.439       0.720\n",
       "Village                   -0.0639      0.395     -0.162      0.872      -0.839       0.711\n",
       "Others                    -0.2010      0.273     -0.736      0.462      -0.736       0.334\n",
       "Loan_Term                  0.1106      0.103      1.078      0.281      -0.090       0.312\n",
       "Lenders                   -0.0085      0.143     -0.060      0.952      -0.288       0.271\n",
       "Years_with_new_loans      -0.3752      0.104     -3.623      0.000      -0.578      -0.172\n",
       "Cohort_1997                1.8354      0.338      5.431      0.000       1.173       2.498\n",
       "Cohort_1998                1.3395      0.302      4.441      0.000       0.748       1.931\n",
       "Cohort_1999                1.2087      0.292      4.142      0.000       0.637       1.781\n",
       "Cohort_2000                0.8864      0.288      3.078      0.002       0.322       1.451\n",
       "Commercial                 0.8275      0.271      3.051      0.002       0.296       1.359\n",
       "Age_Main_Income_Source    -0.0074      0.008     -0.935      0.350      -0.023       0.008\n",
       "Education_Average         -0.0514      0.025     -2.031      0.042      -0.101      -0.002\n",
       "const                      0.8016      0.562      1.426      0.154      -0.301       1.904\n",
       "==========================================================================================\n",
       "\"\"\""
      ]
     },
     "execution_count": 114,
     "metadata": {},
     "output_type": "execute_result"
    }
   ],
   "source": [
    "mygroups=data1['cuest'] #cluesters for robust covariance matrix\n",
    "result1 = model1.fit(full_output=True, disp=True, tol=0.0000000001, cov_type='cluster', cov_kwds={'groups': mygroups})\n",
    "result1.summary()"
   ]
  },
  {
   "cell_type": "markdown",
   "id": "acb3cca5",
   "metadata": {},
   "source": [
    "Equivalent output from Stata 17 after running the following line:\n",
    "    \n",
    "logit Over a_* Shocks Manufacture Commerce Services st_MFO st_Groups st_V  st_Others Term Lenders npres97 Coh_97-Coh_00 Commercial Age Education  ,  log vce(cluster cuest) \n"
   ]
  },
  {
   "attachments": {
    "image.png": {
     "image/png": "[encoded data removed]"
    }
   },
   "cell_type": "markdown",
   "id": "3f8dd823",
   "metadata": {},
   "source": [
    "![image.png](attachment:image.png)"
   ]
  },
  {
   "cell_type": "markdown",
   "id": "c4bbbc3d",
   "metadata": {},
   "source": [
    "# Logit I - Version 3 - ConditionalLogit"
   ]
  },
  {
   "cell_type": "code",
   "execution_count": 115,
   "id": "ef366ec8",
   "metadata": {},
   "outputs": [],
   "source": [
    "#dropping all variables with \"no within-group variance\"\n",
    "X1.drop(['const', 'Cochabamba', 'El_Alto', 'La_Paz', 'Oruro',\n",
    "        'Manufacture', 'Commerce', 'Services',\n",
    "        'Commercial',\n",
    "        'Age_Main_Income_Source', 'Education_Average'\n",
    "        ], axis=1, inplace=True)"
   ]
  },
  {
   "cell_type": "code",
   "execution_count": 116,
   "id": "92f64278",
   "metadata": {
    "scrolled": true
   },
   "outputs": [
    {
     "name": "stderr",
     "output_type": "stream",
     "text": [
      "C:\\Users\\adria\\anaconda3\\envs\\Python38forstatsmodels\\lib\\site-packages\\statsmodels\\discrete\\conditional_models.py:80: UserWarning: Dropped 887 groups and 1127 observations for having no within-group variance\n",
      "  warnings.warn(msg)\n"
     ]
    },
    {
     "name": "stdout",
     "output_type": "stream",
     "text": [
      "Optimization terminated successfully.\n",
      "         Current function value: 0.010668\n",
      "         Iterations: 137\n",
      "         Function evaluations: 139\n",
      "         Gradient evaluations: 139\n"
     ]
    },
    {
     "data": {
      "text/html": [
       "<table class=\"simpletable\">\n",
       "<caption>Conditional Logit Model Regression Results</caption>\n",
       "<tr>\n",
       "  <th>Dep. Variable:</th>        <td>Over</td>       <th>  No. Observations:  </th> <td>   109</td>\n",
       "</tr>\n",
       "<tr>\n",
       "  <th>Model:</th>          <td>ConditionalLogit</td> <th>  No. groups:        </th>   <td>42</td>  \n",
       "</tr>\n",
       "<tr>\n",
       "  <th>Log-Likelihood:</th>     <td> -13.186</td>     <th>  Min group size:    </th>    <td>2</td>  \n",
       "</tr>\n",
       "<tr>\n",
       "  <th>Method:</th>               <td>BFGS</td>       <th>  Max group size:    </th>    <td>5</td>  \n",
       "</tr>\n",
       "<tr>\n",
       "  <th>Date:</th>           <td>Thu, 13 Jan 2022</td> <th>  Mean group size:   </th>   <td>2.6</td> \n",
       "</tr>\n",
       "<tr>\n",
       "  <th>Time:</th>               <td>11:21:07</td>     <th>                     </th>    <td> </td>  \n",
       "</tr>\n",
       "</table>\n",
       "<table class=\"simpletable\">\n",
       "<tr>\n",
       "            <td></td>              <th>coef</th>     <th>std err</th>      <th>z</th>      <th>P>|z|</th>  <th>[0.025</th>    <th>0.975]</th>  \n",
       "</tr>\n",
       "<tr>\n",
       "  <th>Shocks</th>               <td>   -2.7467</td> <td>    1.622</td> <td>   -1.693</td> <td> 0.090</td> <td>   -5.926</td> <td>    0.433</td>\n",
       "</tr>\n",
       "<tr>\n",
       "  <th>Individual</th>           <td>    0.8955</td> <td>    1.150</td> <td>    0.778</td> <td> 0.436</td> <td>   -1.359</td> <td>    3.150</td>\n",
       "</tr>\n",
       "<tr>\n",
       "  <th>Groups</th>               <td>    4.9269</td> <td>    1.983</td> <td>    2.485</td> <td> 0.013</td> <td>    1.041</td> <td>    8.813</td>\n",
       "</tr>\n",
       "<tr>\n",
       "  <th>Village</th>              <td>    2.9369</td> <td>    1.857</td> <td>    1.581</td> <td> 0.114</td> <td>   -0.703</td> <td>    6.577</td>\n",
       "</tr>\n",
       "<tr>\n",
       "  <th>Others</th>               <td>    0.0686</td> <td>    1.079</td> <td>    0.064</td> <td> 0.949</td> <td>   -2.047</td> <td>    2.184</td>\n",
       "</tr>\n",
       "<tr>\n",
       "  <th>Loan_Term</th>            <td>    1.9461</td> <td>    0.753</td> <td>    2.585</td> <td> 0.010</td> <td>    0.470</td> <td>    3.422</td>\n",
       "</tr>\n",
       "<tr>\n",
       "  <th>Lenders</th>              <td>    8.9832</td> <td>   10.028</td> <td>    0.896</td> <td> 0.370</td> <td>  -10.672</td> <td>   28.638</td>\n",
       "</tr>\n",
       "<tr>\n",
       "  <th>Years_with_new_loans</th> <td>   -0.6091</td> <td>    0.738</td> <td>   -0.825</td> <td> 0.409</td> <td>   -2.056</td> <td>    0.838</td>\n",
       "</tr>\n",
       "<tr>\n",
       "  <th>Cohort_1997</th>          <td>    6.2055</td> <td>    2.552</td> <td>    2.432</td> <td> 0.015</td> <td>    1.204</td> <td>   11.207</td>\n",
       "</tr>\n",
       "<tr>\n",
       "  <th>Cohort_1998</th>          <td>    2.2865</td> <td>    1.976</td> <td>    1.157</td> <td> 0.247</td> <td>   -1.587</td> <td>    6.160</td>\n",
       "</tr>\n",
       "<tr>\n",
       "  <th>Cohort_1999</th>          <td>    4.2643</td> <td>    2.184</td> <td>    1.952</td> <td> 0.051</td> <td>   -0.017</td> <td>    8.545</td>\n",
       "</tr>\n",
       "<tr>\n",
       "  <th>Cohort_2000</th>          <td>    3.3816</td> <td>    2.213</td> <td>    1.528</td> <td> 0.127</td> <td>   -0.956</td> <td>    7.720</td>\n",
       "</tr>\n",
       "</table>"
      ],
      "text/plain": [
       "<class 'statsmodels.iolib.summary.Summary'>\n",
       "\"\"\"\n",
       "                  Conditional Logit Model Regression Results                  \n",
       "==============================================================================\n",
       "Dep. Variable:                   Over   No. Observations:                  109\n",
       "Model:               ConditionalLogit   No. groups:                         42\n",
       "Log-Likelihood:               -13.186   Min group size:                      2\n",
       "Method:                          BFGS   Max group size:                      5\n",
       "Date:                Thu, 13 Jan 2022   Mean group size:                   2.6\n",
       "Time:                        11:21:07                                         \n",
       "========================================================================================\n",
       "                           coef    std err          z      P>|z|      [0.025      0.975]\n",
       "----------------------------------------------------------------------------------------\n",
       "Shocks                  -2.7467      1.622     -1.693      0.090      -5.926       0.433\n",
       "Individual               0.8955      1.150      0.778      0.436      -1.359       3.150\n",
       "Groups                   4.9269      1.983      2.485      0.013       1.041       8.813\n",
       "Village                  2.9369      1.857      1.581      0.114      -0.703       6.577\n",
       "Others                   0.0686      1.079      0.064      0.949      -2.047       2.184\n",
       "Loan_Term                1.9461      0.753      2.585      0.010       0.470       3.422\n",
       "Lenders                  8.9832     10.028      0.896      0.370     -10.672      28.638\n",
       "Years_with_new_loans    -0.6091      0.738     -0.825      0.409      -2.056       0.838\n",
       "Cohort_1997              6.2055      2.552      2.432      0.015       1.204      11.207\n",
       "Cohort_1998              2.2865      1.976      1.157      0.247      -1.587       6.160\n",
       "Cohort_1999              4.2643      2.184      1.952      0.051      -0.017       8.545\n",
       "Cohort_2000              3.3816      2.213      1.528      0.127      -0.956       7.720\n",
       "========================================================================================\n",
       "\"\"\""
      ]
     },
     "execution_count": 116,
     "metadata": {},
     "output_type": "execute_result"
    }
   ],
   "source": [
    "model11 = ConditionalLogit(Y1, X1, groups = mygroups)\n",
    "result11 = model11.fit(full_output=True, disp=True, maxiter=500)\n",
    "result11.summary()"
   ]
  },
  {
   "cell_type": "markdown",
   "id": "b2bfcb5c",
   "metadata": {},
   "source": [
    "Comparable version from Stata using xtlogit fe or conditional logit: \n",
    "\n",
    "1) clogit Over a_* Shocks Manufacture Commerce Services st_MFO st_Groups st_V  st_Others Term Lenders npres97 Coh_97-Coh_00 Commercial  Age Education  ,  nolog group(cuest) \n",
    "\n",
    "2)xtlogit Over a_* Shocks Manufacture Commerce Services st_MFO st_Groups st_V  st_Others Term Lenders npres97 Coh_97-Coh_00 Commercial  Age Education  ,  nolog i(cuest) fe"
   ]
  },
  {
   "attachments": {
    "image.png": {
     "image/png": "[encoded data removed]"
    }
   },
   "cell_type": "markdown",
   "id": "bf152ca2",
   "metadata": {},
   "source": [
    "![image.png](attachment:image.png)"
   ]
  },
  {
   "cell_type": "markdown",
   "id": "99ca0287",
   "metadata": {},
   "source": [
    "# Logit I - Version 4 equivalent to Table 8.6, p. 150"
   ]
  },
  {
   "cell_type": "markdown",
   "id": "d73fc4a3",
   "metadata": {},
   "source": [
    "These are the results from Stata using \"xtlogit\".  xtlogit takes into account correcly the panel structure of the data and therefore, the results below are the best estimates for the coefficients and standard errors of the data.\n",
    "\n",
    "These results were obtained after running the following line:\n",
    "version 9: xtlogit Over a_* Shocks Manufacture Commerce Services st_MFO st_Groups st_V  st_Others Term Lenders npres97 Coh_97-Coh_00 Commercial  Age Education  ,  nolog i(cuest) re\n"
   ]
  },
  {
   "attachments": {
    "image.png": {
     "image/png": "[encoded data removed]"
    }
   },
   "cell_type": "markdown",
   "id": "a0d5cdf8",
   "metadata": {},
   "source": [
    "![image.png](attachment:image.png)"
   ]
  },
  {
   "attachments": {
    "image.png": {
     "image/png": "[encoded data removed]"
    }
   },
   "cell_type": "markdown",
   "id": "5f2dee57",
   "metadata": {},
   "source": [
    "![image.png](attachment:image.png)"
   ]
  },
  {
   "cell_type": "markdown",
   "id": "1b85a866",
   "metadata": {},
   "source": [
    "# DATAFRAME FOR LOGIT II"
   ]
  },
  {
   "cell_type": "code",
   "execution_count": 117,
   "id": "c385dd7d",
   "metadata": {},
   "outputs": [
    {
     "data": {
      "text/plain": [
       "(1282, 28)"
      ]
     },
     "execution_count": 117,
     "metadata": {},
     "output_type": "execute_result"
    }
   ],
   "source": [
    "xs2=['Cochabamba', 'El_Alto', 'La_Paz', 'Santa_Cruz',\n",
    "        'Shocks',\n",
    "        'Manufacture', 'Commerce', 'Services',\n",
    "        'Individual','Consumption', 'Groups',  'Others',\n",
    "        'Loan_Term', 'Lenders', 'First_timer',\n",
    "        'Cohort_1997', 'Cohort_1998', 'Cohort_1999', 'Cohort_2000',\n",
    "        'Default_First', \n",
    "        'Number_Potential_Workers', 'Age_Main_Income_Source', 'Education_Average', 'Diversification','Savings','Migrants'\n",
    "       ]\n",
    "vars2=['Lazy']+xs2+['cuest']\n",
    "data2=data_reduced[vars2]\n",
    "data2.shape"
   ]
  },
  {
   "cell_type": "code",
   "execution_count": 118,
   "id": "72b1539c",
   "metadata": {},
   "outputs": [
    {
     "data": {
      "text/plain": [
       "0.0    834\n",
       "1.0    228\n",
       "NaN    220\n",
       "Name: Lazy, dtype: int64"
      ]
     },
     "execution_count": 118,
     "metadata": {},
     "output_type": "execute_result"
    }
   ],
   "source": [
    "data2['Lazy'].value_counts(dropna=False)"
   ]
  },
  {
   "cell_type": "code",
   "execution_count": 119,
   "id": "98eb7e8c",
   "metadata": {},
   "outputs": [
    {
     "data": {
      "text/plain": [
       "Lazy                        220\n",
       "Cochabamba                    0\n",
       "El_Alto                       0\n",
       "La_Paz                        0\n",
       "Santa_Cruz                    0\n",
       "Shocks                        0\n",
       "Manufacture                   0\n",
       "Commerce                      0\n",
       "Services                      0\n",
       "Individual                    0\n",
       "Consumption                   0\n",
       "Groups                        0\n",
       "Others                        0\n",
       "Loan_Term                    10\n",
       "Lenders                       0\n",
       "First_timer                   0\n",
       "Cohort_1997                   0\n",
       "Cohort_1998                   0\n",
       "Cohort_1999                   0\n",
       "Cohort_2000                   0\n",
       "Default_First                 0\n",
       "Number_Potential_Workers      0\n",
       "Age_Main_Income_Source        3\n",
       "Education_Average            11\n",
       "Diversification               0\n",
       "Savings                       0\n",
       "Migrants                      0\n",
       "cuest                         0\n",
       "dtype: int64"
      ]
     },
     "execution_count": 119,
     "metadata": {},
     "output_type": "execute_result"
    }
   ],
   "source": [
    "data2.isna().sum()"
   ]
  },
  {
   "cell_type": "code",
   "execution_count": 120,
   "id": "7c13d0f1",
   "metadata": {},
   "outputs": [
    {
     "name": "stderr",
     "output_type": "stream",
     "text": [
      "C:\\Users\\adria\\anaconda3\\envs\\Python38forstatsmodels\\lib\\site-packages\\pandas\\util\\_decorators.py:311: SettingWithCopyWarning: \n",
      "A value is trying to be set on a copy of a slice from a DataFrame\n",
      "\n",
      "See the caveats in the documentation: https://pandas.pydata.org/pandas-docs/stable/user_guide/indexing.html#returning-a-view-versus-a-copy\n",
      "  return func(*args, **kwargs)\n"
     ]
    },
    {
     "data": {
      "text/plain": [
       "(1048, 28)"
      ]
     },
     "execution_count": 120,
     "metadata": {},
     "output_type": "execute_result"
    }
   ],
   "source": [
    "data2.dropna(axis=0, inplace=True)\n",
    "data2.shape"
   ]
  },
  {
   "cell_type": "code",
   "execution_count": 121,
   "id": "408795a3",
   "metadata": {},
   "outputs": [
    {
     "data": {
      "text/plain": [
       "0.0    822\n",
       "1.0    226\n",
       "Name: Lazy, dtype: int64"
      ]
     },
     "execution_count": 121,
     "metadata": {},
     "output_type": "execute_result"
    }
   ],
   "source": [
    "Y2=data2['Lazy']\n",
    "Y2.to_csv(\"dataY2.csv\", index = False)\n",
    "Y2.value_counts(dropna=False)"
   ]
  },
  {
   "cell_type": "code",
   "execution_count": 122,
   "id": "c0922353",
   "metadata": {},
   "outputs": [],
   "source": [
    "X2=data2[xs2]\n",
    "X2=statsmodels.tools.tools.add_constant(X2, prepend=False) #False, set constant to last column, True first column\n",
    "X2.to_csv(\"dataX2.csv\", index = False)"
   ]
  },
  {
   "cell_type": "markdown",
   "id": "d80bd583",
   "metadata": {},
   "source": [
    "# Logit II - Version 1.  Simple logit"
   ]
  },
  {
   "cell_type": "markdown",
   "id": "1359bc6e",
   "metadata": {},
   "source": [
    "Please see comments under Logit I - Version 1 before."
   ]
  },
  {
   "cell_type": "code",
   "execution_count": 123,
   "id": "37a7975a",
   "metadata": {},
   "outputs": [
    {
     "name": "stdout",
     "output_type": "stream",
     "text": [
      "Optimization terminated successfully.\n",
      "         Current function value: 0.462384\n",
      "         Iterations 8\n"
     ]
    },
    {
     "data": {
      "text/html": [
       "<table class=\"simpletable\">\n",
       "<caption>Logit Regression Results</caption>\n",
       "<tr>\n",
       "  <th>Dep. Variable:</th>         <td>Lazy</td>       <th>  No. Observations:  </th>  <td>  1048</td>  \n",
       "</tr>\n",
       "<tr>\n",
       "  <th>Model:</th>                 <td>Logit</td>      <th>  Df Residuals:      </th>  <td>  1021</td>  \n",
       "</tr>\n",
       "<tr>\n",
       "  <th>Method:</th>                 <td>MLE</td>       <th>  Df Model:          </th>  <td>    26</td>  \n",
       "</tr>\n",
       "<tr>\n",
       "  <th>Date:</th>            <td>Thu, 13 Jan 2022</td> <th>  Pseudo R-squ.:     </th>  <td>0.1131</td>  \n",
       "</tr>\n",
       "<tr>\n",
       "  <th>Time:</th>                <td>11:21:07</td>     <th>  Log-Likelihood:    </th> <td> -484.58</td> \n",
       "</tr>\n",
       "<tr>\n",
       "  <th>converged:</th>             <td>True</td>       <th>  LL-Null:           </th> <td> -546.37</td> \n",
       "</tr>\n",
       "<tr>\n",
       "  <th>Covariance Type:</th>     <td>nonrobust</td>    <th>  LLR p-value:       </th> <td>1.166e-14</td>\n",
       "</tr>\n",
       "</table>\n",
       "<table class=\"simpletable\">\n",
       "<tr>\n",
       "              <td></td>                <th>coef</th>     <th>std err</th>      <th>z</th>      <th>P>|z|</th>  <th>[0.025</th>    <th>0.975]</th>  \n",
       "</tr>\n",
       "<tr>\n",
       "  <th>Cochabamba</th>               <td>   -1.7373</td> <td>    0.355</td> <td>   -4.892</td> <td> 0.000</td> <td>   -2.433</td> <td>   -1.041</td>\n",
       "</tr>\n",
       "<tr>\n",
       "  <th>El_Alto</th>                  <td>   -1.7050</td> <td>    0.327</td> <td>   -5.212</td> <td> 0.000</td> <td>   -2.346</td> <td>   -1.064</td>\n",
       "</tr>\n",
       "<tr>\n",
       "  <th>La_Paz</th>                   <td>   -1.3732</td> <td>    0.332</td> <td>   -4.141</td> <td> 0.000</td> <td>   -2.023</td> <td>   -0.723</td>\n",
       "</tr>\n",
       "<tr>\n",
       "  <th>Santa_Cruz</th>               <td>   -1.1351</td> <td>    0.316</td> <td>   -3.586</td> <td> 0.000</td> <td>   -1.755</td> <td>   -0.515</td>\n",
       "</tr>\n",
       "<tr>\n",
       "  <th>Shocks</th>                   <td>    0.0506</td> <td>    0.192</td> <td>    0.263</td> <td> 0.793</td> <td>   -0.327</td> <td>    0.428</td>\n",
       "</tr>\n",
       "<tr>\n",
       "  <th>Manufacture</th>              <td>    0.3093</td> <td>    0.289</td> <td>    1.069</td> <td> 0.285</td> <td>   -0.258</td> <td>    0.877</td>\n",
       "</tr>\n",
       "<tr>\n",
       "  <th>Commerce</th>                 <td>   -0.0970</td> <td>    0.250</td> <td>   -0.387</td> <td> 0.698</td> <td>   -0.588</td> <td>    0.394</td>\n",
       "</tr>\n",
       "<tr>\n",
       "  <th>Services</th>                 <td>   -0.0258</td> <td>    0.207</td> <td>   -0.125</td> <td> 0.901</td> <td>   -0.432</td> <td>    0.380</td>\n",
       "</tr>\n",
       "<tr>\n",
       "  <th>Individual</th>               <td>    1.5334</td> <td>    0.562</td> <td>    2.728</td> <td> 0.006</td> <td>    0.432</td> <td>    2.635</td>\n",
       "</tr>\n",
       "<tr>\n",
       "  <th>Consumption</th>              <td>    2.2464</td> <td>    0.572</td> <td>    3.930</td> <td> 0.000</td> <td>    1.126</td> <td>    3.367</td>\n",
       "</tr>\n",
       "<tr>\n",
       "  <th>Groups</th>                   <td>    1.1181</td> <td>    0.554</td> <td>    2.017</td> <td> 0.044</td> <td>    0.031</td> <td>    2.205</td>\n",
       "</tr>\n",
       "<tr>\n",
       "  <th>Others</th>                   <td>    1.5241</td> <td>    0.578</td> <td>    2.636</td> <td> 0.008</td> <td>    0.391</td> <td>    2.657</td>\n",
       "</tr>\n",
       "<tr>\n",
       "  <th>Loan_Term</th>                <td>    0.0365</td> <td>    0.045</td> <td>    0.805</td> <td> 0.421</td> <td>   -0.052</td> <td>    0.125</td>\n",
       "</tr>\n",
       "<tr>\n",
       "  <th>Lenders</th>                  <td>    0.0540</td> <td>    0.115</td> <td>    0.468</td> <td> 0.640</td> <td>   -0.172</td> <td>    0.280</td>\n",
       "</tr>\n",
       "<tr>\n",
       "  <th>First_timer</th>              <td>   -0.0638</td> <td>    0.190</td> <td>   -0.336</td> <td> 0.737</td> <td>   -0.436</td> <td>    0.308</td>\n",
       "</tr>\n",
       "<tr>\n",
       "  <th>Cohort_1997</th>              <td>    0.8693</td> <td>    0.402</td> <td>    2.160</td> <td> 0.031</td> <td>    0.080</td> <td>    1.658</td>\n",
       "</tr>\n",
       "<tr>\n",
       "  <th>Cohort_1998</th>              <td>    0.7846</td> <td>    0.390</td> <td>    2.010</td> <td> 0.044</td> <td>    0.019</td> <td>    1.550</td>\n",
       "</tr>\n",
       "<tr>\n",
       "  <th>Cohort_1999</th>              <td>    0.7529</td> <td>    0.393</td> <td>    1.915</td> <td> 0.055</td> <td>   -0.018</td> <td>    1.524</td>\n",
       "</tr>\n",
       "<tr>\n",
       "  <th>Cohort_2000</th>              <td>    0.4280</td> <td>    0.420</td> <td>    1.018</td> <td> 0.309</td> <td>   -0.396</td> <td>    1.252</td>\n",
       "</tr>\n",
       "<tr>\n",
       "  <th>Default_First</th>            <td>    0.6958</td> <td>    0.225</td> <td>    3.088</td> <td> 0.002</td> <td>    0.254</td> <td>    1.138</td>\n",
       "</tr>\n",
       "<tr>\n",
       "  <th>Number_Potential_Workers</th> <td>    0.0203</td> <td>    0.052</td> <td>    0.391</td> <td> 0.696</td> <td>   -0.082</td> <td>    0.122</td>\n",
       "</tr>\n",
       "<tr>\n",
       "  <th>Age_Main_Income_Source</th>   <td>    0.0056</td> <td>    0.009</td> <td>    0.653</td> <td> 0.514</td> <td>   -0.011</td> <td>    0.022</td>\n",
       "</tr>\n",
       "<tr>\n",
       "  <th>Education_Average</th>        <td>    0.0166</td> <td>    0.024</td> <td>    0.679</td> <td> 0.497</td> <td>   -0.031</td> <td>    0.065</td>\n",
       "</tr>\n",
       "<tr>\n",
       "  <th>Diversification</th>          <td>   -0.0425</td> <td>    0.117</td> <td>   -0.363</td> <td> 0.717</td> <td>   -0.272</td> <td>    0.187</td>\n",
       "</tr>\n",
       "<tr>\n",
       "  <th>Savings</th>                  <td>    0.0363</td> <td>    0.174</td> <td>    0.209</td> <td> 0.834</td> <td>   -0.304</td> <td>    0.377</td>\n",
       "</tr>\n",
       "<tr>\n",
       "  <th>Migrants</th>                 <td>   -0.0650</td> <td>    0.238</td> <td>   -0.273</td> <td> 0.785</td> <td>   -0.531</td> <td>    0.401</td>\n",
       "</tr>\n",
       "<tr>\n",
       "  <th>const</th>                    <td>   -2.8190</td> <td>    0.840</td> <td>   -3.354</td> <td> 0.001</td> <td>   -4.466</td> <td>   -1.172</td>\n",
       "</tr>\n",
       "</table>"
      ],
      "text/plain": [
       "<class 'statsmodels.iolib.summary.Summary'>\n",
       "\"\"\"\n",
       "                           Logit Regression Results                           \n",
       "==============================================================================\n",
       "Dep. Variable:                   Lazy   No. Observations:                 1048\n",
       "Model:                          Logit   Df Residuals:                     1021\n",
       "Method:                           MLE   Df Model:                           26\n",
       "Date:                Thu, 13 Jan 2022   Pseudo R-squ.:                  0.1131\n",
       "Time:                        11:21:07   Log-Likelihood:                -484.58\n",
       "converged:                       True   LL-Null:                       -546.37\n",
       "Covariance Type:            nonrobust   LLR p-value:                 1.166e-14\n",
       "============================================================================================\n",
       "                               coef    std err          z      P>|z|      [0.025      0.975]\n",
       "--------------------------------------------------------------------------------------------\n",
       "Cochabamba                  -1.7373      0.355     -4.892      0.000      -2.433      -1.041\n",
       "El_Alto                     -1.7050      0.327     -5.212      0.000      -2.346      -1.064\n",
       "La_Paz                      -1.3732      0.332     -4.141      0.000      -2.023      -0.723\n",
       "Santa_Cruz                  -1.1351      0.316     -3.586      0.000      -1.755      -0.515\n",
       "Shocks                       0.0506      0.192      0.263      0.793      -0.327       0.428\n",
       "Manufacture                  0.3093      0.289      1.069      0.285      -0.258       0.877\n",
       "Commerce                    -0.0970      0.250     -0.387      0.698      -0.588       0.394\n",
       "Services                    -0.0258      0.207     -0.125      0.901      -0.432       0.380\n",
       "Individual                   1.5334      0.562      2.728      0.006       0.432       2.635\n",
       "Consumption                  2.2464      0.572      3.930      0.000       1.126       3.367\n",
       "Groups                       1.1181      0.554      2.017      0.044       0.031       2.205\n",
       "Others                       1.5241      0.578      2.636      0.008       0.391       2.657\n",
       "Loan_Term                    0.0365      0.045      0.805      0.421      -0.052       0.125\n",
       "Lenders                      0.0540      0.115      0.468      0.640      -0.172       0.280\n",
       "First_timer                 -0.0638      0.190     -0.336      0.737      -0.436       0.308\n",
       "Cohort_1997                  0.8693      0.402      2.160      0.031       0.080       1.658\n",
       "Cohort_1998                  0.7846      0.390      2.010      0.044       0.019       1.550\n",
       "Cohort_1999                  0.7529      0.393      1.915      0.055      -0.018       1.524\n",
       "Cohort_2000                  0.4280      0.420      1.018      0.309      -0.396       1.252\n",
       "Default_First                0.6958      0.225      3.088      0.002       0.254       1.138\n",
       "Number_Potential_Workers     0.0203      0.052      0.391      0.696      -0.082       0.122\n",
       "Age_Main_Income_Source       0.0056      0.009      0.653      0.514      -0.011       0.022\n",
       "Education_Average            0.0166      0.024      0.679      0.497      -0.031       0.065\n",
       "Diversification             -0.0425      0.117     -0.363      0.717      -0.272       0.187\n",
       "Savings                      0.0363      0.174      0.209      0.834      -0.304       0.377\n",
       "Migrants                    -0.0650      0.238     -0.273      0.785      -0.531       0.401\n",
       "const                       -2.8190      0.840     -3.354      0.001      -4.466      -1.172\n",
       "============================================================================================\n",
       "\"\"\""
      ]
     },
     "execution_count": 123,
     "metadata": {},
     "output_type": "execute_result"
    }
   ],
   "source": [
    "model2 = sm.Logit(Y2,X2)\n",
    "result2 = model2.fit(full_output=True, disp=True, tol=0.0000000001)\n",
    "result2.summary()"
   ]
  },
  {
   "cell_type": "markdown",
   "id": "99f66aac",
   "metadata": {},
   "source": [
    "Equivalent output from Stata 17 after running the following line:\n",
    "    \n",
    "logit Lazy  a_Cbba a_El_Alto a_La_Paz a_Sta_Cruz Shocks Manufacture Commerce Services st_MFO st_CONS st_Groups  st_Others Term Lenders First_timer Coh_97-Coh_00 Default_First  Pot1460 Age  Education Diver Sav*  Migrants\t ,  nolog"
   ]
  },
  {
   "attachments": {
    "image.png": {
     "image/png": "[encoded data removed]"
    }
   },
   "cell_type": "markdown",
   "id": "411263e7",
   "metadata": {},
   "source": [
    "![image.png](attachment:image.png)"
   ]
  },
  {
   "cell_type": "markdown",
   "id": "3f75f1e7",
   "metadata": {},
   "source": [
    "# Logit II - Version 2 - Logit with clustered covariance matrix"
   ]
  },
  {
   "cell_type": "markdown",
   "id": "f1f9db6e",
   "metadata": {},
   "source": [
    "Please see comments under Logit I - Version 2 before."
   ]
  },
  {
   "cell_type": "code",
   "execution_count": 124,
   "id": "d2989805",
   "metadata": {},
   "outputs": [
    {
     "name": "stdout",
     "output_type": "stream",
     "text": [
      "Optimization terminated successfully.\n",
      "         Current function value: 0.462384\n",
      "         Iterations 8\n"
     ]
    },
    {
     "data": {
      "text/html": [
       "<table class=\"simpletable\">\n",
       "<caption>Logit Regression Results</caption>\n",
       "<tr>\n",
       "  <th>Dep. Variable:</th>         <td>Lazy</td>       <th>  No. Observations:  </th>  <td>  1048</td>  \n",
       "</tr>\n",
       "<tr>\n",
       "  <th>Model:</th>                 <td>Logit</td>      <th>  Df Residuals:      </th>  <td>  1021</td>  \n",
       "</tr>\n",
       "<tr>\n",
       "  <th>Method:</th>                 <td>MLE</td>       <th>  Df Model:          </th>  <td>    26</td>  \n",
       "</tr>\n",
       "<tr>\n",
       "  <th>Date:</th>            <td>Thu, 13 Jan 2022</td> <th>  Pseudo R-squ.:     </th>  <td>0.1131</td>  \n",
       "</tr>\n",
       "<tr>\n",
       "  <th>Time:</th>                <td>11:21:07</td>     <th>  Log-Likelihood:    </th> <td> -484.58</td> \n",
       "</tr>\n",
       "<tr>\n",
       "  <th>converged:</th>             <td>True</td>       <th>  LL-Null:           </th> <td> -546.37</td> \n",
       "</tr>\n",
       "<tr>\n",
       "  <th>Covariance Type:</th>      <td>cluster</td>     <th>  LLR p-value:       </th> <td>1.166e-14</td>\n",
       "</tr>\n",
       "</table>\n",
       "<table class=\"simpletable\">\n",
       "<tr>\n",
       "              <td></td>                <th>coef</th>     <th>std err</th>      <th>z</th>      <th>P>|z|</th>  <th>[0.025</th>    <th>0.975]</th>  \n",
       "</tr>\n",
       "<tr>\n",
       "  <th>Cochabamba</th>               <td>   -1.7373</td> <td>    0.369</td> <td>   -4.714</td> <td> 0.000</td> <td>   -2.460</td> <td>   -1.015</td>\n",
       "</tr>\n",
       "<tr>\n",
       "  <th>El_Alto</th>                  <td>   -1.7050</td> <td>    0.341</td> <td>   -5.000</td> <td> 0.000</td> <td>   -2.373</td> <td>   -1.037</td>\n",
       "</tr>\n",
       "<tr>\n",
       "  <th>La_Paz</th>                   <td>   -1.3732</td> <td>    0.356</td> <td>   -3.860</td> <td> 0.000</td> <td>   -2.070</td> <td>   -0.676</td>\n",
       "</tr>\n",
       "<tr>\n",
       "  <th>Santa_Cruz</th>               <td>   -1.1351</td> <td>    0.330</td> <td>   -3.441</td> <td> 0.001</td> <td>   -1.782</td> <td>   -0.489</td>\n",
       "</tr>\n",
       "<tr>\n",
       "  <th>Shocks</th>                   <td>    0.0506</td> <td>    0.197</td> <td>    0.257</td> <td> 0.797</td> <td>   -0.335</td> <td>    0.436</td>\n",
       "</tr>\n",
       "<tr>\n",
       "  <th>Manufacture</th>              <td>    0.3093</td> <td>    0.285</td> <td>    1.086</td> <td> 0.278</td> <td>   -0.249</td> <td>    0.868</td>\n",
       "</tr>\n",
       "<tr>\n",
       "  <th>Commerce</th>                 <td>   -0.0970</td> <td>    0.279</td> <td>   -0.347</td> <td> 0.728</td> <td>   -0.645</td> <td>    0.451</td>\n",
       "</tr>\n",
       "<tr>\n",
       "  <th>Services</th>                 <td>   -0.0258</td> <td>    0.219</td> <td>   -0.118</td> <td> 0.906</td> <td>   -0.454</td> <td>    0.403</td>\n",
       "</tr>\n",
       "<tr>\n",
       "  <th>Individual</th>               <td>    1.5334</td> <td>    0.563</td> <td>    2.723</td> <td> 0.006</td> <td>    0.430</td> <td>    2.637</td>\n",
       "</tr>\n",
       "<tr>\n",
       "  <th>Consumption</th>              <td>    2.2464</td> <td>    0.572</td> <td>    3.925</td> <td> 0.000</td> <td>    1.125</td> <td>    3.368</td>\n",
       "</tr>\n",
       "<tr>\n",
       "  <th>Groups</th>                   <td>    1.1181</td> <td>    0.563</td> <td>    1.985</td> <td> 0.047</td> <td>    0.014</td> <td>    2.222</td>\n",
       "</tr>\n",
       "<tr>\n",
       "  <th>Others</th>                   <td>    1.5241</td> <td>    0.581</td> <td>    2.623</td> <td> 0.009</td> <td>    0.385</td> <td>    2.663</td>\n",
       "</tr>\n",
       "<tr>\n",
       "  <th>Loan_Term</th>                <td>    0.0365</td> <td>    0.047</td> <td>    0.780</td> <td> 0.436</td> <td>   -0.055</td> <td>    0.128</td>\n",
       "</tr>\n",
       "<tr>\n",
       "  <th>Lenders</th>                  <td>    0.0540</td> <td>    0.112</td> <td>    0.482</td> <td> 0.630</td> <td>   -0.165</td> <td>    0.273</td>\n",
       "</tr>\n",
       "<tr>\n",
       "  <th>First_timer</th>              <td>   -0.0638</td> <td>    0.193</td> <td>   -0.331</td> <td> 0.741</td> <td>   -0.442</td> <td>    0.314</td>\n",
       "</tr>\n",
       "<tr>\n",
       "  <th>Cohort_1997</th>              <td>    0.8693</td> <td>    0.406</td> <td>    2.139</td> <td> 0.032</td> <td>    0.073</td> <td>    1.666</td>\n",
       "</tr>\n",
       "<tr>\n",
       "  <th>Cohort_1998</th>              <td>    0.7846</td> <td>    0.388</td> <td>    2.023</td> <td> 0.043</td> <td>    0.024</td> <td>    1.545</td>\n",
       "</tr>\n",
       "<tr>\n",
       "  <th>Cohort_1999</th>              <td>    0.7529</td> <td>    0.408</td> <td>    1.846</td> <td> 0.065</td> <td>   -0.046</td> <td>    1.552</td>\n",
       "</tr>\n",
       "<tr>\n",
       "  <th>Cohort_2000</th>              <td>    0.4280</td> <td>    0.423</td> <td>    1.012</td> <td> 0.312</td> <td>   -0.401</td> <td>    1.257</td>\n",
       "</tr>\n",
       "<tr>\n",
       "  <th>Default_First</th>            <td>    0.6958</td> <td>    0.217</td> <td>    3.210</td> <td> 0.001</td> <td>    0.271</td> <td>    1.121</td>\n",
       "</tr>\n",
       "<tr>\n",
       "  <th>Number_Potential_Workers</th> <td>    0.0203</td> <td>    0.053</td> <td>    0.387</td> <td> 0.698</td> <td>   -0.083</td> <td>    0.123</td>\n",
       "</tr>\n",
       "<tr>\n",
       "  <th>Age_Main_Income_Source</th>   <td>    0.0056</td> <td>    0.009</td> <td>    0.628</td> <td> 0.530</td> <td>   -0.012</td> <td>    0.023</td>\n",
       "</tr>\n",
       "<tr>\n",
       "  <th>Education_Average</th>        <td>    0.0166</td> <td>    0.027</td> <td>    0.624</td> <td> 0.533</td> <td>   -0.036</td> <td>    0.069</td>\n",
       "</tr>\n",
       "<tr>\n",
       "  <th>Diversification</th>          <td>   -0.0425</td> <td>    0.118</td> <td>   -0.359</td> <td> 0.719</td> <td>   -0.275</td> <td>    0.189</td>\n",
       "</tr>\n",
       "<tr>\n",
       "  <th>Savings</th>                  <td>    0.0363</td> <td>    0.183</td> <td>    0.199</td> <td> 0.842</td> <td>   -0.321</td> <td>    0.394</td>\n",
       "</tr>\n",
       "<tr>\n",
       "  <th>Migrants</th>                 <td>   -0.0650</td> <td>    0.253</td> <td>   -0.257</td> <td> 0.797</td> <td>   -0.561</td> <td>    0.431</td>\n",
       "</tr>\n",
       "<tr>\n",
       "  <th>const</th>                    <td>   -2.8190</td> <td>    0.793</td> <td>   -3.556</td> <td> 0.000</td> <td>   -4.373</td> <td>   -1.265</td>\n",
       "</tr>\n",
       "</table>"
      ],
      "text/plain": [
       "<class 'statsmodels.iolib.summary.Summary'>\n",
       "\"\"\"\n",
       "                           Logit Regression Results                           \n",
       "==============================================================================\n",
       "Dep. Variable:                   Lazy   No. Observations:                 1048\n",
       "Model:                          Logit   Df Residuals:                     1021\n",
       "Method:                           MLE   Df Model:                           26\n",
       "Date:                Thu, 13 Jan 2022   Pseudo R-squ.:                  0.1131\n",
       "Time:                        11:21:07   Log-Likelihood:                -484.58\n",
       "converged:                       True   LL-Null:                       -546.37\n",
       "Covariance Type:              cluster   LLR p-value:                 1.166e-14\n",
       "============================================================================================\n",
       "                               coef    std err          z      P>|z|      [0.025      0.975]\n",
       "--------------------------------------------------------------------------------------------\n",
       "Cochabamba                  -1.7373      0.369     -4.714      0.000      -2.460      -1.015\n",
       "El_Alto                     -1.7050      0.341     -5.000      0.000      -2.373      -1.037\n",
       "La_Paz                      -1.3732      0.356     -3.860      0.000      -2.070      -0.676\n",
       "Santa_Cruz                  -1.1351      0.330     -3.441      0.001      -1.782      -0.489\n",
       "Shocks                       0.0506      0.197      0.257      0.797      -0.335       0.436\n",
       "Manufacture                  0.3093      0.285      1.086      0.278      -0.249       0.868\n",
       "Commerce                    -0.0970      0.279     -0.347      0.728      -0.645       0.451\n",
       "Services                    -0.0258      0.219     -0.118      0.906      -0.454       0.403\n",
       "Individual                   1.5334      0.563      2.723      0.006       0.430       2.637\n",
       "Consumption                  2.2464      0.572      3.925      0.000       1.125       3.368\n",
       "Groups                       1.1181      0.563      1.985      0.047       0.014       2.222\n",
       "Others                       1.5241      0.581      2.623      0.009       0.385       2.663\n",
       "Loan_Term                    0.0365      0.047      0.780      0.436      -0.055       0.128\n",
       "Lenders                      0.0540      0.112      0.482      0.630      -0.165       0.273\n",
       "First_timer                 -0.0638      0.193     -0.331      0.741      -0.442       0.314\n",
       "Cohort_1997                  0.8693      0.406      2.139      0.032       0.073       1.666\n",
       "Cohort_1998                  0.7846      0.388      2.023      0.043       0.024       1.545\n",
       "Cohort_1999                  0.7529      0.408      1.846      0.065      -0.046       1.552\n",
       "Cohort_2000                  0.4280      0.423      1.012      0.312      -0.401       1.257\n",
       "Default_First                0.6958      0.217      3.210      0.001       0.271       1.121\n",
       "Number_Potential_Workers     0.0203      0.053      0.387      0.698      -0.083       0.123\n",
       "Age_Main_Income_Source       0.0056      0.009      0.628      0.530      -0.012       0.023\n",
       "Education_Average            0.0166      0.027      0.624      0.533      -0.036       0.069\n",
       "Diversification             -0.0425      0.118     -0.359      0.719      -0.275       0.189\n",
       "Savings                      0.0363      0.183      0.199      0.842      -0.321       0.394\n",
       "Migrants                    -0.0650      0.253     -0.257      0.797      -0.561       0.431\n",
       "const                       -2.8190      0.793     -3.556      0.000      -4.373      -1.265\n",
       "============================================================================================\n",
       "\"\"\""
      ]
     },
     "execution_count": 124,
     "metadata": {},
     "output_type": "execute_result"
    }
   ],
   "source": [
    "model2 = sm.Logit(Y2,X2, missing= 'drop')\n",
    "mygroups=data2['cuest'] #clusters for robust covariance matrix\n",
    "result2 = model2.fit(full_output=True, disp=True, tol=0.0000000001, cov_type='cluster', cov_kwds={'groups': mygroups})\n",
    "result2.summary()"
   ]
  },
  {
   "cell_type": "markdown",
   "id": "f1838781",
   "metadata": {},
   "source": [
    "Equivalent output from Stata 17 after running the following line:\n",
    "    \n",
    "logit Lazy  a_Cbba a_El_Alto a_La_Paz a_Sta_Cruz Shocks Manufacture Commerce Services st_MFO st_CONS st_Groups  st_Others Term Lenders First_timer Coh_97-Coh_00 Default_First  Pot1460 Age  Education Diver Sav*  Migrants\t ,  nolog vce(cluster cuest) "
   ]
  },
  {
   "attachments": {
    "image.png": {
     "image/png": "[encoded data removed]"
    }
   },
   "cell_type": "markdown",
   "id": "35e602a5",
   "metadata": {},
   "source": [
    "![image.png](attachment:image.png)"
   ]
  },
  {
   "cell_type": "markdown",
   "id": "35fc0531",
   "metadata": {},
   "source": [
    "# Logit II - Version 3 - using ConditionalLogit"
   ]
  },
  {
   "cell_type": "code",
   "execution_count": 125,
   "id": "453006b8",
   "metadata": {},
   "outputs": [],
   "source": [
    "#dropping all variables with \"no within-group variance\"\n",
    "X2.drop(['const', 'Cochabamba', 'El_Alto', 'La_Paz', 'Santa_Cruz',\n",
    "        'Manufacture', 'Commerce', 'Services',\n",
    "        'Number_Potential_Workers','Age_Main_Income_Source', 'Education_Average', 'Savings','Migrants'\n",
    "        ], axis=1, inplace=True)"
   ]
  },
  {
   "cell_type": "code",
   "execution_count": 126,
   "id": "e0997a33",
   "metadata": {},
   "outputs": [
    {
     "name": "stderr",
     "output_type": "stream",
     "text": [
      "C:\\Users\\adria\\anaconda3\\envs\\Python38forstatsmodels\\lib\\site-packages\\statsmodels\\discrete\\conditional_models.py:80: UserWarning: Dropped 748 groups and 904 observations for having no within-group variance\n",
      "  warnings.warn(msg)\n"
     ]
    },
    {
     "name": "stdout",
     "output_type": "stream",
     "text": [
      "Optimization terminated successfully.\n",
      "         Current function value: 0.032805\n",
      "         Iterations: 136\n",
      "         Function evaluations: 138\n",
      "         Gradient evaluations: 138\n"
     ]
    },
    {
     "data": {
      "text/html": [
       "<table class=\"simpletable\">\n",
       "<caption>Conditional Logit Model Regression Results</caption>\n",
       "<tr>\n",
       "  <th>Dep. Variable:</th>        <td>Lazy</td>       <th>  No. Observations:  </th> <td>   144</td>\n",
       "</tr>\n",
       "<tr>\n",
       "  <th>Model:</th>          <td>ConditionalLogit</td> <th>  No. groups:        </th>   <td>58</td>  \n",
       "</tr>\n",
       "<tr>\n",
       "  <th>Log-Likelihood:</th>     <td> -34.379</td>     <th>  Min group size:    </th>    <td>2</td>  \n",
       "</tr>\n",
       "<tr>\n",
       "  <th>Method:</th>               <td>BFGS</td>       <th>  Max group size:    </th>    <td>5</td>  \n",
       "</tr>\n",
       "<tr>\n",
       "  <th>Date:</th>           <td>Thu, 13 Jan 2022</td> <th>  Mean group size:   </th>   <td>2.5</td> \n",
       "</tr>\n",
       "<tr>\n",
       "  <th>Time:</th>               <td>11:21:08</td>     <th>                     </th>    <td> </td>  \n",
       "</tr>\n",
       "</table>\n",
       "<table class=\"simpletable\">\n",
       "<tr>\n",
       "         <td></td>            <th>coef</th>     <th>std err</th>      <th>z</th>      <th>P>|z|</th>  <th>[0.025</th>    <th>0.975]</th>  \n",
       "</tr>\n",
       "<tr>\n",
       "  <th>Shocks</th>          <td>    1.4334</td> <td>    0.880</td> <td>    1.629</td> <td> 0.103</td> <td>   -0.292</td> <td>    3.158</td>\n",
       "</tr>\n",
       "<tr>\n",
       "  <th>Individual</th>      <td>    3.3345</td> <td>    1.499</td> <td>    2.225</td> <td> 0.026</td> <td>    0.397</td> <td>    6.272</td>\n",
       "</tr>\n",
       "<tr>\n",
       "  <th>Consumption</th>     <td>    4.3219</td> <td>    1.578</td> <td>    2.739</td> <td> 0.006</td> <td>    1.229</td> <td>    7.415</td>\n",
       "</tr>\n",
       "<tr>\n",
       "  <th>Groups</th>          <td>    2.1678</td> <td>    1.429</td> <td>    1.517</td> <td> 0.129</td> <td>   -0.633</td> <td>    4.969</td>\n",
       "</tr>\n",
       "<tr>\n",
       "  <th>Others</th>          <td>    4.4892</td> <td>    1.672</td> <td>    2.685</td> <td> 0.007</td> <td>    1.213</td> <td>    7.766</td>\n",
       "</tr>\n",
       "<tr>\n",
       "  <th>Loan_Term</th>       <td>   -0.5054</td> <td>    0.214</td> <td>   -2.364</td> <td> 0.018</td> <td>   -0.924</td> <td>   -0.086</td>\n",
       "</tr>\n",
       "<tr>\n",
       "  <th>Lenders</th>         <td>    0.3208</td> <td>    1.224</td> <td>    0.262</td> <td> 0.793</td> <td>   -2.078</td> <td>    2.719</td>\n",
       "</tr>\n",
       "<tr>\n",
       "  <th>First_timer</th>     <td>   -0.0129</td> <td>    0.638</td> <td>   -0.020</td> <td> 0.984</td> <td>   -1.263</td> <td>    1.237</td>\n",
       "</tr>\n",
       "<tr>\n",
       "  <th>Cohort_1997</th>     <td>    2.7564</td> <td>    1.156</td> <td>    2.383</td> <td> 0.017</td> <td>    0.490</td> <td>    5.023</td>\n",
       "</tr>\n",
       "<tr>\n",
       "  <th>Cohort_1998</th>     <td>    2.3246</td> <td>    0.969</td> <td>    2.398</td> <td> 0.016</td> <td>    0.425</td> <td>    4.224</td>\n",
       "</tr>\n",
       "<tr>\n",
       "  <th>Cohort_1999</th>     <td>    1.5618</td> <td>    0.965</td> <td>    1.618</td> <td> 0.106</td> <td>   -0.330</td> <td>    3.453</td>\n",
       "</tr>\n",
       "<tr>\n",
       "  <th>Cohort_2000</th>     <td>    2.2246</td> <td>    1.231</td> <td>    1.807</td> <td> 0.071</td> <td>   -0.189</td> <td>    4.638</td>\n",
       "</tr>\n",
       "<tr>\n",
       "  <th>Default_First</th>   <td>    0.4395</td> <td>    0.416</td> <td>    1.056</td> <td> 0.291</td> <td>   -0.376</td> <td>    1.255</td>\n",
       "</tr>\n",
       "<tr>\n",
       "  <th>Diversification</th> <td>    0.7582</td> <td>    1.123</td> <td>    0.675</td> <td> 0.500</td> <td>   -1.443</td> <td>    2.959</td>\n",
       "</tr>\n",
       "</table>"
      ],
      "text/plain": [
       "<class 'statsmodels.iolib.summary.Summary'>\n",
       "\"\"\"\n",
       "                  Conditional Logit Model Regression Results                  \n",
       "==============================================================================\n",
       "Dep. Variable:                   Lazy   No. Observations:                  144\n",
       "Model:               ConditionalLogit   No. groups:                         58\n",
       "Log-Likelihood:               -34.379   Min group size:                      2\n",
       "Method:                          BFGS   Max group size:                      5\n",
       "Date:                Thu, 13 Jan 2022   Mean group size:                   2.5\n",
       "Time:                        11:21:08                                         \n",
       "===================================================================================\n",
       "                      coef    std err          z      P>|z|      [0.025      0.975]\n",
       "-----------------------------------------------------------------------------------\n",
       "Shocks              1.4334      0.880      1.629      0.103      -0.292       3.158\n",
       "Individual          3.3345      1.499      2.225      0.026       0.397       6.272\n",
       "Consumption         4.3219      1.578      2.739      0.006       1.229       7.415\n",
       "Groups              2.1678      1.429      1.517      0.129      -0.633       4.969\n",
       "Others              4.4892      1.672      2.685      0.007       1.213       7.766\n",
       "Loan_Term          -0.5054      0.214     -2.364      0.018      -0.924      -0.086\n",
       "Lenders             0.3208      1.224      0.262      0.793      -2.078       2.719\n",
       "First_timer        -0.0129      0.638     -0.020      0.984      -1.263       1.237\n",
       "Cohort_1997         2.7564      1.156      2.383      0.017       0.490       5.023\n",
       "Cohort_1998         2.3246      0.969      2.398      0.016       0.425       4.224\n",
       "Cohort_1999         1.5618      0.965      1.618      0.106      -0.330       3.453\n",
       "Cohort_2000         2.2246      1.231      1.807      0.071      -0.189       4.638\n",
       "Default_First       0.4395      0.416      1.056      0.291      -0.376       1.255\n",
       "Diversification     0.7582      1.123      0.675      0.500      -1.443       2.959\n",
       "===================================================================================\n",
       "\"\"\""
      ]
     },
     "execution_count": 126,
     "metadata": {},
     "output_type": "execute_result"
    }
   ],
   "source": [
    "model22 = ConditionalLogit(Y2, X2, groups = mygroups)\n",
    "result22 = model22.fit(full_output=True, disp=True, maxiter=500)\n",
    "result22.summary()"
   ]
  },
  {
   "cell_type": "markdown",
   "id": "55a6d06a",
   "metadata": {},
   "source": [
    "Comparable version from Stata using xtlogit fe or conditional clogit: \n",
    "\n",
    "1) clogit Lazy  a_Cbba a_El_Alto a_La_Paz a_Sta_Cruz Shocks Manufacture Commerce Services st_MFO st_CONS st_Groups  st_Others Term Lenders First_timer Coh_97-Coh_00 Default_First  Pot1460 Age  Education Diver Sav*  Migrants ,  nolog group(cuest) \n",
    "\n",
    "2) xtlogit Lazy  a_Cbba a_El_Alto a_La_Paz a_Sta_Cruz Shocks Manufacture Commerce Services st_MFO st_CONS st_Groups  st_Others Term Lenders First_timer Coh_97-Coh_00 Default_First  Pot1460 Age  Education Diver Sav*  Migrants,  nolog i(cuest) fe"
   ]
  },
  {
   "attachments": {
    "image.png": {
     "image/png": "[encoded data removed]"
    }
   },
   "cell_type": "markdown",
   "id": "e9481262",
   "metadata": {},
   "source": [
    "![image.png](attachment:image.png)"
   ]
  },
  {
   "cell_type": "markdown",
   "id": "36d60da5",
   "metadata": {},
   "source": [
    "# Logit II - Version 4 - equivalent to Table 8.8 page 156."
   ]
  },
  {
   "cell_type": "markdown",
   "id": "77157103",
   "metadata": {},
   "source": [
    "Results from Stata using \"xtlogit\".  xtlogit takes into account correcly the panel structure of the data and therefore, the results below are the best estimates for the standard errors.\n",
    "\n",
    "These results were obtained after running the following line:\n",
    "version 9: xtlogit Lazy  a_Cbba a_El_Alto a_La_Paz a_Sta_Cruz Shocks Manufacture Commerce Services st_MFO st_CONS st_Groups  st_Others Term Lenders First_timer Coh_97-Coh_00 Default_First Pot1460 Age Education Diver Sav*  Migrants ,  nolog i(cuest) re \n"
   ]
  },
  {
   "attachments": {
    "image.png": {
     "image/png": "[encoded data removed]"
    }
   },
   "cell_type": "markdown",
   "id": "9e48a1a8",
   "metadata": {},
   "source": [
    "![image.png](attachment:image.png)"
   ]
  },
  {
   "attachments": {
    "image.png": {
     "image/png": "[encoded data removed]"
    }
   },
   "cell_type": "markdown",
   "id": "fde196b2",
   "metadata": {},
   "source": [
    "![image.png](attachment:image.png)"
   ]
  },
  {
   "cell_type": "markdown",
   "id": "4e60a467",
   "metadata": {},
   "source": [
    "# Updates on January 13, 2022"
   ]
  },
  {
   "cell_type": "markdown",
   "id": "8e6c1a67",
   "metadata": {},
   "source": [
    "-Fix typo in \"Goal of this notebook\"\n",
    "\n",
    "-added 'six' to data_reduced on cell 103"
   ]
  },
  {
   "cell_type": "code",
   "execution_count": 127,
   "id": "cd6a906c",
   "metadata": {},
   "outputs": [],
   "source": [
    "#saving main dataframe for future use in other notebooks\n",
    "data_reduced.to_pickle(\"data_reduced_from_wrangling.pkl\")\n",
    "data_reduced.to_csv(\"data_reduced_from_wrangling.csv\", index=False)"
   ]
  },
  {
   "cell_type": "code",
   "execution_count": 128,
   "id": "cea9a918",
   "metadata": {},
   "outputs": [
    {
     "name": "stdout",
     "output_type": "stream",
     "text": [
      "Everything ran OK on: 2022-01-13 11:21:08.664657\n"
     ]
    }
   ],
   "source": [
    "from datetime import datetime\n",
    "now = datetime.now()\n",
    "print(\"Everything ran OK on:\", now)"
   ]
  }
 ],
 "metadata": {
  "kernelspec": {
   "display_name": "Python 3 (ipykernel)",
   "language": "python",
   "name": "python3"
  },
  "language_info": {
   "codemirror_mode": {
    "name": "ipython",
    "version": 3
   },
   "file_extension": ".py",
   "mimetype": "text/x-python",
   "name": "python",
   "nbconvert_exporter": "python",
   "pygments_lexer": "ipython3",
   "version": "3.8.12"
  }
 },
 "nbformat": 4,
 "nbformat_minor": 5
}
